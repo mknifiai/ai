{
 "cells": [
  {
   "cell_type": "markdown",
   "id": "80efa0c8-cc45-451e-b21b-ab3f300549f5",
   "metadata": {},
   "source": [
    "# Reinforcement Learning with Neural Netowrks as Q learning"
   ]
  },
  {
   "cell_type": "markdown",
   "id": "63da00a4-04e6-4bc1-949a-18719298f52f",
   "metadata": {},
   "source": [
    "## The Cart Pole problem "
   ]
  },
  {
   "cell_type": "markdown",
   "id": "d98dc872-8319-44aa-a748-0f02c7c13a08",
   "metadata": {},
   "source": [
    "![CartPoleUrl](https://gymnasium.farama.org/_images/cart_pole.gif \"CartPole\")"
   ]
  },
  {
   "cell_type": "markdown",
   "id": "b07acebf-b99d-443b-b98e-d1f61cdc8af3",
   "metadata": {},
   "source": [
    "<img src=\"fig/cp.png\" width=400 height=400 />"
   ]
  },
  {
   "cell_type": "markdown",
   "id": "26575e2b-da8f-497f-9ca0-950cae59cd48",
   "metadata": {},
   "source": [
    "## Environment, actions, states, rewards"
   ]
  },
  {
   "cell_type": "markdown",
   "id": "e8734bc6-659c-4dd6-b142-119c1d13fdf8",
   "metadata": {},
   "source": [
    "The state is represented by 4 numbers:\n",
    "\n",
    "- The cart position x from -2.4 to 2.4.\n",
    "- The cart velocity v\n",
    "- The pole angle θ with respect to the vertical from -12 to 12 degrees (from -0.21 to 0.21 in radians)\n",
    "- The pole angular velocity ω. This is the rate of change of θ."
   ]
  },
  {
   "cell_type": "markdown",
   "id": "6859b8a7-fd84-4f2b-87d0-19380d1c947d",
   "metadata": {},
   "source": [
    "What about the actions our agent can perform?\n",
    "\n",
    "- 0 : Push the cart to the left.\n",
    "- 1 : Push the cart to the right."
   ]
  },
  {
   "cell_type": "markdown",
   "id": "9c80dc44-800b-4c9b-badb-6b15b54af638",
   "metadata": {},
   "source": [
    "The reward is +1 for every step taken. This means that the longer the agent keeps the pole standing, the higher the cumulative reward."
   ]
  },
  {
   "cell_type": "markdown",
   "id": "33d6678d-8558-4ff8-b83c-5da534878bc9",
   "metadata": {},
   "source": [
    "### Parametric Q-learning"
   ]
  },
  {
   "cell_type": "markdown",
   "id": "1d951680-d301-4302-ac02-ce128f2b3a03",
   "metadata": {},
   "source": [
    "The state-space for the CartPole consists of 4 continuous numbers"
   ]
  },
  {
   "cell_type": "markdown",
   "id": "e1a20f61-7c24-45ff-bd1c-c2e9a27670ce",
   "metadata": {},
   "source": [
    "<img src=\"fig/ps.png\" width=200 height=200 />"
   ]
  },
  {
   "cell_type": "markdown",
   "id": "7c0c2666-5b10-4841-b861-d8962f075adb",
   "metadata": {},
   "source": [
    "In a continuous state space like this, we represent the optimal Q-value function using a parametric form"
   ]
  },
  {
   "cell_type": "markdown",
   "id": "6775de7c-8a17-46f1-80d5-0b34d5119f6e",
   "metadata": {},
   "source": [
    "<img src=\"fig/vp.png\" width=200 height=200 />"
   ]
  },
  {
   "cell_type": "markdown",
   "id": "bb1e5faf-c377-46f5-8c68-d3bd4c3c4b85",
   "metadata": {},
   "source": [
    "where\n",
    "\n",
    "- Q* is a model architecture, like a linear model, or a very deep feed-forward neural network.\n",
    "- We estimate the set of parameters __$P = (p_{1},p_{2},...,p_{m})$__ using the experiences __(s, a, r, s’)__ the agent collects during training"
   ]
  },
  {
   "cell_type": "markdown",
   "id": "8f1e8cf2-7ef3-4c08-b773-9f642028c0bb",
   "metadata": {},
   "source": [
    "#### How do you learn the vector of parameter P?"
   ]
  },
  {
   "cell_type": "markdown",
   "id": "aabcb2d4-37d8-4aab-8099-235a152433e6",
   "metadata": {},
   "source": [
    "<img src=\"fig/pbell.png\" width=300 height=300 />"
   ]
  },
  {
   "cell_type": "markdown",
   "id": "5248c0da-0016-4c31-b35f-b98dd0429198",
   "metadata": {},
   "source": [
    "the function Q*(s, a, P) satisfies the Bellman optimality equation, a key equation in Reinforcement Learning"
   ]
  },
  {
   "cell_type": "markdown",
   "id": "f6be22d5-c305-403d-805f-6134b435c8f2",
   "metadata": {},
   "source": [
    "<img src=\"fig/popt.png\" width=300 height=300 />"
   ]
  },
  {
   "cell_type": "markdown",
   "id": "9009b62c-d796-4c06-bee8-8d2c41ce44ab",
   "metadata": {},
   "source": [
    "that tells us that the maximum future reward __Q*(s, a, P)__ is the reward r the agent receives for entering the current state __s__ plus the maximum future reward for the next state __s’__ ."
   ]
  },
  {
   "cell_type": "markdown",
   "id": "fcbcea5b-b6bf-4aa2-8f25-8b012a652583",
   "metadata": {},
   "source": [
    "The optimal parameters P* are those that bring the left-hand side of this equation as close as possible to the right-hand side.\n",
    "\n",
    "\n",
    "This is an optimization problem that you can solve with modern Machine Learning techniques. More precisely, Supervised Machine Learning techniques.\n",
    "\n",
    "\n",
    "A supervised ML problem has 3 ingredients:\n",
    "\n",
    "\n",
    "- the input features and corresponding targets\n",
    "- a set of parameters we need to determine\n",
    "- a model architecture that depends on these parametersand that maps features to model outputs\n",
    "\n",
    "\n",
    "The goal is to find the parameters that make the model outputs match the target values"
   ]
  },
  {
   "cell_type": "markdown",
   "id": "5ad27396-32f8-4b2e-8d1f-3e6e9b013a7c",
   "metadata": {},
   "source": [
    "<img src=\"fig/qft.png\" width=400 height=400 />"
   ]
  },
  {
   "cell_type": "markdown",
   "id": "a8b2f49e-fa20-496f-854d-e74813294cb2",
   "metadata": {},
   "source": [
    "In other words, we want to find the parameters P* that minimize the distance, aka loss in the ML jargon."
   ]
  },
  {
   "cell_type": "markdown",
   "id": "59f38b39-fa3c-42a6-904b-c12031c0c29d",
   "metadata": {},
   "source": [
    "<img src=\"fig/qpd.png\" width=400 height=400 />"
   ]
  },
  {
   "cell_type": "markdown",
   "id": "1d5bdf76-1150-4e98-88cb-c152c4f58642",
   "metadata": {},
   "source": [
    "Given your current estimate P⁰, a mini-batch of experiences (s, a, r, s’) and a suitable learning rate you can refine your estimation P⁰ with the SGD update formula"
   ]
  },
  {
   "cell_type": "markdown",
   "id": "a3669f79-9ff6-44d0-9780-bd4ebb1ca3b9",
   "metadata": {},
   "source": [
    "<img src=\"fig/url.png\" width=300 height=300 />"
   ]
  },
  {
   "cell_type": "markdown",
   "id": "2d35abe1-7c57-439b-8174-087b632f32a4",
   "metadata": {},
   "source": [
    "## Deep Q-learning agent"
   ]
  },
  {
   "cell_type": "markdown",
   "id": "3406405b-9680-4b81-bd67-cd06e2c09967",
   "metadata": {},
   "source": [
    "- A deep neural network is used to approximate the different Q-values for each possible action at a state"
   ]
  },
  {
   "cell_type": "markdown",
   "id": "4cf0c899-1645-497a-a025-6c5e2cdf57ab",
   "metadata": {},
   "source": [
    "<img src=\"fig/deepQ.jpg\" width=500 height=500 />"
   ]
  },
  {
   "cell_type": "markdown",
   "id": "628fc3c5-1bd0-49da-be9a-e49ecd3d0d65",
   "metadata": {},
   "source": [
    "#### Network training pseudocode for reinforcement learning"
   ]
  },
  {
   "cell_type": "code",
   "execution_count": 1,
   "id": "68a9b37e-55df-4ecc-8533-324159e4e051",
   "metadata": {},
   "outputs": [],
   "source": [
    "def train_qlearn(environment, Qnet, alpha=0.001, gamma=0.0, epsilon=0.05):\n",
    "    s= s0 # initialize start state\n",
    "    for epoch in range(max_epochs): # an epoch is one pass\n",
    "        sum_sq = 0 # reset to zero for each pass\n",
    "        while s is not TERMINAL: # perform steps of one full episode\n",
    "            a = epsilon_greedy(Qnet(s,a)) # net: Q[s,a]-values \n",
    "            (r, sp) = environment(a)\n",
    "            output = Qnet.forward_pass(s, a)\n",
    "            target = r + gamma * max(Qnet(sp)) # bootstrapping\n",
    "            sum_sq += (target - output)**2\n",
    "            s = sp\n",
    "        grad = Qnet.gradient(sum_sq) \n",
    "        Qnet.backward_pass(grad, alpha)\n",
    "    return Qnet # Q-values"
   ]
  },
  {
   "cell_type": "markdown",
   "id": "de89408e-d707-40fa-af97-de53a18eeaee",
   "metadata": {},
   "source": [
    "What is bootstrapping?\n",
    "\n",
    "It is the process of subsequent refinement by which old estimates of a value are refined with new update"
   ]
  },
  {
   "cell_type": "markdown",
   "id": "2cea68df-98ff-4849-8cee-a98d998d7c31",
   "metadata": {},
   "source": [
    "__There are three problems with naive deep Q-learner__\n",
    "\n",
    "1 - convergence to the optimal Q-function depends on full coverage of the state space, yet the state space is too large to sample fully. \n",
    "\n",
    "2- there is a strong correlation between subsequent training samples, with a real risk of local optima.\n",
    "\n",
    "3- the loss function of gradient descent literally has a moving target, and bootstrapping may diverge."
   ]
  },
  {
   "cell_type": "markdown",
   "id": "04cf4b41-7493-4850-b16c-d490f3c1fe9f",
   "metadata": {},
   "source": [
    "__To help us stabilize the training, There are three different solutions:__\n",
    "\n",
    "- Experience Replay to make more efficient use of experiences.\n",
    "- Fixed Q-Target to stabilize the training.\n",
    "- Double Deep Q-Learning, to handle the problem of the overestimation of Q-values."
   ]
  },
  {
   "cell_type": "markdown",
   "id": "d4e8d651-544c-413f-bcb5-8a1ec7dc5a58",
   "metadata": {},
   "source": [
    "#### Experience Replay in Deep Q-Learning has two functions:\n",
    "\n",
    "1- Make more efficient use of the experiences during the training. Usually, in online reinforcement learning, the agent interacts with the environment, gets experiences (state, action, reward, and next state), learns from them (updates the neural network), and discards them. This is not efficient.\n",
    "\n",
    "2- Avoid forgetting previous experiences (aka catastrophic interference, or catastrophic forgetting) and reduce the correlation between experience"
   ]
  },
  {
   "cell_type": "markdown",
   "id": "f9b5b727-db77-4516-bfcf-7baef1e78748",
   "metadata": {},
   "source": [
    "#### Fixed Q-Target to stabilize the training\n",
    "\n",
    "When we want to calculate the TD error (aka the loss), we calculate the difference between the TD target (Q-Target) and the current Q-value (estimation of Q).\n",
    "\n",
    "But we don’t have any idea of the real TD target. We need to estimate it.\n",
    "\n",
    "\n",
    "However, the problem is that we are using the same parameters (weights) for estimating the TD target and the Q-value. Consequently, there is a significant correlation between the TD target and the parameters we are changing.\n",
    "\n",
    "Therefore, at every step of training, both our Q-values and the target values shift. We’re getting closer to our target, but the target is also moving. It’s like chasing a moving target! This can lead to significant oscillation in training.\n",
    "\n",
    "__We use the following technqiues to address this issue__:\n",
    "\n",
    "- Use a separate network with fixed parameters for estimating the TD Target\n",
    "- Copy the parameters from our Deep Q-Network every C steps to update the target network."
   ]
  },
  {
   "cell_type": "markdown",
   "id": "6d5392ee-f59c-4ff0-9b02-91fefad2288b",
   "metadata": {},
   "source": [
    "### Deep Q-Network Algorithm"
   ]
  },
  {
   "cell_type": "markdown",
   "id": "133a7bd4-3f71-4e12-8f9d-4d7df51ccda3",
   "metadata": {},
   "source": [
    "<img src=\"fig/DQN_algorithm.jpg\" width=600 height=600 />"
   ]
  },
  {
   "cell_type": "code",
   "execution_count": 2,
   "id": "226ba8d3-5191-41ca-9e98-47e66281a542",
   "metadata": {},
   "outputs": [],
   "source": [
    "import gymnasium as gym\n",
    "import torch\n",
    "import torch.nn as nn\n",
    "import torch.optim as optim\n",
    "import numpy as np\n",
    "import random\n",
    "from collections import deque\n",
    "import matplotlib\n",
    "import matplotlib.pyplot as plt"
   ]
  },
  {
   "cell_type": "code",
   "execution_count": 3,
   "id": "59a7077d-a212-49e9-82e5-8b73f48008a8",
   "metadata": {},
   "outputs": [],
   "source": [
    "\n",
    "from IPython import display\n",
    "\n",
    "plt.ion()\n",
    "\n",
    "# if GPU is to be used\n",
    "device = torch.device(\n",
    "    \"cuda\" if torch.cuda.is_available() else \"cpu\" )"
   ]
  },
  {
   "cell_type": "code",
   "execution_count": 4,
   "id": "2e786a92-c8f9-4ca7-a162-52e702eaa9a9",
   "metadata": {},
   "outputs": [],
   "source": [
    "# Neural Network for DQN\n",
    "class DQN(nn.Module):\n",
    "    def __init__(self, state_size, action_size):\n",
    "        super(DQN, self).__init__()\n",
    "        self.fc1 = nn.Linear(state_size, 128)\n",
    "        self.fc2 = nn.Linear(128, 128)\n",
    "        self.fc3 = nn.Linear(128, action_size)\n",
    "\n",
    "    def forward(self, x):\n",
    "        x = torch.relu(self.fc1(x))\n",
    "        x = torch.relu(self.fc2(x))\n",
    "        x = self.fc3(x)\n",
    "        return x"
   ]
  },
  {
   "cell_type": "code",
   "execution_count": 5,
   "id": "b3f85e39-fe65-4229-b936-fe391dcb1ced",
   "metadata": {},
   "outputs": [],
   "source": [
    "def plot_durations(show_result=False):\n",
    "    plt.figure(1)\n",
    "    durations_t = torch.tensor(episode_durations, dtype=torch.float)\n",
    "    if show_result:\n",
    "        plt.title('Result')\n",
    "    else:\n",
    "        plt.clf()\n",
    "        plt.title('Training...')\n",
    "    plt.xlabel('Episode')\n",
    "    plt.ylabel('Duration')\n",
    "    plt.plot(durations_t.numpy())\n",
    "    # Take 100 episode averages and plot them too\n",
    "    if len(durations_t) >= 100:\n",
    "        means = durations_t.unfold(0, 100, 1).mean(1).view(-1)\n",
    "        means = torch.cat((torch.zeros(99), means))\n",
    "        plt.plot(means.numpy())\n",
    "\n",
    "    plt.pause(0.001)  # pause a bit so that plots are updated\n",
    "\n",
    "    if not show_result:\n",
    "        display.display(plt.gcf())\n",
    "        display.clear_output(wait=True)\n",
    "    else:\n",
    "        display.display(plt.gcf())"
   ]
  },
  {
   "cell_type": "code",
   "execution_count": 6,
   "id": "59cdd540-a5db-4a60-abf7-f69a78f5c631",
   "metadata": {},
   "outputs": [],
   "source": [
    "# Hyperparameters\n",
    "env = gym.make(\"CartPole-v1\", render_mode=\"human\")\n",
    "state_size = env.observation_space.shape[0]\n",
    "action_size = env.action_space.n\n",
    "\n",
    "learning_rate = 0.001\n",
    "gamma = 0.99\n",
    "epsilon = 1.0\n",
    "epsilon_min = 0.05\n",
    "epsilon_decay = 0.995\n",
    "batch_size = 64\n",
    "memory_size = 100000\n",
    "episodes = 900\n",
    "target_update_freq = 10"
   ]
  },
  {
   "cell_type": "code",
   "execution_count": 7,
   "id": "2f8c937e-1f94-4353-9843-faadaa98197b",
   "metadata": {},
   "outputs": [],
   "source": [
    "def remember(state, action, reward, next_state, done):\n",
    "    memory.append((state, action, reward, next_state, done))\n",
    "\n",
    "def act(state, epsilon):\n",
    "    if np.random.rand() <= epsilon:\n",
    "        return random.randrange(action_size)\n",
    "    state = torch.FloatTensor(state).unsqueeze(0)\n",
    "    with torch.no_grad():\n",
    "        q_values = policy_net(state)\n",
    "    return torch.argmax(q_values).item()\n",
    "\n",
    "def optimize_model():\n",
    "    \n",
    "    if len(memory) < batch_size:\n",
    "        return None\n",
    "\n",
    "    minibatch = random.sample(memory, batch_size)\n",
    "    states, actions, rewards, next_states, dones = zip(*minibatch)\n",
    "\n",
    "    states = torch.FloatTensor(np.array(states))\n",
    "    actions = torch.LongTensor(np.array(actions))\n",
    "    rewards = torch.FloatTensor(np.array(rewards))\n",
    "    next_states = torch.FloatTensor(np.array(next_states))\n",
    "    dones = torch.FloatTensor(np.array(dones))\n",
    "\n",
    "    # Calculate Q-values\n",
    "    q_values = policy_net(states).gather(1, actions.unsqueeze(1)).squeeze(1)\n",
    "    \n",
    "    with torch.no_grad():\n",
    "        next_q_values = target_net(next_states).max(1)[0]\n",
    "    \n",
    "    target_q_values = rewards + gamma * next_q_values * (1 - dones)\n",
    "\n",
    "    # Update Policy Network\n",
    "    loss = criterion(q_values, target_q_values.detach())\n",
    "    optimizer.zero_grad()\n",
    "    loss.backward()\n",
    "    optimizer.step()\n",
    "\n",
    "    return loss.item()"
   ]
  },
  {
   "cell_type": "code",
   "execution_count": 8,
   "id": "a0f26ae5-c17d-432b-9cb0-0a99a22efe38",
   "metadata": {},
   "outputs": [],
   "source": [
    "# Experience Replay Memory\n",
    "memory = deque(maxlen=memory_size)\n",
    "\n",
    "# Initialize networks\n",
    "policy_net = DQN(state_size, action_size)\n",
    "target_net = DQN(state_size, action_size)\n",
    "target_net.load_state_dict(policy_net.state_dict())\n",
    "\n",
    "target_net.eval()\n",
    "\n",
    "# Loss Function and Optimizer\n",
    "criterion = nn.MSELoss()\n",
    "criterion = nn.HuberLoss()\n",
    "\n",
    "optimizer = optim.Adam(policy_net.parameters(), lr=learning_rate)"
   ]
  },
  {
   "cell_type": "code",
   "execution_count": 9,
   "id": "a19047ce-416b-4959-99e8-f11541e5b906",
   "metadata": {},
   "outputs": [
    {
     "data": {
      "image/png": "[encoded data removed]",
      "text/plain": [
       "<Figure size 640x480 with 1 Axes>"
      ]
     },
     "metadata": {},
     "output_type": "display_data"
    },
    {
     "data": {
      "text/plain": [
       "<Figure size 640x480 with 0 Axes>"
      ]
     },
     "metadata": {},
     "output_type": "display_data"
    },
    {
     "data": {
      "text/plain": [
       "<Figure size 640x480 with 0 Axes>"
      ]
     },
     "metadata": {},
     "output_type": "display_data"
    }
   ],
   "source": [
    "# Training Loop\n",
    "\n",
    "from itertools import count\n",
    "\n",
    "episode_durations = []\n",
    "\n",
    "for episode in range(episodes):\n",
    "    state = env.reset()[0]\n",
    "    total_reward = 0\n",
    "    episode_loss = 0\n",
    "\n",
    "    # Render the environment\n",
    "    env.render()\n",
    "\n",
    "    for t in count():\n",
    "        \n",
    "        action = act(state, epsilon)\n",
    "        next_state, reward, terminated, truncated, _ = env.step(action)\n",
    "\n",
    "        done = terminated or truncated\n",
    "        \n",
    "        remember(state, action, reward, next_state, done)\n",
    "\n",
    "        state = next_state\n",
    "        total_reward += reward\n",
    "\n",
    "        # Perform a replay (train the model)\n",
    "        loss = optimize_model()\n",
    "\n",
    "        if done:\n",
    "            episode_durations.append(t + 1)\n",
    "            plot_durations()\n",
    "            break\n",
    "    # Decay epsilon (for exploration vs exploitation)\n",
    "    epsilon = max(epsilon_min, epsilon_decay * epsilon)\n",
    "\n",
    "    # Update target network periodically\n",
    "    if episode % target_update_freq == 0:\n",
    "        target_net.load_state_dict(policy_net.state_dict())\n",
    "\n",
    "env.close()\n",
    "plot_durations(show_result=True)\n",
    "plt.ioff()\n",
    "plt.show()"
   ]
  },
  {
   "cell_type": "code",
   "execution_count": null,
   "id": "09f9604b-bee4-4fd8-b2ef-d628eb38f63b",
   "metadata": {},
   "outputs": [],
   "source": []
  }
 ],
 "metadata": {
  "kernelspec": {
   "display_name": "Python 3 (ipykernel)",
   "language": "python",
   "name": "python3"
  },
  "language_info": {
   "codemirror_mode": {
    "name": "ipython",
    "version": 3
   },
   "file_extension": ".py",
   "mimetype": "text/x-python",
   "name": "python",
   "nbconvert_exporter": "python",
   "pygments_lexer": "ipython3",
   "version": "3.12.1"
  }
 },
 "nbformat": 4,
 "nbformat_minor": 5
}
