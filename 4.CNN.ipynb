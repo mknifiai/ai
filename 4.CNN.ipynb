{
 "cells": [
  {
   "cell_type": "markdown",
   "id": "beb2028b-f78a-4611-b9b2-8547cd544c2f",
   "metadata": {},
   "source": [
    "# Convolutional Neural Networks"
   ]
  },
  {
   "cell_type": "markdown",
   "id": "f3b5940a-a2d7-4963-8069-2f14b664a938",
   "metadata": {},
   "source": [
    "### Images properties\n",
    "\n",
    "- They are high-dimensional.\n",
    "\n",
    "    - A typical image for a classification task contains 224×224 RGB values (i.e., 150,528 input dimensions)\n",
    "      \n",
    "    - With fully connected networks, this poses obvious practical problems in terms of the required training data, memory, and computation. \n",
    "\n",
    "- Local pattern: nearby image pixels are statistically related.\n",
    "\n",
    "    - spatial relations between local patterns are informative\n",
    "    \n",
    "    - fully connected networks have no notion of “nearby” and treat the relationship between every input equally\n",
    "\n",
    "\n",
    "- The interpretation of an image is stable under geometric transformations.\n",
    "\n"
   ]
  },
  {
   "cell_type": "markdown",
   "id": "ff373990-a2ea-4f95-9823-114bf8074537",
   "metadata": {},
   "source": [
    "## Basic components of convolutional neural networks (CNN)"
   ]
  },
  {
   "cell_type": "markdown",
   "id": "f69b8524-a994-4e65-9649-8bf38ec80804",
   "metadata": {},
   "source": [
    "CNNs consist of an __input, hidden layers, and an output layer__, just like normal neural networks. __The hidden layer__ are commonly formed by __convolutional layers, pooling layers (layers that reduce the spatial size of the input), and fully-connected layers__"
   ]
  },
  {
   "cell_type": "markdown",
   "id": "2818947d-d88d-482a-9bb7-b2e6ec955a26",
   "metadata": {},
   "source": [
    "<img src=\"fig/convnet.png\" width=600 height=600 />"
   ]
  },
  {
   "cell_type": "markdown",
   "id": "132bcda8-2efe-4d73-8782-f7898fd28092",
   "metadata": {},
   "source": [
    "__Convolutional layers__ process each __local image__ region independently, __using parameters shared across the whole image__. They use fewer parameters than fully connected layers, exploit the spatial relationships between nearby pixels, and don’t have to re-learn the interpretation of the pixels at every position.\n",
    "\n",
    "Convolutional layers consist of __a set of filters of fixed size__, which are matrices with certain __values/weights__, that are applied all over the input, by computing the scalar product between the filters and the input, which is called convolution.\n",
    "\n",
    "Each of these filters produces a two-dimensional __activation map__.\n",
    "\n",
    "The sizes of the filters of convolutional layers often go from 2x2 to 7x7, for example, depending on whether you are at the beginning of the network (higher sizes) or toward the end (smaller sizes).\n",
    "\n",
    "__pooling layer__: After performing convolution, and before another convolution is applied, a __pooling layer__ is normally applied in order to reduce the size of the input so that the network can get a deeper understanding of the image.\n",
    "\n",
    "There is a tendency to avoid max pooling and instead encourage strides, which are naturally applied when performing convolution.\n",
    "\n",
    "__Strides__: This is the length, defined in pixels, for the steps of the filter being applied over the entire image. "
   ]
  },
  {
   "cell_type": "markdown",
   "id": "48e37ccc-4604-4bcf-b2d8-7dd7dd3b0fdf",
   "metadata": {},
   "source": [
    "### Convolutional networks for 1D inputs"
   ]
  },
  {
   "cell_type": "markdown",
   "id": "06e324ea-fbc9-4cc5-86d8-dffdf92f6427",
   "metadata": {},
   "source": [
    "<img src=\"fig/1dConv.png\" width=500 height=500 />"
   ]
  },
  {
   "cell_type": "markdown",
   "id": "86b7e7a0-66d2-473b-b0b3-17ce430bf74b",
   "metadata": {},
   "source": [
    "### Convolutional networks for 2D inputs"
   ]
  },
  {
   "cell_type": "markdown",
   "id": "d94dac96-8aa0-416a-b820-7fa50cc1d050",
   "metadata": {},
   "source": [
    "<img src=\"fig/2dConv.png\" width=500 height=500 />"
   ]
  },
  {
   "cell_type": "markdown",
   "id": "a6e9bd3a-b5fe-4d42-a303-996405bfe7dc",
   "metadata": {},
   "source": [
    "### Invariance and equivariance"
   ]
  },
  {
   "cell_type": "markdown",
   "id": "a4a82655-edbd-4bf0-896f-67eea3fb39bf",
   "metadata": {},
   "source": [
    "<img src=\"fig/inv.png\" width=500 height=500 />"
   ]
  },
  {
   "cell_type": "markdown",
   "id": "2618e2b0-9600-4cfb-af40-6340ed1d443c",
   "metadata": {},
   "source": [
    "**Invariance** \n",
    "\n",
    "A function $f[x]$ of an image $x$ is invariant to a transformation $t[x]$ if:  \n",
    "\n",
    "    - f[t[x]] = f[x]\n",
    "\n",
    "the output of the function f[x] is the same regardless of the transformation t[x].\n",
    "\n",
    "- Networks for image classification should be invariant to geometric transformations of the image (figure a–b)\n",
    "- The network f[x] should identify an image as containing the same object, even if it has been translated, rotated, flipped, or warped"
   ]
  },
  {
   "cell_type": "markdown",
   "id": "2baafff4-f097-4c71-ae6f-b318e42c2df1",
   "metadata": {},
   "source": [
    "**Equivariance**"
   ]
  },
  {
   "cell_type": "markdown",
   "id": "83b2a708-c38d-4514-b69c-4e71885b0368",
   "metadata": {},
   "source": [
    "A function f[x] of an image x is equivariant or covariant to a transformation t[x] if: \n",
    "    \n",
    "    - f[t[x]] = t[f[x]].\n",
    "\n",
    "f[x] is equivariant to the transformation t[x] if its output changes in the same way under the transformation as the input"
   ]
  },
  {
   "cell_type": "markdown",
   "id": "0b9105c0-57da-498a-8fbd-48a2ace4fc37",
   "metadata": {},
   "source": [
    "- Networks for per-pixel image segmentation should be equivariant to transformations (figure 1c–f)\n",
    "- if the image is translated, rotated, or flipped, the network f[x] should return a segmentation that has been transformed in the same way."
   ]
  },
  {
   "cell_type": "markdown",
   "id": "438846c7-8c78-4503-84eb-b7e5225dd72a",
   "metadata": {},
   "source": [
    "### Convolutional networks properties"
   ]
  },
  {
   "cell_type": "markdown",
   "id": "a7e94154-2ce4-44f4-b208-7816de1c264c",
   "metadata": {},
   "source": [
    "- *The patterns they learn are translation-invariant.* After learning a certain pattern in the lower-right corner of a picture, a convnet can recognize it anywhere: for example, in the upper-left corner. A densely connected model would have to learn the pattern anew if it appeared at a new location.\n",
    "\n",
    "- This makes convnets data-efficient when processing images (because the visual world is fundamentally translation-invariant): they need fewer training samples to learn representations that have generalization power.\n",
    "\n",
    "- *They can learn spatial hierarchies of patterns.* A first convolution layer will learn small local patterns such as edges, a second convolution layer will learn larger patterns made of the features of the first layers, and so on. This allows convnets to efficiently learn increasingly complex and abstract visual concepts, because the visual world is fundamentally spatially hierarchical."
   ]
  },
  {
   "cell_type": "markdown",
   "id": "65325bb2-dc54-4a79-afe7-7b713615631e",
   "metadata": {},
   "source": [
    "Convolutions operate over rank-3 tensors called feature maps, with two spatial axes (height and width) as well as a depth axis (also called the channels axis).\n",
    "\n",
    "Convolutions are defined by two key parameters:\n",
    "- Size of the patches extracted from the inputs—These are typically 3 × 3 or 5 × 5.\n",
    "  \n",
    "- Depth of the output feature map—This is the number of filters computed by the con- volution."
   ]
  },
  {
   "cell_type": "markdown",
   "id": "d39bda0a-a686-413e-8fed-e52bb073d4af",
   "metadata": {},
   "source": [
    "### Downsampling"
   ]
  },
  {
   "cell_type": "markdown",
   "id": "d1dda863-1caa-4bb4-9f1b-dc14d183d3ba",
   "metadata": {},
   "source": [
    "The reason to use __downsampling__ (pooling and stride) is to __reduce the number of feature-map coefficients to process__, as well as __to induce spatial-filter hierarchies by making successive convolution layers look at increasingly large windows__ (in terms of the fraction of the original input they cover)."
   ]
  },
  {
   "cell_type": "markdown",
   "id": "87f7ebb9-6089-440c-a519-a03af142cb0a",
   "metadata": {},
   "source": [
    "## Convolutional networks and receptive fields"
   ]
  },
  {
   "cell_type": "markdown",
   "id": "84726821-1892-4bc6-b2f9-021304c53f72",
   "metadata": {},
   "source": [
    "convolutional networks comprise a sequence of convolutional layers. The receptive field of a neuron in the network is the region of the original input that feeds into it.\n",
    "\n",
    "- Neurons in the first convolutional layer are not connected to every single pixel in the input image, but only to pixels in their receptive fields.\n",
    "  \n",
    "- In turn, each neuron in the second convolutional layer is connected only to neurons located within a small rectangle in the first layer.\n",
    "\n",
    "- This architecture allows the network to concentrate on small low-level features in the first hidden layer, then assemble them into larger higher-level features in the next hidden layer, and so on."
   ]
  },
  {
   "cell_type": "markdown",
   "id": "62d7bf6c-3da0-45a3-b506-df58d4eaf565",
   "metadata": {},
   "source": [
    "<img src=\"fig/pfield.png\" width=400 height=400 />"
   ]
  },
  {
   "cell_type": "markdown",
   "id": "11048d42-90a7-4d5a-9cdb-21c24871c50f",
   "metadata": {},
   "source": [
    "## Code"
   ]
  },
  {
   "cell_type": "code",
   "execution_count": 1,
   "id": "1484a43c-974f-4402-879f-60333b34c9c7",
   "metadata": {},
   "outputs": [],
   "source": [
    "import numpy as np\n",
    "import matplotlib.pyplot as plt\n",
    "import pickle\n",
    "import gzip"
   ]
  },
  {
   "cell_type": "code",
   "execution_count": 2,
   "id": "ab5d038a-cc47-4419-b078-553c85fbf77f",
   "metadata": {},
   "outputs": [
    {
     "name": "stdout",
     "output_type": "stream",
     "text": [
      "(50000, 784) (50000, 1) (10000, 784) (10000, 1) (10000, 784) (10000, 1)\n"
     ]
    }
   ],
   "source": [
    "with gzip.open('mnist.pkl.gz', 'rb') as f:\n",
    "    train_set, valid_set, test_set = pickle.load(f, encoding='latin1')\n",
    "\n",
    "Xtrain = train_set[0]\n",
    "Ttrain = train_set[1].reshape(-1, 1)\n",
    "\n",
    "Xval = valid_set[0]\n",
    "Tval = valid_set[1].reshape(-1, 1)\n",
    "\n",
    "Xtest = test_set[0]\n",
    "Ttest = test_set[1].reshape(-1, 1)\n",
    "\n",
    "print(Xtrain.shape, Ttrain.shape,  Xval.shape, Tval.shape,  Xtest.shape, Ttest.shape)"
   ]
  },
  {
   "cell_type": "code",
   "execution_count": 3,
   "id": "5b532578-c005-4af8-b7d3-1679c17077ef",
   "metadata": {},
   "outputs": [],
   "source": [
    "three = Xtrain[7, :].reshape(28, 28)"
   ]
  },
  {
   "cell_type": "code",
   "execution_count": 4,
   "id": "594b6de3-2be9-45be-991d-efae0e1da75e",
   "metadata": {},
   "outputs": [
    {
     "data": {
      "text/plain": [
       "(28, 28)"
      ]
     },
     "execution_count": 4,
     "metadata": {},
     "output_type": "execute_result"
    }
   ],
   "source": [
    "three.shape"
   ]
  },
  {
   "cell_type": "code",
   "execution_count": 5,
   "id": "65eb85fc-fc1a-44b8-bd61-8f640859287d",
   "metadata": {},
   "outputs": [
    {
     "data": {
      "text/plain": [
       "<matplotlib.image.AxesImage at 0x10c7f8ef0>"
      ]
     },
     "execution_count": 5,
     "metadata": {},
     "output_type": "execute_result"
    },
    {
     "data": {
      "image/png": "[encoded data removed]",
      "text/plain": [
       "<Figure size 640x480 with 1 Axes>"
      ]
     },
     "metadata": {},
     "output_type": "display_data"
    }
   ],
   "source": [
    "plt.imshow(three, cmap='gray')"
   ]
  },
  {
   "cell_type": "code",
   "execution_count": 6,
   "id": "2bec8f81-377f-4f66-a287-92b801ce409f",
   "metadata": {},
   "outputs": [
    {
     "data": {
      "text/plain": [
       "<matplotlib.image.AxesImage at 0x10c7fbcb0>"
      ]
     },
     "execution_count": 6,
     "metadata": {},
     "output_type": "execute_result"
    },
    {
     "data": {
      "image/png": "[encoded data removed]",
      "text/plain": [
       "<Figure size 640x480 with 1 Axes>"
      ]
     },
     "metadata": {},
     "output_type": "display_data"
    }
   ],
   "source": [
    "plt.imshow(-three, cmap='gray')"
   ]
  },
  {
   "cell_type": "code",
   "execution_count": 7,
   "id": "345c1d96-5866-42e3-990e-4ffa9a555805",
   "metadata": {},
   "outputs": [],
   "source": [
    "def draw_image(image, label):\n",
    "    plt.imshow(-image, cmap='gray',vmin=-1, vmax=0)\n",
    "    plt.xticks([])\n",
    "    plt.yticks([])\n",
    "    plt.title(label)"
   ]
  },
  {
   "cell_type": "code",
   "execution_count": 8,
   "id": "d3780b92-a05c-4f05-a2aa-5b783a5cf5b0",
   "metadata": {},
   "outputs": [
    {
     "data": {
      "text/plain": [
       "16"
      ]
     },
     "execution_count": 8,
     "metadata": {},
     "output_type": "execute_result"
    }
   ],
   "source": [
    "patches = []\n",
    "for row in range(0, 28, 7):\n",
    "    for col in range(0, 28, 7):\n",
    "        patches.append(three[row:row + 7, col:col + 7])\n",
    "len(patches)"
   ]
  },
  {
   "cell_type": "code",
   "execution_count": 9,
   "id": "88aab807-2d12-476d-a1d0-58cc6bf4f25d",
   "metadata": {},
   "outputs": [
    {
     "data": {
      "image/png": "[encoded data removed]",
      "text/plain": [
       "<Figure size 800x800 with 16 Axes>"
      ]
     },
     "metadata": {},
     "output_type": "display_data"
    }
   ],
   "source": [
    "plt.figure(figsize=(8, 8))\n",
    "ploti = 0\n",
    "for patch in patches:\n",
    "    ploti += 1\n",
    "    plt.subplot(4, 4, ploti)\n",
    "    draw_image(patch, '')\n",
    "plt.tight_layout()"
   ]
  },
  {
   "cell_type": "markdown",
   "id": "cf1de1e9-d5d8-4b90-845a-fa51cb2dabdb",
   "metadata": {},
   "source": [
    "Shift by 2 columns and 2 rows to get ovelap patches"
   ]
  },
  {
   "cell_type": "code",
   "execution_count": 10,
   "id": "a8dd4914-a138-4232-ad08-a3fd86e98e56",
   "metadata": {},
   "outputs": [
    {
     "data": {
      "text/plain": [
       "196"
      ]
     },
     "execution_count": 10,
     "metadata": {},
     "output_type": "execute_result"
    }
   ],
   "source": [
    "patches = []\n",
    "for row in range(0, 28, 2):\n",
    "    for col in range(0, 28, 2):\n",
    "        patches.append(three[row:row + 7, col:col + 7])\n",
    "len(patches)"
   ]
  },
  {
   "cell_type": "code",
   "execution_count": 11,
   "id": "f6d4bbbc-492a-4844-9dd1-048aa060c8ec",
   "metadata": {},
   "outputs": [
    {
     "data": {
      "image/png": "[encoded data removed]",
      "text/plain": [
       "<Figure size 800x800 with 196 Axes>"
      ]
     },
     "metadata": {},
     "output_type": "display_data"
    }
   ],
   "source": [
    "n_plot_rows = int(np.sqrt(len(patches)))\n",
    "plt.figure(figsize=(8, 8))\n",
    "ploti = 0\n",
    "for patch in patches:\n",
    "    ploti += 1\n",
    "    plt.subplot(n_plot_rows, n_plot_rows, ploti)\n",
    "    draw_image(patch, '')"
   ]
  },
  {
   "cell_type": "code",
   "execution_count": 12,
   "id": "4d653165-868b-4f66-a42b-0b9d4f26275d",
   "metadata": {},
   "outputs": [
    {
     "data": {
      "text/plain": [
       "121"
      ]
     },
     "execution_count": 12,
     "metadata": {},
     "output_type": "execute_result"
    }
   ],
   "source": [
    "patches = []\n",
    "for row in range(0, 28, 2):\n",
    "    for col in range(0, 28, 2):\n",
    "        if row + 7 < 28 and col + 7 < 28:\n",
    "            patches.append(three[row:row + 7, col:col + 7])\n",
    "len(patches)"
   ]
  },
  {
   "cell_type": "code",
   "execution_count": 13,
   "id": "ea994f13-14c5-4c47-8071-d7f5b777e829",
   "metadata": {},
   "outputs": [
    {
     "data": {
      "image/png": "[encoded data removed]",
      "text/plain": [
       "<Figure size 800x800 with 121 Axes>"
      ]
     },
     "metadata": {},
     "output_type": "display_data"
    }
   ],
   "source": [
    "n_plot_rows = int(np.sqrt(len(patches)))\n",
    "plt.figure(figsize=(8, 8))\n",
    "ploti = 0\n",
    "for patch in patches:\n",
    "    ploti += 1\n",
    "    plt.subplot(n_plot_rows, n_plot_rows, ploti)\n",
    "    draw_image(patch, '')"
   ]
  },
  {
   "cell_type": "markdown",
   "id": "7435ccde-04e0-4d24-b99c-15bf16dd0a86",
   "metadata": {},
   "source": [
    "### Weight matrix as kernel of filter"
   ]
  },
  {
   "cell_type": "code",
   "execution_count": 14,
   "id": "1e2791a8-0ec6-4dcc-b9b5-e5d769ccaf95",
   "metadata": {},
   "outputs": [
    {
     "data": {
      "text/plain": [
       "array([[-1, -1, -1, -1, -1, -1, -1],\n",
       "       [-1, -1, -1, -1, -1, -1,  1],\n",
       "       [-1, -1, -1, -1, -1,  1,  1],\n",
       "       [-1, -1, -1, -1,  1,  1,  1],\n",
       "       [-1, -1, -1,  1,  1,  1,  1],\n",
       "       [-1, -1,  1,  1,  1,  1,  1],\n",
       "       [-1,  1,  1,  1,  1,  1,  1]])"
      ]
     },
     "execution_count": 14,
     "metadata": {},
     "output_type": "execute_result"
    }
   ],
   "source": [
    "weights = np.array([[-1, -1, -1, -1, -1, -1, -1],\n",
    "                    [-1, -1, -1, -1, -1, -1,  1],\n",
    "                    [-1, -1, -1, -1, -1,  1,  1],\n",
    "                    [-1, -1, -1, -1,  1,  1,  1],\n",
    "                    [-1, -1, -1,  1,  1,  1,  1],\n",
    "                    [-1, -1,  1,  1,  1,  1,  1],\n",
    "                    [-1,  1,  1,  1,  1,  1,  1]])\n",
    "weights"
   ]
  },
  {
   "cell_type": "code",
   "execution_count": 15,
   "id": "a7d41329-ab56-45c9-9e2e-c6d326e99c2e",
   "metadata": {},
   "outputs": [
    {
     "data": {
      "image/png": "[encoded data removed]",
      "text/plain": [
       "<Figure size 640x480 with 2 Axes>"
      ]
     },
     "metadata": {},
     "output_type": "display_data"
    }
   ],
   "source": [
    "plt.imshow(weights, cmap='gray')\n",
    "plt.colorbar();"
   ]
  },
  {
   "cell_type": "markdown",
   "id": "f3784a84-cc3f-45ab-96ad-ef44dcfe444d",
   "metadata": {},
   "source": [
    "### We make another filter by flipping the first one over rows"
   ]
  },
  {
   "cell_type": "code",
   "execution_count": 16,
   "id": "bf15d873-9135-48fe-995d-5dd499ba1c30",
   "metadata": {},
   "outputs": [
    {
     "name": "stdout",
     "output_type": "stream",
     "text": [
      "[[-1  1  1  1  1  1  1]\n",
      " [-1 -1  1  1  1  1  1]\n",
      " [-1 -1 -1  1  1  1  1]\n",
      " [-1 -1 -1 -1  1  1  1]\n",
      " [-1 -1 -1 -1 -1  1  1]\n",
      " [-1 -1 -1 -1 -1 -1  1]\n",
      " [-1 -1 -1 -1 -1 -1 -1]]\n"
     ]
    }
   ],
   "source": [
    "weights_flipped = np.flipud(weights)\n",
    "print(weights_flipped)"
   ]
  },
  {
   "cell_type": "code",
   "execution_count": 17,
   "id": "b735948f-664f-4675-841a-652871cb5b2b",
   "metadata": {},
   "outputs": [
    {
     "data": {
      "image/png": "[encoded data removed]",
      "text/plain": [
       "<Figure size 640x480 with 1 Axes>"
      ]
     },
     "metadata": {},
     "output_type": "display_data"
    }
   ],
   "source": [
    "plt.imshow(weights_flipped, cmap='gray');"
   ]
  },
  {
   "cell_type": "markdown",
   "id": "8a4bc577-d2dd-4caa-8bdc-6ecffaea3d87",
   "metadata": {},
   "source": [
    "#### Apply the filter to all patches"
   ]
  },
  {
   "cell_type": "code",
   "execution_count": 20,
   "id": "40c96cc8-a551-4aed-bf55-f4c6cc53e7a7",
   "metadata": {},
   "outputs": [
    {
     "data": {
      "text/plain": [
       "array([  0.        ,   0.        ,   0.7109375 ,   2.78515625,\n",
       "         6.1640625 ,   8.55859375,   9.3984375 ,   7.56640625,\n",
       "         4.328125  ,   0.3828125 ,  -1.015625  ,   0.        ,\n",
       "         0.        ,   3.80078125,   9.7265625 ,  13.00390625,\n",
       "         9.80859375,   7.33203125,   6.828125  ,   3.02734375,\n",
       "        -2.53125   ,  -3.8671875 ,   0.        ,   0.        ,\n",
       "         3.9296875 ,   6.953125  ,   1.87890625,  -5.94140625,\n",
       "        -4.44921875,  -0.90625   ,  -2.390625  , -10.3515625 ,\n",
       "        -8.80859375,   0.        ,   0.        ,   1.1171875 ,\n",
       "        -3.37109375, -10.13671875, -11.8671875 ,  -4.65234375,\n",
       "         2.14453125,  -8.50390625, -17.91015625, -11.0859375 ,\n",
       "         0.        ,   0.17578125,   1.328125  ,   2.67578125,\n",
       "         4.921875  ,   5.38671875,  10.796875  ,   2.0703125 ,\n",
       "       -14.62890625, -18.84765625,  -7.41015625,   0.        ,\n",
       "         0.3515625 ,   5.27734375,  10.50390625,   8.62109375,\n",
       "         6.91796875,   4.390625  ,  -7.3515625 , -17.4296875 ,\n",
       "       -13.390625  ,  -3.52734375,   0.        ,   0.3515625 ,\n",
       "         4.67578125,   2.22265625,  -4.19921875,  -9.2109375 ,\n",
       "        -6.3671875 , -12.109375  , -14.15625   ,  -9.44921875,\n",
       "        -0.94140625,   0.97265625,   2.3984375 ,   0.9140625 ,\n",
       "        -6.15234375, -10.32421875,  -8.2421875 ,   1.08203125,\n",
       "        -3.734375  , -12.515625  ,  -7.7578125 ,   0.        ,\n",
       "         4.56640625,   9.51953125,   7.77734375,   2.484375  ,\n",
       "         6.140625  ,   9.8203125 ,   9.52734375,  -8.01171875,\n",
       "       -15.5546875 ,  -6.62109375,   0.        ,   5.3984375 ,\n",
       "         9.484375  ,   5.9453125 ,   3.9609375 ,   4.890625  ,\n",
       "         3.08203125,  -7.7265625 , -16.703125  , -11.640625  ,\n",
       "        -4.07421875,   0.        ,   1.84765625,  -0.34765625,\n",
       "        -3.08984375,  -8.30078125,  -9.75390625, -13.17578125,\n",
       "       -15.8828125 , -11.7421875 ,  -5.84375   ,  -1.52734375,\n",
       "         0.        ])"
      ]
     },
     "execution_count": 20,
     "metadata": {},
     "output_type": "execute_result"
    }
   ],
   "source": [
    "new_image = []\n",
    "for patch in patches:\n",
    "    new_image.append( np.sum(patch * weights) )\n",
    "new_image = np.array(new_image)\n",
    "new_image"
   ]
  },
  {
   "cell_type": "code",
   "execution_count": 21,
   "id": "05e10a1f-04ea-450d-8aa6-4bfe09b91850",
   "metadata": {},
   "outputs": [
    {
     "data": {
      "text/plain": [
       "(121,)"
      ]
     },
     "execution_count": 21,
     "metadata": {},
     "output_type": "execute_result"
    }
   ],
   "source": [
    "new_image.shape"
   ]
  },
  {
   "cell_type": "code",
   "execution_count": 22,
   "id": "4e38f066-f26b-4055-bf1e-88518c86f52a",
   "metadata": {},
   "outputs": [
    {
     "data": {
      "text/plain": [
       "11"
      ]
     },
     "execution_count": 22,
     "metadata": {},
     "output_type": "execute_result"
    }
   ],
   "source": [
    "new_image_dim = int(np.sqrt(len(new_image)))\n",
    "new_image_dim"
   ]
  },
  {
   "cell_type": "code",
   "execution_count": 23,
   "id": "ebbca83e-056f-477e-b5e2-250f7c3eea50",
   "metadata": {},
   "outputs": [
    {
     "data": {
      "image/png": "[encoded data removed]",
      "text/plain": [
       "<Figure size 640x480 with 2 Axes>"
      ]
     },
     "metadata": {},
     "output_type": "display_data"
    }
   ],
   "source": [
    "new_image = new_image.reshape(new_image_dim, new_image_dim)\n",
    "draw_image(new_image, '')\n",
    "plt.colorbar();"
   ]
  },
  {
   "cell_type": "code",
   "execution_count": 24,
   "id": "809af8a4-efdf-4c8a-a339-2428662ba25c",
   "metadata": {},
   "outputs": [
    {
     "data": {
      "text/plain": [
       "array([  0.        ,   0.        ,  -0.7109375 ,  -2.44921875,\n",
       "        -4.171875  ,  -7.96484375, -10.34375   , -12.15234375,\n",
       "       -10.25      ,  -6.3046875 ,  -2.359375  ,   0.        ,\n",
       "         0.        ,  -0.41015625,  -3.609375  ,  -7.04296875,\n",
       "        -9.91796875, -12.06640625, -14.4296875 , -18.59765625,\n",
       "       -14.640625  ,  -6.7578125 ,   0.        ,   0.        ,\n",
       "         3.8984375 ,   5.3671875 ,   2.44140625,   0.87109375,\n",
       "         2.67578125,  -2.8515625 , -11.703125  , -18.4609375 ,\n",
       "        -9.98828125,   0.        ,   0.        ,   3.9296875 ,\n",
       "         9.71484375,   9.67578125,   5.1875    ,   6.71484375,\n",
       "         5.52734375,  -4.99609375, -12.63671875,  -9.3515625 ,\n",
       "         0.        ,  -0.17578125,  -0.125     ,  -0.98046875,\n",
       "        -2.8671875 ,  -6.01953125,  -4.21875   ,   0.1015625 ,\n",
       "        -3.62109375,  -8.27734375,  -4.92578125,   0.        ,\n",
       "         0.3515625 ,   1.62890625,  -1.19921875,  -5.86328125,\n",
       "        -7.13671875,  -5.2421875 ,  -6.6484375 ,  -7.296875  ,\n",
       "        -6.7578125 ,  -2.40234375,   0.        ,   0.3515625 ,\n",
       "         5.27734375,   7.45703125,   5.19921875,   4.6328125 ,\n",
       "         5.53125   ,  -4.8359375 , -11.3515625 ,  -6.17578125,\n",
       "        -0.87109375,  -0.93359375,  -1.9765625 ,   2.265625  ,\n",
       "         6.82421875,   9.05859375,   6.7265625 ,   7.83984375,\n",
       "        -4.5546875 , -13.53125   ,  -8.265625  ,   0.        ,\n",
       "        -0.65234375,  -5.48046875, -10.81640625, -11.6640625 ,\n",
       "        -7.765625  ,  -5.59375   ,   0.15234375,  -4.47265625,\n",
       "        -9.1328125 ,  -6.04296875,   0.        ,   4.9609375 ,\n",
       "         2.1484375 ,  -8.2421875 , -14.7265625 , -10.6015625 ,\n",
       "        -4.36328125,   0.859375  ,  -1.3046875 ,  -4.0703125 ,\n",
       "        -3.49609375,   0.        ,   5.37890625,  12.85546875,\n",
       "         8.44140625,  -1.19140625,  -1.22265625,   2.04296875,\n",
       "         3.0546875 ,   0.6171875 ,  -0.8203125 ,  -1.01953125,\n",
       "         0.        ])"
      ]
     },
     "execution_count": 24,
     "metadata": {},
     "output_type": "execute_result"
    }
   ],
   "source": [
    "new_image = []\n",
    "for patch in patches:\n",
    "    new_image.append(np.sum(patch * weights_flipped) )\n",
    "new_image = np.array(new_image)\n",
    "new_image"
   ]
  },
  {
   "cell_type": "code",
   "execution_count": 25,
   "id": "d682e768-33d6-4500-90c0-3219d9d2ec28",
   "metadata": {},
   "outputs": [
    {
     "data": {
      "text/plain": [
       "11"
      ]
     },
     "execution_count": 25,
     "metadata": {},
     "output_type": "execute_result"
    }
   ],
   "source": [
    "new_image_dim = int(np.sqrt(len(new_image)))\n",
    "new_image_dim\n"
   ]
  },
  {
   "cell_type": "code",
   "execution_count": 26,
   "id": "9c5ab8eb-c5e1-44bd-9a4a-96649217cf2b",
   "metadata": {},
   "outputs": [
    {
     "data": {
      "image/png": "[encoded data removed]",
      "text/plain": [
       "<Figure size 640x480 with 2 Axes>"
      ]
     },
     "metadata": {},
     "output_type": "display_data"
    }
   ],
   "source": [
    "new_image = new_image.reshape(new_image_dim, new_image_dim)\n",
    "draw_image(new_image, '')\n",
    "plt.colorbar();"
   ]
  }
 ],
 "metadata": {
  "kernelspec": {
   "display_name": "Python 3 (ipykernel)",
   "language": "python",
   "name": "python3"
  },
  "language_info": {
   "codemirror_mode": {
    "name": "ipython",
    "version": 3
   },
   "file_extension": ".py",
   "mimetype": "text/x-python",
   "name": "python",
   "nbconvert_exporter": "python",
   "pygments_lexer": "ipython3",
   "version": "3.12.1"
  }
 },
 "nbformat": 4,
 "nbformat_minor": 5
}
