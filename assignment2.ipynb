{
 "cells": [
  {
   "cell_type": "markdown",
   "id": "d140f2dc-43d1-4769-81b6-733f8b66fefa",
   "metadata": {},
   "source": [
    "# Convolutional Neural Networks"
   ]
  },
  {
   "cell_type": "markdown",
   "id": "bc7a956d-88f5-494d-bab1-33d27567afac",
   "metadata": {},
   "source": [
    "#### _Your name: type your name here_"
   ]
  },
  {
   "cell_type": "markdown",
   "id": "c3534a99-dc27-46d9-b380-ec022d22018b",
   "metadata": {},
   "source": [
    "#### Requirments:\n",
    "\n",
    "- Build Convolutional Neural Networks using PyTorch. Use multiple convolution layers + fully connected layers (you could use more that one fully connected layer) (10 points)\n",
    "    \n",
    "    - use mnist dataset https://github.com/mknifiai/ai/blob/main/mnist.pkl.gz\n",
    " \n",
    "    - show your model: from torchinfo import summary\n",
    "\n",
    "    - normalize the data sets by dividing by 255\n",
    " \n",
    "    - train on training set and test your model on test set\n",
    " \n",
    "<br>  \n",
    "\n",
    "- Run another experiment to improve the results using batch normalization and dropout technique. Discuss your results (5 points)\n",
    "\n",
    "- Use gradcam to visualize the latest layer before the classifier. (5 points)\n",
    "\n",
    "- Compare convnets that utilize Max pooling with those that implement strides. Discuss your results (10 points)"
   ]
  },
  {
   "cell_type": "code",
   "execution_count": 2,
   "id": "13e8df69-8be1-42f7-942d-e5ea12110810",
   "metadata": {},
   "outputs": [],
   "source": [
    "import torch\n",
    "from torch import nn\n",
    "import sklearn as skl\n",
    "import pandas as pd\n",
    "import numpy as np\n",
    "import matplotlib.pyplot as plt\n",
    "import pickle\n",
    "import gzip"
   ]
  },
  {
   "cell_type": "code",
   "execution_count": 3,
   "id": "fa3e9116-cf0b-4f11-9b32-245e50b1dcfb",
   "metadata": {},
   "outputs": [
    {
     "name": "stdout",
     "output_type": "stream",
     "text": [
      "(50000, 784) (50000, 1) (10000, 784) (10000, 1) (10000, 784) (10000, 1)\n"
     ]
    }
   ],
   "source": [
    "with gzip.open('mnist.pkl.gz', 'rb') as f:\n",
    "    train_set, valid_set, test_set = pickle.load(f, encoding='latin1')\n",
    "\n",
    "Xtrain = train_set[0]\n",
    "Ttrain = train_set[1].reshape(-1, 1)\n",
    "\n",
    "Xval = valid_set[0]\n",
    "Tval = valid_set[1].reshape(-1, 1)\n",
    "\n",
    "Xtest = test_set[0]\n",
    "Ttest = test_set[1].reshape(-1, 1)\n",
    "\n",
    "print(Xtrain.shape, Ttrain.shape,  Xval.shape, Tval.shape,  Xtest.shape, Ttest.shape)"
   ]
  },
  {
   "cell_type": "code",
   "execution_count": 11,
   "id": "6ec61bad-22af-4cf3-bc45-2adefc7f3d78",
   "metadata": {},
   "outputs": [
    {
     "data": {
      "image/png": "[encoded data removed]",
      "text/plain": [
       "<Figure size 640x480 with 9 Axes>"
      ]
     },
     "metadata": {},
     "output_type": "display_data"
    }
   ],
   "source": [
    "for i in range(9):\n",
    "    # define subplot\n",
    "    plt.subplot(330 + 1 + i)\n",
    "\t# plot raw pixel data\n",
    "    plt.imshow(Xtrain[i,:].reshape(28,28), cmap=plt.get_cmap('gray'))\n",
    "    plt.xticks([])\n",
    "    plt.yticks([])\n",
    "plt.show()"
   ]
  },
  {
   "cell_type": "code",
   "execution_count": null,
   "id": "8d29faea-30dd-4641-a2dc-cecbe29a51f0",
   "metadata": {},
   "outputs": [],
   "source": []
  }
 ],
 "metadata": {
  "kernelspec": {
   "display_name": "Python 3 (ipykernel)",
   "language": "python",
   "name": "python3"
  },
  "language_info": {
   "codemirror_mode": {
    "name": "ipython",
    "version": 3
   },
   "file_extension": ".py",
   "mimetype": "text/x-python",
   "name": "python",
   "nbconvert_exporter": "python",
   "pygments_lexer": "ipython3",
   "version": "3.12.1"
  }
 },
 "nbformat": 4,
 "nbformat_minor": 5
}
