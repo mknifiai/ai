{
 "cells": [
  {
   "cell_type": "markdown",
   "id": "1a559c94-d4cc-42fe-bd74-be5cf0159e79",
   "metadata": {},
   "source": [
    "# Explainable AI"
   ]
  },
  {
   "cell_type": "markdown",
   "id": "18c43e99-4e59-43c3-927b-97ccc7241ca1",
   "metadata": {},
   "source": [
    "__Source__: What is explainable AI? https://www.ibm.com/think/topics/explainable-ai"
   ]
  },
  {
   "cell_type": "markdown",
   "id": "dbc445e0-19ab-4f7c-b64c-f9b1319519a4",
   "metadata": {},
   "source": [
    "What is explainable AI?"
   ]
  },
  {
   "cell_type": "markdown",
   "id": "58751cc3-12ca-49cc-9c98-c25ce2235825",
   "metadata": {},
   "source": [
    "Explainable artificial intelligence (XAI) is a set of processes and methods that allows human users to comprehend and trust the results and output created by machine learning algorithms."
   ]
  },
  {
   "cell_type": "markdown",
   "id": "1183c635-4ae3-4bcc-9883-67caf33235bb",
   "metadata": {},
   "source": [
    "- It helps characterize model accuracy, fairness, transparency and outcomes in AI-powered decision making.\n",
    "\n",
    "  \n",
    "- It is crucial for an organization in building trust and confidence when putting AI models into production"
   ]
  },
  {
   "cell_type": "markdown",
   "id": "671bd674-cae8-4049-9ca4-f9d6e329c478",
   "metadata": {},
   "source": [
    "### Explainable AI techniques"
   ]
  },
  {
   "cell_type": "markdown",
   "id": "5964ea65-f21f-43d8-950a-ac94f12468bf",
   "metadata": {},
   "source": [
    "The setup of XAI techniques consists of three main methods. \n",
    "\n",
    "__Prediction accuracy__ and __traceability__ address technology requirements while __decision understanding__ addresses human needs."
   ]
  },
  {
   "cell_type": "markdown",
   "id": "c661503f-e840-4eb0-bf57-01ac0a98150d",
   "metadata": {},
   "source": [
    "#### Prediction accuracy"
   ]
  },
  {
   "cell_type": "markdown",
   "id": "0e9ba269-08e1-46be-b432-1d256592c1a9",
   "metadata": {},
   "source": [
    "Running simulations and comparing XAI output to the results in the training data set, the prediction accuracy can be determined. \n",
    "\n",
    "\n",
    "Local Interpretable Model-Agnostic Explanations (LIME) \n",
    "\n",
    "    - It tests what happens to the predictions when you give variations of your data into the machine learning model. \n",
    "\n",
    "SHAP (SHapley Additive exPlanations) \n",
    "\n",
    "    - It is a game theoretic approach to explain the output of any machine learning model.\n",
    "    \n",
    "    - It reflects the significance of the contribution of features for each output prediction.\n",
    "\n"
   ]
  },
  {
   "cell_type": "markdown",
   "id": "15d69d7e-cfe4-44a4-8fac-2df7b66d7abc",
   "metadata": {},
   "source": [
    "#### Traceability"
   ]
  },
  {
   "cell_type": "markdown",
   "id": "f957b8a2-3ee4-47d1-abed-ec13e34ac2c4",
   "metadata": {},
   "source": [
    "- DeepLIFT (Deep Learning Important FeaTures), which compares the activation of each neuron to its reference neuron and shows a traceable link between each activated neuron and even shows dependencies between them.\n",
    "\n",
    "- Gradient-weighted Class Activation Map (Gradcam), used to generate heatmaps which highlights the important region of the image that contribute the way a model performs as it does. "
   ]
  },
  {
   "cell_type": "markdown",
   "id": "0a219e33-85be-41bd-949c-6feb786256db",
   "metadata": {},
   "source": [
    "## Experiments on Synthetic Data"
   ]
  },
  {
   "cell_type": "code",
   "execution_count": 1,
   "id": "63da8ba3-8277-40c4-b4e3-d46912fa8b8f",
   "metadata": {},
   "outputs": [],
   "source": [
    "import numpy as np\n",
    "import matplotlib.pyplot as plt\n",
    "import torch\n",
    "from torch import nn\n",
    "import pandas as pd\n",
    "import torch.utils.data as Data\n",
    "from torchinfo import summary\n",
    "\n",
    "from torch.nn import functional as F\n",
    "\n",
    "from torch.nn.functional import softmax, interpolate\n",
    "from torchvision.transforms.functional import normalize, resize, to_pil_image\n",
    "\n",
    "from torchcam.methods import SmoothGradCAMpp, LayerCAM\n",
    "from torchcam.utils import overlay_mask"
   ]
  },
  {
   "cell_type": "code",
   "execution_count": 2,
   "id": "ca177256-e837-46e7-b9f5-c413186fb704",
   "metadata": {},
   "outputs": [],
   "source": [
    "device = torch.device('cuda' if torch.cuda.is_available() else 'cpu')"
   ]
  },
  {
   "cell_type": "code",
   "execution_count": 3,
   "id": "8ae5753b-70f0-43a1-9ebe-225324f42b07",
   "metadata": {},
   "outputs": [
    {
     "name": "stdout",
     "output_type": "stream",
     "text": [
      "cpu\n"
     ]
    }
   ],
   "source": [
    "print(device)"
   ]
  },
  {
   "cell_type": "code",
   "execution_count": 4,
   "id": "c4726915-5a67-4834-9390-ae82103003bb",
   "metadata": {},
   "outputs": [],
   "source": [
    "def percent_correct(a, b):\n",
    "    return 100 * np.mean(a == b)\n",
    "\n",
    "# for classification problem\n",
    "def confusion_matrix(Y_classes, T):\n",
    "    class_names = np.unique(T)\n",
    "    table = []\n",
    "    for true_class in class_names:\n",
    "        row = []\n",
    "        for Y_class in class_names:\n",
    "            row.append(100 * np.mean(Y_classes[T == true_class] == Y_class))\n",
    "        table.append(row)\n",
    "    conf_matrix = pd.DataFrame(table, index=class_names, columns=class_names)\n",
    "    conf_matrix.style.background_gradient(cmap='Blues').format(\"{:.1f}\")\n",
    "    print(f'Percent Correct is {percent_correct(Y_classes, T)}')\n",
    "    return conf_matrix"
   ]
  },
  {
   "cell_type": "code",
   "execution_count": 5,
   "id": "07e1f199-4f63-49a0-8847-863b9095c5c1",
   "metadata": {},
   "outputs": [],
   "source": [
    "def makeImages(nEach):\n",
    "    images = np.zeros((nEach * 2, 1, 20, 20))  # nSamples, nChannels, rows, columns\n",
    "    radii = 3 + np.random.randint(10 - 5, size=(nEach * 2, 1))\n",
    "    centers = np.zeros((nEach * 2, 2))\n",
    "    for i in range(nEach * 2):\n",
    "        r = radii[i, 0]\n",
    "        centers[i, :] = r + 1 + np.random.randint(18 - 2 * r, size=(1, 2))\n",
    "        x = int(centers[i, 0])\n",
    "        y = int(centers[i, 1])\n",
    "        if i < nEach:\n",
    "            # squares\n",
    "            images[i, 0, x - r:x + r, y + r] = 1.0\n",
    "            images[i, 0, x - r:x + r, y - r] = 1.0\n",
    "            images[i, 0, x - r, y - r:y + r] = 1.0\n",
    "            images[i, 0, x + r, y - r:y + r + 1] = 1.0\n",
    "        else:\n",
    "            # diamonds\n",
    "            images[i, 0, range(x - r, x), range(y, y + r)] = 1.0\n",
    "            images[i, 0, range(x - r, x), range(y, y - r, -1)] = 1.0\n",
    "            images[i, 0, range(x, x + r + 1), range(y + r, y - 1, -1)] = 1.0\n",
    "            images[i, 0, range(x, x + r), range(y - r, y)] = 1.0\n",
    "\n",
    "        T = np.zeros((nEach * 2, 1))\n",
    "        T[nEach:] = 1\n",
    "    return images, T"
   ]
  },
  {
   "cell_type": "code",
   "execution_count": 6,
   "id": "4b9f39fd-f19f-4c04-ac89-a9a48e0fc525",
   "metadata": {},
   "outputs": [
    {
     "name": "stdout",
     "output_type": "stream",
     "text": [
      "(2000, 400) (2000, 1)\n"
     ]
    }
   ],
   "source": [
    "nEach = 1000\n",
    "X, T = makeImages(nEach)\n",
    "X = X.reshape(X.shape[0], -1)\n",
    "print(X.shape, T.shape)\n",
    "\n",
    "Xtest, Ttest = makeImages(nEach)\n",
    "Xtest = Xtest.reshape(Xtest.shape[0], -1)"
   ]
  },
  {
   "cell_type": "code",
   "execution_count": 7,
   "id": "131e89e5-f331-4e6e-aa67-c71b19d2cd34",
   "metadata": {},
   "outputs": [
    {
     "name": "stdout",
     "output_type": "stream",
     "text": [
      "[0. 1.]\n"
     ]
    },
    {
     "data": {
      "image/png": "[encoded data removed]",
      "text/plain": [
       "<Figure size 640x480 with 1 Axes>"
      ]
     },
     "metadata": {},
     "output_type": "display_data"
    }
   ],
   "source": [
    "print(np.unique(T))\n",
    "plt.plot(T);"
   ]
  },
  {
   "cell_type": "code",
   "execution_count": 8,
   "id": "66d55a96-2e40-445a-9e91-e57705c5ff17",
   "metadata": {},
   "outputs": [
    {
     "data": {
      "text/plain": [
       "([], [])"
      ]
     },
     "execution_count": 8,
     "metadata": {},
     "output_type": "execute_result"
    },
    {
     "data": {
      "image/png": "[encoded data removed]",
      "text/plain": [
       "<Figure size 640x480 with 1 Axes>"
      ]
     },
     "metadata": {},
     "output_type": "display_data"
    }
   ],
   "source": [
    "plt.imshow(-X[-1, :].reshape(20, 20), cmap='gray')\n",
    "plt.xticks([])\n",
    "plt.yticks([])"
   ]
  },
  {
   "cell_type": "code",
   "execution_count": 9,
   "id": "f7577e5e-331e-482c-998b-515607c6400b",
   "metadata": {},
   "outputs": [
    {
     "data": {
      "image/png": "[encoded data removed]",
      "text/plain": [
       "<Figure size 1000x300 with 18 Axes>"
      ]
     },
     "metadata": {},
     "output_type": "display_data"
    }
   ],
   "source": [
    "plt.figure(figsize=(10, 3))\n",
    "\n",
    "for i in range(1,10):\n",
    "    plt.subplot(2, 10, i + 1)\n",
    "    plt.imshow(-X[i-1, :].reshape(20,20), cmap='gray')\n",
    "    plt.xticks([])\n",
    "    plt.yticks([])\n",
    "\n",
    "    plt.subplot(2, 10, i + 11)\n",
    "    plt.imshow(-X[-i, :].reshape(20,20), cmap='gray')\n",
    "    plt.xticks([])\n",
    "    plt.yticks([])"
   ]
  },
  {
   "cell_type": "code",
   "execution_count": 10,
   "id": "faafaab5-d077-458b-bbf7-6707b9bf4f3b",
   "metadata": {},
   "outputs": [],
   "source": [
    "class DData(Data.Dataset):\n",
    "    def __init__(self, X, y):\n",
    "        self.X = torch.from_numpy(X.astype(np.float32))\n",
    "        self.y = torch.from_numpy(y.astype(np.float32))\n",
    "    \n",
    "    def __getitem__(self, i):\n",
    "        return self.X[i, :], self.y[i]\n",
    "\n",
    "    def __len__(self):\n",
    "        return len(self.X)"
   ]
  },
  {
   "cell_type": "code",
   "execution_count": 11,
   "id": "74063927-376f-417c-ac2d-1f8fd7a638d8",
   "metadata": {},
   "outputs": [],
   "source": [
    "Xtrain = DData(X,T)\n",
    "Xtest = DData(Xtest,Ttest)"
   ]
  },
  {
   "cell_type": "code",
   "execution_count": 12,
   "id": "0dc4be53-546b-4cb6-9838-4799903b3e03",
   "metadata": {},
   "outputs": [],
   "source": [
    "class myClassifier(nn.Module):\n",
    "    def __init__(self, n_features, hiddenA, hiddenB):\n",
    "        super(myClassifier, self).__init__()\n",
    "        self.fc1 = nn.Linear(n_features, hiddenA)\n",
    "        self.fc2 = nn.Linear(hiddenA, hiddenB)\n",
    "        self.output = nn.Linear(hiddenB, 1)\n",
    "        self.sigmoid = nn.Sigmoid()\n",
    "\n",
    "    def forward(self, x):\n",
    "        x = F.relu(self.fc1(x))\n",
    "        x = F.relu(self.fc2(x))\n",
    "        return self.sigmoid(self.output(x))"
   ]
  },
  {
   "cell_type": "code",
   "execution_count": 13,
   "id": "63bfa1aa-cea4-4040-9853-9456e661e78d",
   "metadata": {},
   "outputs": [],
   "source": [
    "model = myClassifier(X.shape[1], 25, 5)"
   ]
  },
  {
   "cell_type": "code",
   "execution_count": 14,
   "id": "4e9d3da0-cd8f-42a6-a0a2-f6edf02c934c",
   "metadata": {},
   "outputs": [
    {
     "data": {
      "text/plain": [
       "Linear(in_features=400, out_features=25, bias=True)"
      ]
     },
     "execution_count": 14,
     "metadata": {},
     "output_type": "execute_result"
    }
   ],
   "source": [
    "model.fc1"
   ]
  },
  {
   "cell_type": "code",
   "execution_count": 15,
   "id": "515fbce3-8dc3-440e-99ba-c889736be4de",
   "metadata": {},
   "outputs": [
    {
     "data": {
      "text/plain": [
       "torch.Size([25, 400])"
      ]
     },
     "execution_count": 15,
     "metadata": {},
     "output_type": "execute_result"
    }
   ],
   "source": [
    "model.fc1.weight.shape"
   ]
  },
  {
   "cell_type": "code",
   "execution_count": 16,
   "id": "62b568eb-ba07-49ea-9de3-33552e08cb31",
   "metadata": {},
   "outputs": [
    {
     "data": {
      "text/plain": [
       "torch.Size([25])"
      ]
     },
     "execution_count": 16,
     "metadata": {},
     "output_type": "execute_result"
    }
   ],
   "source": [
    "model.fc1.bias.shape"
   ]
  },
  {
   "cell_type": "code",
   "execution_count": 17,
   "id": "5ad368c4-477c-4075-bcad-486346827545",
   "metadata": {},
   "outputs": [
    {
     "data": {
      "text/plain": [
       "=================================================================\n",
       "Layer (type:depth-idx)                   Param #\n",
       "=================================================================\n",
       "myClassifier                             --\n",
       "├─Linear: 1-1                            10,025\n",
       "├─Linear: 1-2                            130\n",
       "├─Linear: 1-3                            6\n",
       "├─Sigmoid: 1-4                           --\n",
       "=================================================================\n",
       "Total params: 10,161\n",
       "Trainable params: 10,161\n",
       "Non-trainable params: 0\n",
       "================================================================="
      ]
     },
     "execution_count": 17,
     "metadata": {},
     "output_type": "execute_result"
    }
   ],
   "source": [
    "summary(model)"
   ]
  },
  {
   "cell_type": "code",
   "execution_count": 18,
   "id": "62ffd699-811d-44d5-9f7c-8b26ed9b88e6",
   "metadata": {},
   "outputs": [
    {
     "data": {
      "text/plain": [
       "[Parameter containing:\n",
       " tensor([[-0.0040, -0.0439, -0.0026,  ...,  0.0303, -0.0174, -0.0423],\n",
       "         [ 0.0457, -0.0018, -0.0225,  ...,  0.0099,  0.0032,  0.0046],\n",
       "         [-0.0417,  0.0449, -0.0475,  ...,  0.0019, -0.0158, -0.0455],\n",
       "         ...,\n",
       "         [ 0.0099, -0.0234,  0.0483,  ...,  0.0249, -0.0467, -0.0367],\n",
       "         [ 0.0402, -0.0081, -0.0425,  ...,  0.0253,  0.0361, -0.0490],\n",
       "         [-0.0058, -0.0339,  0.0169,  ...,  0.0142, -0.0016,  0.0223]],\n",
       "        requires_grad=True),\n",
       " Parameter containing:\n",
       " tensor([ 0.0015, -0.0026, -0.0222, -0.0080,  0.0366, -0.0198,  0.0481, -0.0484,\n",
       "          0.0412, -0.0392, -0.0296, -0.0384,  0.0440, -0.0275,  0.0169, -0.0298,\n",
       "         -0.0207, -0.0476, -0.0468, -0.0021, -0.0265,  0.0252, -0.0069,  0.0324,\n",
       "         -0.0069], requires_grad=True),\n",
       " Parameter containing:\n",
       " tensor([[-0.1040,  0.0664,  0.0129,  0.0087, -0.0717,  0.0366,  0.0993, -0.0285,\n",
       "          -0.0409, -0.0634, -0.0169, -0.1399,  0.1960,  0.0793,  0.0854,  0.1027,\n",
       "           0.0781,  0.1115, -0.1159,  0.0975, -0.0861, -0.1485, -0.1478,  0.0050,\n",
       "          -0.0877],\n",
       "         [-0.0579, -0.0315, -0.1749, -0.0178, -0.1143, -0.1195,  0.1357, -0.1342,\n",
       "           0.0505, -0.1512,  0.1212, -0.0971, -0.0692, -0.1495, -0.1578,  0.0534,\n",
       "          -0.1058, -0.1324,  0.0901, -0.0953, -0.1860, -0.0580,  0.1441, -0.0765,\n",
       "           0.1355],\n",
       "         [ 0.1720, -0.1878, -0.0605,  0.1229,  0.1668,  0.0834, -0.0445,  0.0315,\n",
       "          -0.0787, -0.1344,  0.0652, -0.0088, -0.0132, -0.1130, -0.1982,  0.1346,\n",
       "           0.0889,  0.0219, -0.1404, -0.0877, -0.0201, -0.1972, -0.0058, -0.1531,\n",
       "           0.0586],\n",
       "         [ 0.1366,  0.1032,  0.1312,  0.1782,  0.0719, -0.1748, -0.0873,  0.0337,\n",
       "          -0.1918,  0.0464, -0.0757,  0.0217,  0.1920,  0.1588, -0.0582, -0.0538,\n",
       "          -0.1220, -0.0154, -0.1736, -0.1307,  0.1634, -0.1053,  0.0255, -0.1792,\n",
       "          -0.0597],\n",
       "         [ 0.0439,  0.1102,  0.1579,  0.0021, -0.0469,  0.0901, -0.0176,  0.0217,\n",
       "          -0.0149, -0.1536,  0.1923,  0.0176, -0.1471, -0.0878, -0.1040,  0.1552,\n",
       "           0.0293, -0.1556,  0.1408, -0.0629, -0.0770,  0.1073, -0.0826,  0.1804,\n",
       "          -0.0645]], requires_grad=True),\n",
       " Parameter containing:\n",
       " tensor([ 0.0465,  0.1807,  0.1538, -0.0237,  0.0084], requires_grad=True),\n",
       " Parameter containing:\n",
       " tensor([[ 0.4429,  0.3187,  0.1075, -0.1528,  0.2754]], requires_grad=True),\n",
       " Parameter containing:\n",
       " tensor([0.3649], requires_grad=True)]"
      ]
     },
     "execution_count": 18,
     "metadata": {},
     "output_type": "execute_result"
    }
   ],
   "source": [
    "list(model.parameters())"
   ]
  },
  {
   "cell_type": "code",
   "execution_count": 19,
   "id": "5250b20e-f324-440d-b983-fdd94b023f22",
   "metadata": {},
   "outputs": [],
   "source": [
    "batch_size = 1\n",
    "train_loader = Data.DataLoader(Xtrain, batch_size=batch_size, shuffle=True, num_workers= 0)\n",
    "test_loader = Data.DataLoader(Xtest, batch_size=batch_size, shuffle=True, num_workers= 0)"
   ]
  },
  {
   "cell_type": "code",
   "execution_count": 20,
   "id": "112f956b-7b00-4538-bbbf-12d3d58862c8",
   "metadata": {},
   "outputs": [],
   "source": [
    "activation = {}\n",
    "gradients = {}\n",
    "\n",
    "def forward_hook(module, inpt, outpt):\n",
    "    global activation\n",
    "    activation[module] = outpt\n",
    "\n",
    "def grad_hook(module, inpt, outpt):\n",
    "    global gradients\n",
    "    gradients[module] = outpt\n",
    "\n",
    "def get_all_layers(model):\n",
    "    for name, layer in model._modules.items():\n",
    "        if isinstance(layer, nn.Sequential):\n",
    "            get_all_layers(layer)\n",
    "        else:\n",
    "            # non sequential\n",
    "            layer.register_forward_hook(forward_hook)\n",
    "            layer.register_full_backward_hook(grad_hook)"
   ]
  },
  {
   "cell_type": "code",
   "execution_count": 21,
   "id": "c3a0f334-11d1-47e5-baaa-72b533cd966a",
   "metadata": {},
   "outputs": [],
   "source": [
    "get_all_layers(model)"
   ]
  },
  {
   "cell_type": "code",
   "execution_count": 22,
   "id": "846c5b96-73a1-4119-9166-cf11857e9653",
   "metadata": {},
   "outputs": [],
   "source": [
    "loss_function = nn.BCELoss()\n",
    "optimizer = torch.optim.Adam(model.parameters(), lr=1e-4)"
   ]
  },
  {
   "cell_type": "code",
   "execution_count": 23,
   "id": "b07b957e-a848-47eb-bf0b-725b6c9dc539",
   "metadata": {},
   "outputs": [
    {
     "name": "stdout",
     "output_type": "stream",
     "text": [
      "Epoch 1 \t Loss: 0.65613\n",
      "Epoch 2 \t Loss: 0.42998\n",
      "Epoch 3 \t Loss: 0.22418\n",
      "Epoch 4 \t Loss: 0.10213\n",
      "Epoch 5 \t Loss: 0.04359\n",
      "Epoch 6 \t Loss: 0.01839\n",
      "Epoch 7 \t Loss: 0.00792\n",
      "Epoch 8 \t Loss: 0.00350\n",
      "Epoch 9 \t Loss: 0.00155\n",
      "Epoch 10 \t Loss: 0.00067\n"
     ]
    }
   ],
   "source": [
    "n_epochs = 10\n",
    "all_losses = []\n",
    "for epoch in range(n_epochs):\n",
    "    losses = []\n",
    "    total = 0\n",
    "    for x, y in train_loader:\n",
    "        \n",
    "        optimizer.zero_grad()\n",
    "        \n",
    "        y_pred = model(x)\n",
    "        loss = loss_function(y_pred, y)\n",
    "        \n",
    "        loss.backward()\n",
    "        optimizer.step()\n",
    "        \n",
    "        losses.append(loss.item())\n",
    "        total += 1\n",
    "\n",
    "    epoch_loss = sum(losses) / total\n",
    "    all_losses.append(epoch_loss)\n",
    "                \n",
    "    mess = f\"Epoch {epoch+1} \\t Loss: {all_losses[-1]:.5f}\"\n",
    "    print(mess)"
   ]
  },
  {
   "cell_type": "code",
   "execution_count": 25,
   "id": "81dcc616-7666-437f-88cb-caae60005454",
   "metadata": {},
   "outputs": [],
   "source": [
    "y_pred = []\n",
    "y_true = []\n",
    "\n",
    "model.eval()\n",
    "with torch.no_grad():\n",
    "    for x, y in test_loader:\n",
    "        y_pred.extend(model(x).numpy().round())\n",
    "        y_true.extend(y.numpy())"
   ]
  },
  {
   "cell_type": "code",
   "execution_count": 26,
   "id": "27a43ce7-6731-4db0-b70c-3671fc8db592",
   "metadata": {},
   "outputs": [
    {
     "name": "stdout",
     "output_type": "stream",
     "text": [
      "Accuracy: 1.0 %\n"
     ]
    }
   ],
   "source": [
    "from sklearn.metrics import accuracy_score\n",
    "\n",
    "accuracy = accuracy_score(y_true, y_pred)\n",
    "\n",
    "print(f'Accuracy: {accuracy:.1f} %')"
   ]
  },
  {
   "cell_type": "code",
   "execution_count": 27,
   "id": "c6fc032e-d6dc-45f8-8ab4-5848d0f55366",
   "metadata": {},
   "outputs": [
    {
     "name": "stdout",
     "output_type": "stream",
     "text": [
      "Linear(in_features=400, out_features=25, bias=True)\n",
      "Linear(in_features=25, out_features=5, bias=True)\n",
      "Linear(in_features=5, out_features=1, bias=True)\n",
      "Sigmoid()\n"
     ]
    }
   ],
   "source": [
    "for layer in activation:\n",
    "    print(layer)"
   ]
  },
  {
   "cell_type": "code",
   "execution_count": 28,
   "id": "6a72089f-4345-4a9c-adf3-789f2c9e8fdd",
   "metadata": {},
   "outputs": [
    {
     "name": "stdout",
     "output_type": "stream",
     "text": [
      "Sigmoid()\n",
      "Linear(in_features=5, out_features=1, bias=True)\n",
      "Linear(in_features=25, out_features=5, bias=True)\n",
      "Linear(in_features=400, out_features=25, bias=True)\n"
     ]
    }
   ],
   "source": [
    "for layer in gradients:\n",
    "    print(layer)"
   ]
  },
  {
   "cell_type": "code",
   "execution_count": 29,
   "id": "6ec41664-6012-4c1e-836b-15b9a03beea2",
   "metadata": {},
   "outputs": [
    {
     "data": {
      "text/plain": [
       "{Linear(in_features=400, out_features=25, bias=True): tensor([[ 1.5998,  4.1500,  1.7043,  3.1211,  1.2868,  0.0077,  0.0097,  0.2513,\n",
       "           0.0225,  0.5552,  0.0305,  0.8280,  2.9166,  1.0456,  0.3431, -0.0451,\n",
       "          -0.0345,  0.8639, -0.0450,  0.0527, -0.3520, -0.4824,  1.2165, -0.0175,\n",
       "           0.7446]]),\n",
       " Linear(in_features=25, out_features=5, bias=True): tensor([[-0.0182, -0.0209, -0.0229,  9.5810, -0.0429]]),\n",
       " Linear(in_features=5, out_features=1, bias=True): tensor([[-6.3084]]),\n",
       " Sigmoid(): tensor([[0.0018]])}"
      ]
     },
     "execution_count": 29,
     "metadata": {},
     "output_type": "execute_result"
    }
   ],
   "source": [
    "activation"
   ]
  },
  {
   "cell_type": "code",
   "execution_count": 30,
   "id": "d37a15fe-6ebd-49f8-aa56-47b7be0eaecc",
   "metadata": {},
   "outputs": [
    {
     "data": {
      "text/plain": [
       "{Sigmoid(): (tensor([[-1.0000]]),),\n",
       " Linear(in_features=5, out_features=1, bias=True): (tensor([[-2.3842e-07]]),),\n",
       " Linear(in_features=25, out_features=5, bias=True): (tensor([[-2.4734e-07, -2.2276e-07, -1.7493e-07,  1.6593e-07, -2.1711e-07]]),),\n",
       " Linear(in_features=400, out_features=25, bias=True): (tensor([[ 8.6280e-08,  2.5452e-08,  1.2083e-07,  3.8519e-08,  9.8522e-08,\n",
       "           -5.5437e-07, -3.7261e-07,  1.7632e-07, -4.6946e-07,  2.6644e-07,\n",
       "            0.0000e+00,  2.4976e-07,  3.7433e-08,  1.5939e-07,  2.6514e-07,\n",
       "           -4.2355e-07,  0.0000e+00,  2.7345e-07, -4.9337e-07,  0.0000e+00,\n",
       "            2.6290e-07,  2.6668e-07,  9.8311e-08, -4.5614e-07,  1.5190e-07]]),)}"
      ]
     },
     "execution_count": 30,
     "metadata": {},
     "output_type": "execute_result"
    }
   ],
   "source": [
    "gradients"
   ]
  },
  {
   "cell_type": "code",
   "execution_count": 31,
   "id": "2bf7a3b8-5efd-492b-8633-674b53bd5263",
   "metadata": {},
   "outputs": [],
   "source": [
    "act = [v for v in activation.values()]\n",
    "act0 = act[0]"
   ]
  },
  {
   "cell_type": "code",
   "execution_count": 32,
   "id": "b020792a-d4c1-4ab0-afdb-807b3aa29ed0",
   "metadata": {},
   "outputs": [
    {
     "data": {
      "text/plain": [
       "torch.Size([1, 25])"
      ]
     },
     "execution_count": 32,
     "metadata": {},
     "output_type": "execute_result"
    }
   ],
   "source": [
    "act0.shape"
   ]
  },
  {
   "cell_type": "code",
   "execution_count": 33,
   "id": "06e10242-a0f6-461e-a40e-dbf268c67e80",
   "metadata": {},
   "outputs": [],
   "source": [
    "grad = [v for v in gradients.values()]\n",
    "grad3 = grad[3][0]"
   ]
  },
  {
   "cell_type": "code",
   "execution_count": 34,
   "id": "0cc70140-1f6d-4fa5-b829-31506485a6e6",
   "metadata": {},
   "outputs": [
    {
     "data": {
      "text/plain": [
       "torch.Size([1, 25])"
      ]
     },
     "execution_count": 34,
     "metadata": {},
     "output_type": "execute_result"
    }
   ],
   "source": [
    "grad3.size()"
   ]
  },
  {
   "cell_type": "code",
   "execution_count": 35,
   "id": "924686bb-8481-4707-95b6-1942472eece3",
   "metadata": {},
   "outputs": [
    {
     "data": {
      "text/plain": [
       "([], [])"
      ]
     },
     "execution_count": 35,
     "metadata": {},
     "output_type": "execute_result"
    },
    {
     "data": {
      "image/png": "[encoded data removed]",
      "text/plain": [
       "<Figure size 640x480 with 1 Axes>"
      ]
     },
     "metadata": {},
     "output_type": "display_data"
    }
   ],
   "source": [
    "# weight the activation by corresponding gradients\n",
    "act0 *= grad3\n",
    "\n",
    "# relu on top of the heatmap\n",
    "heatmap = F.relu(act0)\n",
    "\n",
    "# normalize the heatmap\n",
    "heatmap /= torch.max(heatmap)\n",
    "\n",
    "# draw the heatmap\n",
    "plt.imshow(heatmap.reshape(5,5).numpy())\n",
    "plt.xticks([])\n",
    "plt.yticks([])"
   ]
  },
  {
   "cell_type": "code",
   "execution_count": 36,
   "id": "7cc5a707-92be-4056-8cd3-e80b417b759f",
   "metadata": {},
   "outputs": [],
   "source": [
    "from torchvision.transforms.functional import to_pil_image\n",
    "from matplotlib import colormaps\n",
    "import PIL"
   ]
  },
  {
   "cell_type": "code",
   "execution_count": 37,
   "id": "f4fd3097-1a3b-4bab-9f14-b55bffcd7a15",
   "metadata": {},
   "outputs": [
    {
     "data": {
      "image/png": "[encoded data removed]",
      "text/plain": [
       "<Figure size 640x480 with 1 Axes>"
      ]
     },
     "metadata": {},
     "output_type": "display_data"
    }
   ],
   "source": [
    "fig, ax = plt.subplots()\n",
    "ax.axis('off') # removes the axis markers\n",
    "\n",
    "# First plot the original image\n",
    "ax.imshow(to_pil_image(-X[2, :].reshape(20,20), mode='L'))\n",
    "overlay = to_pil_image(heatmap.reshape(5,5), mode='F').resize((20,20), resample=PIL.Image.BICUBIC)\n",
    "\n",
    "cmap = colormaps['jet']\n",
    "overlay = (255 * cmap(np.asarray(overlay) ** 2)).astype(np.uint8)\n",
    "\n",
    "ax.imshow(overlay, alpha=0.6, interpolation='nearest')\n",
    "\n",
    "plt.show()"
   ]
  },
  {
   "cell_type": "code",
   "execution_count": null,
   "id": "8b9f8d00-7112-478c-a46d-b42eddf8a9d3",
   "metadata": {},
   "outputs": [],
   "source": []
  }
 ],
 "metadata": {
  "kernelspec": {
   "display_name": "Python 3 (ipykernel)",
   "language": "python",
   "name": "python3"
  },
  "language_info": {
   "codemirror_mode": {
    "name": "ipython",
    "version": 3
   },
   "file_extension": ".py",
   "mimetype": "text/x-python",
   "name": "python",
   "nbconvert_exporter": "python",
   "pygments_lexer": "ipython3",
   "version": "3.12.1"
  }
 },
 "nbformat": 4,
 "nbformat_minor": 5
}
