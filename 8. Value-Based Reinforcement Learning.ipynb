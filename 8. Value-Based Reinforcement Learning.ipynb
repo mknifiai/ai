{
 "cells": [
  {
   "cell_type": "markdown",
   "id": "6e2f28ef-6480-4cc0-888f-794ac5e189fc",
   "metadata": {},
   "source": [
    "# Tabular Value-Based Reinforcement Learning"
   ]
  },
  {
   "cell_type": "markdown",
   "id": "1cde98ce-de84-4ea6-a118-cbf6ec4274e5",
   "metadata": {},
   "source": [
    "Source: https://datamachines.xyz/the-hands-on-reinforcement-learning-course-page/"
   ]
  },
  {
   "cell_type": "markdown",
   "id": "f294cd64-a953-4046-b74f-859b2a0479c8",
   "metadata": {},
   "source": [
    "The q-value function Q(s, a) associated with a policy π is the total reward the agent expects to get when at state s the agent takes action a and follows policy π thereafter."
   ]
  },
  {
   "cell_type": "markdown",
   "id": "d9b41359-7164-4c37-9ab8-c0bade030938",
   "metadata": {},
   "source": [
    "The optimal q-value function Q*(s, a) is the q-value function associated with the optimal policy π*."
   ]
  },
  {
   "cell_type": "markdown",
   "id": "0e9f0201-cdc4-4d90-aa0d-dced2ef35baa",
   "metadata": {},
   "source": [
    "If you know Q*(s, a) you can infer π*: i.e. you pick as the next action the one that maximizes Q*(s, a) for the current state s."
   ]
  },
  {
   "cell_type": "markdown",
   "id": "4b91b4f9-3790-4a57-b19f-2a7d7cf5c0ab",
   "metadata": {},
   "source": [
    "Q-learning is an iterative algorithm to compute better and better approximations to the optimal q-value function Q*(s, a), starting from an arbitrary initial guess Q⁰(s, a). __(Bellman equation)__"
   ]
  },
  {
   "cell_type": "markdown",
   "id": "c4325850-7c47-4453-88b6-d20d6f3da54b",
   "metadata": {},
   "source": [
    "<img src=\"fig/qfun.png\" width=500 height=500 />"
   ]
  },
  {
   "cell_type": "markdown",
   "id": "5e4debef-10b9-42b2-898f-6dd8f51d46d6",
   "metadata": {},
   "source": [
    "In a tabular environment with a finite number of states and actions, a q-function is essentially a matrix. It has as many rows as states and columns as actions"
   ]
  },
  {
   "cell_type": "markdown",
   "id": "cdc006b2-7290-4a90-8f9f-177985b1bb9b",
   "metadata": {},
   "source": [
    "Ok, but how exactly do you compute the next approximation Q¹(s, a) from Q⁰(s, a)?"
   ]
  },
  {
   "cell_type": "markdown",
   "id": "c9ab5545-3237-46d4-a2cd-117ae8248912",
   "metadata": {},
   "source": [
    "* Learn from examples, lots of examples.\n",
    "* Lots of 5 or 4 -tuples: state, action, reinforcement, next state, next action ($s_t, a_t, r_{t+1}, s_{t+1}, a_{t+1}$) __SARSA__ or __Q-learning__ ($s_t, a_t, r_{t+1}, s_{t+1}$).\n",
    "\n",
    "- **Monte Carlo:** Assign to each state-action pair an average of the observed returns: $ \\;\\;\\;\\text{value}(s_t,a_t) \\approx \\text{mean of } R(s_t,a_t)$\n",
    "  \n",
    "-  **Temporal Difference (TD):** Using $\\text{value}(s_{t+1},a_{t+1})$ as estimate of return from next state, update current state-action value: $\\;\\;\\; \\text{value}(s_t,a_t) \\approx r_{t+1} + \\text{value}(s_{t+1},a_{t+1})$\n"
   ]
  },
  {
   "cell_type": "markdown",
   "id": "8d42bf69-c320-4420-9002-7a71475835b6",
   "metadata": {},
   "source": [
    "## Q-learning agent (Off-policy)"
   ]
  },
  {
   "cell_type": "markdown",
   "id": "ac6ca7f9-5d1e-4d66-8216-8edd2cd1924b",
   "metadata": {},
   "source": [
    "As our q-agent navigates the environment and observes the next state s’ and reward r, you update your q-value matrix with this formula."
   ]
  },
  {
   "cell_type": "markdown",
   "id": "ff49b8b2-afd5-4e49-9614-dd1ee755be8f",
   "metadata": {},
   "source": [
    "<img src=\"fig/nqfun.png\" width=500 height=500 />"
   ]
  },
  {
   "cell_type": "markdown",
   "id": "b0babe14-0dcb-4146-b98d-c46aea410851",
   "metadata": {},
   "source": [
    "\n",
    "__What is the learning rate 𝛼 in this formula?__\n",
    "\n",
    "It controls how large are the updates to the q-function. You need to tune it, as too large of a value will cause unstable training, and too small might not be enough to escape __local minima__.\n",
    "\n",
    "__And this discount factor 𝛾?__\n",
    "\n",
    "The discount factor is a (hyper) parameter between 0 and 1 that determines how much our agent cares about rewards in the distant future relative to those in the immediate future.\n",
    "\n",
    "When 𝛾=0, the agent only cares about maximizing immediate reward. As it happens in life, maximizing immediate reward is not the best recipe for optimal long-term outcomes. This happens in RL agents too.\n",
    "\n",
    "When 𝛾=1, the agent evaluates each of its actions based on the sum total of all of its future rewards. In this case the agent weights equally immediate rewards and future rewards.\n",
    "The discount factor is typically an intermediate value, e.g. 0.6."
   ]
  },
  {
   "cell_type": "code",
   "execution_count": null,
   "id": "e2ef7be0-cc48-4e14-a983-319c768be476",
   "metadata": {},
   "outputs": [],
   "source": [
    "# Q-learning learns the best action in the current state \n",
    "# by looking at the reward for the current state-action combination\n",
    "# plus the maximum rewards for the next state. Eventually the best policy is found in this way\n",
    "    \n",
    "for episode in range(1000): \n",
    "    \n",
    "    done = False \n",
    "    total_reward = 0\n",
    "        \n",
    "    state = env.reset()\n",
    "    \n",
    "    while not done:\n",
    "        if random.uniform(0, 1) < epsilon:\n",
    "            action = env.action_space.sample() # Explore state space\n",
    "        else:\n",
    "            action = np.argmax(Q[state]) # Exploit learned values\n",
    "            \n",
    "        next_state, reward, done, info = env.step(action) \n",
    "            \n",
    "        next_max = np.max(Q[next_state]) \n",
    "            \n",
    "        Q[state ,action] = Q[state ,action] + alpha * (reward + gamma * next_max - Q[state ,action])\n",
    "         \n",
    "        total_reward += reward \n",
    "        state = next_state"
   ]
  },
  {
   "cell_type": "markdown",
   "id": "47e30499-67ff-41ec-9565-a230615a3708",
   "metadata": {},
   "source": [
    "## SARSA agent (On-policy)"
   ]
  },
  {
   "cell_type": "markdown",
   "id": "93ce11ba-e0ef-4eeb-bbfc-faca90040552",
   "metadata": {},
   "source": [
    "<img src=\"fig/sarsa.png\" width=500 height=500 />"
   ]
  },
  {
   "cell_type": "code",
   "execution_count": 1,
   "id": "f47e18c5-84ad-4eb9-9fd2-dd6da2cada13",
   "metadata": {},
   "outputs": [],
   "source": [
    "# On-policy learning selects an action, evaluates it in the environment,\n",
    "# and follows the actions, guided by the behavior policy. \n",
    "# The behavior policy might be 𝜖-greedy, or an other policy that trades off exploration and exploitation.\n",
    "for episode in range(1000): \n",
    "    \n",
    "    done = False \n",
    "    total_reward = 0\n",
    "    \n",
    "    state = env.reset()\n",
    "    \n",
    "    while not done:\n",
    "        if random.uniform(0, 1) < epsilon:\n",
    "            action = env.action_space.sample() # Explore state space\n",
    "        else:\n",
    "            action = np.argmax(Q[state]) # Exploit learned values\n",
    "            \n",
    "        next_state, reward, done, info = env.step(action) \n",
    "\n",
    "        next_action = np.argmax(Q[next_state]) \n",
    "                    \n",
    "        Q[state ,action] = Q[state ,action] + alpha * (reward + gamma * Q[next_state ,next_action] - Q[state ,action])\n",
    "             \n",
    "        total_reward += reward \n",
    "        state = next_state"
   ]
  },
  {
   "cell_type": "markdown",
   "id": "178958dc-d138-4136-8100-a2555f4eb47a",
   "metadata": {},
   "source": [
    "## Tabular Q for the Maze Problem"
   ]
  },
  {
   "cell_type": "code",
   "execution_count": 2,
   "id": "053e4410-ed3d-4963-8ca7-72138018421c",
   "metadata": {},
   "outputs": [
    {
     "name": "stdout",
     "output_type": "stream",
     "text": [
      "Overwriting maze1.txt\n"
     ]
    }
   ],
   "source": [
    "%%writefile maze1.txt\n",
    "************\n",
    "*          *\n",
    "*          *\n",
    "*        * *\n",
    "*        * *\n",
    "*        * *\n",
    "*     **** *\n",
    "*     * G* *\n",
    "*     *  * *\n",
    "*     *  * *\n",
    "*          *\n",
    "************"
   ]
  },
  {
   "cell_type": "code",
   "execution_count": 3,
   "id": "9947ca2b-1a78-4eb2-af1d-33ac9eb752bc",
   "metadata": {},
   "outputs": [
    {
     "name": "stdout",
     "output_type": "stream",
     "text": [
      "************\n",
      "*          *\n",
      "*          *\n",
      "*        * *\n",
      "*        * *\n",
      "*        * *\n",
      "*     **** *\n",
      "*     * G* *\n",
      "*     *  * *\n",
      "*     *  * *\n",
      "*          *\n",
      "************\n"
     ]
    }
   ],
   "source": [
    "!cat maze1.txt"
   ]
  },
  {
   "cell_type": "markdown",
   "id": "654079ca-9d94-4135-b635-796eee72236f",
   "metadata": {},
   "source": [
    "How do we implement the Q function?  For the maze problem, we know we can\n",
    "\n",
    "   *  enumerate all the states (positions) the set of which is finite ($10\\cdot 10$),\n",
    "   *  enumerate all actions, the set of which is finite (4),\n",
    "   *  calculate the new state from the old state and an action, and\n",
    "   *  represent in memory all state-action combinations ($10\\cdot 10\\cdot 4$).\n",
    "\n",
    "So, let's just store the Q function in table form.\n",
    "\n",
    "The Q table will need three dimensions, for $x$, $y$, and the action."
   ]
  },
  {
   "cell_type": "markdown",
   "id": "1fe3b2b4-63c4-4e5a-92ad-e9eb0de8a925",
   "metadata": {},
   "source": [
    "    Qold = Q[stateOld[0], stateOld[1], actionOld]\n",
    "    Qnew = Q[state[0], state[1], action]\n",
    "    TDError = r + Qnew - Qold\n",
    "    Q[stateOld[0], stateOld[1], actionOld] = Qold + rho * TDError"
   ]
  },
  {
   "cell_type": "markdown",
   "id": "3c37bb0a-52ff-4851-b84e-f7b5d3ca4c79",
   "metadata": {},
   "source": [
    "For our agent to interact with its world, we must implement the steps\n",
    "\n",
    "   1.  Initialize Q.\n",
    "   1.  Choose random, non-goal, state.\n",
    "   1. Repeat:\n",
    "       1. If at goal,\n",
    "        1. Update Qold with TD error (1 - Qold)\n",
    "        1. Pick new random state\n",
    "       1. Otherwise (not at goal),\n",
    "         1. Select next action.\n",
    "         1. If not first step, update Qold with TD error (1 + Qnew - Qold)\n",
    "         1.  Shift current state and action to old ones.\n",
    "         1. Apply action to get new state.\n",
    "\n",
    "In Python it would look something like the following for a 10x10 maze.\n",
    "\n",
    "     Q = np.zeros((10,10,4))                  # 1.\n",
    "     s = np.random.randint(0,10,2)            # 2.\n",
    "     for step in range(10000):               # 3. (or forever)\n",
    "         if isGoal(s):                        # 3.A.\n",
    "             Q[sOld[0],sOld[1],aOld] +=       # 3.A.a\n",
    "                  rho * (1 - Q[sOld[0],sOld[1],aOld])\n",
    "             s = np.random.randint(0,10,2)    # 3.A.b\n",
    "         else:                                # 3.B\n",
    "             a = np.argmin(Q[s[0],s[1],:])    # 3.B.a\n",
    "             if steps > 1:\n",
    "                 Q[sOld[0],sOld[1],aOld] +=   # 3.B.b\n",
    "                      rho * (1 + Q[s[0],s[1],a] - Q[sOld[0],sOld[1],aOld])\n",
    "             sOld, aOld = s, a                # 3.B.c\n",
    "             s += actions[a,:]                # 3.B.d"
   ]
  },
  {
   "cell_type": "markdown",
   "id": "bf75c87d-0296-4853-b08d-dfbbffa00583",
   "metadata": {},
   "source": [
    "# Python Solution of the Maze Problem"
   ]
  },
  {
   "cell_type": "code",
   "execution_count": 4,
   "id": "63c0e33e-ffb7-4cad-b906-75ad05374b84",
   "metadata": {},
   "outputs": [],
   "source": [
    "import numpy as np\n",
    "import matplotlib.pyplot as plt\n",
    "from mpl_toolkits.mplot3d import Axes3D"
   ]
  },
  {
   "cell_type": "code",
   "execution_count": 5,
   "id": "375d52b8-d438-4a87-9af6-4525ce4c31cd",
   "metadata": {},
   "outputs": [
    {
     "name": "stdout",
     "output_type": "stream",
     "text": [
      "************\n",
      "*          *\n",
      "*          *\n",
      "*        * *\n",
      "*        * *\n",
      "*        * *\n",
      "*     **** *\n",
      "*     * G* *\n",
      "*     *  * *\n",
      "*     *  * *\n",
      "*          *\n",
      "************\n"
     ]
    }
   ],
   "source": [
    "with open('maze1.txt') as f:\n",
    "    for line in f:\n",
    "        print(line.strip())"
   ]
  },
  {
   "cell_type": "code",
   "execution_count": 6,
   "id": "9539d8f6-c46c-4054-9820-0244432a8108",
   "metadata": {},
   "outputs": [
    {
     "data": {
      "text/plain": [
       "['************',\n",
       " '*          *',\n",
       " '*          *',\n",
       " '*        * *',\n",
       " '*        * *',\n",
       " '*        * *',\n",
       " '*     **** *',\n",
       " '*     * G* *',\n",
       " '*     *  * *',\n",
       " '*     *  * *',\n",
       " '*          *',\n",
       " '************']"
      ]
     },
     "execution_count": 6,
     "metadata": {},
     "output_type": "execute_result"
    }
   ],
   "source": [
    "mazelist = []\n",
    "with open('maze1.txt') as f:\n",
    "    for line in f:\n",
    "        mazelist.append(line.strip())\n",
    "mazelist"
   ]
  },
  {
   "cell_type": "code",
   "execution_count": 7,
   "id": "30a2eadd-1f2f-4a5f-8289-bfcf94c15e9b",
   "metadata": {},
   "outputs": [
    {
     "name": "stdout",
     "output_type": "stream",
     "text": [
      "(12, 12)\n"
     ]
    },
    {
     "data": {
      "text/plain": [
       "array([['*', '*', '*', '*', '*', '*', '*', '*', '*', '*', '*', '*'],\n",
       "       ['*', ' ', ' ', ' ', ' ', ' ', ' ', ' ', ' ', ' ', ' ', '*'],\n",
       "       ['*', ' ', ' ', ' ', ' ', ' ', ' ', ' ', ' ', ' ', ' ', '*'],\n",
       "       ['*', ' ', ' ', ' ', ' ', ' ', ' ', ' ', ' ', '*', ' ', '*'],\n",
       "       ['*', ' ', ' ', ' ', ' ', ' ', ' ', ' ', ' ', '*', ' ', '*'],\n",
       "       ['*', ' ', ' ', ' ', ' ', ' ', ' ', ' ', ' ', '*', ' ', '*'],\n",
       "       ['*', ' ', ' ', ' ', ' ', ' ', '*', '*', '*', '*', ' ', '*'],\n",
       "       ['*', ' ', ' ', ' ', ' ', ' ', '*', ' ', 'G', '*', ' ', '*'],\n",
       "       ['*', ' ', ' ', ' ', ' ', ' ', '*', ' ', ' ', '*', ' ', '*'],\n",
       "       ['*', ' ', ' ', ' ', ' ', ' ', '*', ' ', ' ', '*', ' ', '*'],\n",
       "       ['*', ' ', ' ', ' ', ' ', ' ', ' ', ' ', ' ', ' ', ' ', '*'],\n",
       "       ['*', '*', '*', '*', '*', '*', '*', '*', '*', '*', '*', '*']],\n",
       "      dtype='<U1')"
      ]
     },
     "execution_count": 7,
     "metadata": {},
     "output_type": "execute_result"
    }
   ],
   "source": [
    "maze = np.array(mazelist).view('U1').reshape((len(mazelist), len(mazelist[0])))\n",
    "print(maze.shape)\n",
    "maze"
   ]
  },
  {
   "cell_type": "code",
   "execution_count": 8,
   "id": "f11864cc-de8a-46ad-ac16-9db653101b11",
   "metadata": {},
   "outputs": [
    {
     "name": "stdout",
     "output_type": "stream",
     "text": [
      "************\n",
      "*          *\n",
      "*          *\n",
      "*        * *\n",
      "*        * *\n",
      "*        * *\n",
      "*     **** *\n",
      "*     * G* *\n",
      "*     *  * *\n",
      "*     *  * *\n",
      "*          *\n",
      "************\n"
     ]
    }
   ],
   "source": [
    "for i in range(maze.shape[0]):\n",
    "    for j in range(maze.shape[1]):\n",
    "        print(maze[i,j], end='')\n",
    "    print()"
   ]
  },
  {
   "cell_type": "code",
   "execution_count": 9,
   "id": "cdd0825a-fd90-4335-9a5b-4ffb245a32ac",
   "metadata": {},
   "outputs": [],
   "source": [
    "### Draw Q surface, showing minimum Q value for each state\n",
    "\n",
    "def showQ(Q, title, ax):\n",
    "    (m, n, _) = Q.shape\n",
    "    gridsize = max(m, n)\n",
    "    rows = np.floor(np.linspace(0, m - 0.5, gridsize))\n",
    "    cols = np.floor(np.linspace(0, n - 0.5, gridsize))\n",
    "    ygrid, xgrid = np.meshgrid(rows, cols, indexing='ij')\n",
    "    points = np.vstack((ygrid.flat, xgrid.flat))\n",
    "    Qmins = [np.min( Q[int(s1), int(s2), :]) for (s1, s2) in zip(points[0, :], points[1, :])]\n",
    "    Qmins = np.asarray(Qmins).reshape(xgrid.shape)\n",
    "    ax.plot_surface(xgrid, ygrid, Qmins, color='yellow')\n",
    "    plt.ylim(m - 1 + 0.5, 0 - 0.5)\n",
    "    ax.set_zlabel('Qmin')\n",
    "    ax.set_title(f'Min {np.min(Qmins):.1f} Max {np.max(Qmins):.1f}')\n",
    "\n",
    "### Show current policy\n",
    "\n",
    "def showPolicy(Q):\n",
    "    (m, n, _) = Q.shape\n",
    "    bestactions = np.argmin(Q, axis=2)\n",
    "    prow, pcol = np.meshgrid(np.arange(m), np.arange(n), indexing='ij')\n",
    "    arrowrow = actions[:, 0][bestactions]\n",
    "    arrowcol = actions[:, 1][bestactions]\n",
    "    plt.quiver(pcol, prow, arrowcol, -arrowrow)\n",
    "    walls_row, walls_col = np.where(maze[1:-1, 1:-1] == '*') \n",
    "    plt.plot(walls_col, walls_row, 'ro', ms=15, alpha=0.5)\n",
    "    goal_row, goal_col = np.where(maze[1:-1, 1:-1] == 'G')\n",
    "    plt.plot(goal_col, goal_row, 'go', ms=15, alpha=0.5)\n",
    "    plt.ylim(m - 1 + 0.5, 0 - 0.5)\n",
    "    plt.xlim(0 - 0.5, n - 1 + 0.5)"
   ]
  },
  {
   "cell_type": "markdown",
   "id": "3851a4c0-973d-4662-9a0c-498e29858dff",
   "metadata": {},
   "source": [
    "Construct arrays to hold the tabular Q values updated by temporal differences"
   ]
  },
  {
   "cell_type": "code",
   "execution_count": 10,
   "id": "587230ee-3cb2-4c23-bed7-0df102ec0091",
   "metadata": {},
   "outputs": [],
   "source": [
    "m, n = maze.shape\n",
    "m -= 2  # for ceiling and floor\n",
    "n -= 2  # for walls\n",
    "actions = np.array([[0, 1], [1, 0], [0, -1], [-1, 0]])  # changes in row and column position of RL agent\n",
    "# right, down, left, up\n",
    "\n",
    "def init_Q(maze):\n",
    "    Q = np.zeros((m, n, 4))\n",
    "    \n",
    "    ### Set Q value of invalid actions to np.inf\n",
    "    for mi in range(m):\n",
    "        for ni in range(n):\n",
    "            for ai in range(4):\n",
    "                r = mi + actions[ai, 0]\n",
    "                c = ni + actions[ai, 1]\n",
    "                if maze[r + 1, c + 1] == '*':\n",
    "                    Q[mi, ni, ai] = np.inf\n",
    "                    \n",
    "    return Q"
   ]
  },
  {
   "cell_type": "code",
   "execution_count": 11,
   "id": "9d6bc123-aaf9-4763-a712-9437a0eee7d6",
   "metadata": {},
   "outputs": [],
   "source": [
    "nSteps = 100_000\n",
    "rho = 0.1\n",
    "epsilon = 0.2"
   ]
  },
  {
   "cell_type": "code",
   "execution_count": 12,
   "id": "4a350f92-05b8-4add-b6d6-bc815a9b658a",
   "metadata": {},
   "outputs": [],
   "source": [
    "trace = np.zeros((nSteps, 3)) # for x, y, and a"
   ]
  },
  {
   "cell_type": "code",
   "execution_count": 13,
   "id": "aedb9c23-6aa1-407a-95f9-0e77bc606033",
   "metadata": {},
   "outputs": [],
   "source": [
    "from IPython.display import display, clear_output"
   ]
  },
  {
   "cell_type": "code",
   "execution_count": 14,
   "id": "a009dfb9-1992-4bd7-8770-a403568eaa96",
   "metadata": {},
   "outputs": [
    {
     "data": {
      "image/png": "[encoded data removed]",
      "text/plain": [
       "<Figure size 1000x1000 with 4 Axes>"
      ]
     },
     "metadata": {},
     "output_type": "display_data"
    }
   ],
   "source": [
    "fig = plt.figure(figsize=(10, 10))\n",
    "\n",
    "Q = init_Q(maze)\n",
    "\n",
    "nSteps = 100_000\n",
    "rho = 0.1\n",
    "epsilon = 0.2\n",
    "trace = np.zeros((nSteps, 3)) # for x, y, and a\n",
    "\n",
    "s = np.array([1, 1])  # start position\n",
    "a = 1 #first action (index)\n",
    "trials = []\n",
    "steps = 0\n",
    "goals = 0\n",
    "\n",
    "for step in range(nSteps):\n",
    "    trace[steps, :] = s.tolist() + [a]\n",
    "    here = maze[s[0] + 1, s[1] + 1]\n",
    "    if here == 'G':\n",
    "        # Found the Goal!\n",
    "        goals += 1\n",
    "        Q[s[0], s[1], a] = 0\n",
    "        if steps > 0:\n",
    "            Q[sold[0], sold[1], aold] += rho * (1 - Q[sold[0], sold[1], aold])\n",
    "\n",
    "        s = np.array([np.random.randint(0, m), np.random.randint(0, n)])\n",
    "        trials.append(steps)\n",
    "    \n",
    "    else:\n",
    "        # Not goal\n",
    "        steps += 1    \n",
    "        Qfunc = Q \n",
    "    \n",
    "        # Pick next action a\n",
    "        if np.random.uniform() < epsilon:\n",
    "            validActions = [a for (i, a) in enumerate(range(4)) \n",
    "                            if not np.isinf(Qfunc[s[0], s[1], i])]\n",
    "            a = np.random.choice(validActions)\n",
    "        else:\n",
    "            a = np.argmin(Qfunc[s[0], s[1], :])\n",
    "\n",
    "        if steps > 1:\n",
    "            Q[sold[0], sold[1], aold] += rho * (1 + Q[s[0], s[1], a] - Q[sold[0], sold[1], aold])\n",
    "\n",
    "        sold = s\n",
    "        aold = a\n",
    "        s = s + actions[a, :]\n",
    "\n",
    "        # Update display each time goal is reached until reached 20 times,\n",
    "        #  then update display only when number of goals reached is divisible by 100\n",
    "        \n",
    "    if (here == 'G' and (goals < 100 or goals % 1000 == 0)):\n",
    "        \n",
    "        fig.clf()\n",
    "        \n",
    "        ax = fig.add_subplot(3, 2, 1, projection='3d')\n",
    "        showQ(Q, 'TD', ax)\n",
    "\n",
    "        plt.subplot(3, 2, 2)\n",
    "        showPolicy(Q)\n",
    "        plt.title('Q Policy')\n",
    "\n",
    "        \n",
    "        plt.subplot(3, 2, 3)\n",
    "        plt.plot(trace[:steps + 1, 1], trace[:steps + 1, 0], 'o-')\n",
    "        plt.plot(trace[0, 1], trace[0, 0], 'ro')\n",
    "        plt.xlim(0 - 0.5, 9 + 0.5)\n",
    "        plt.ylim(9 + 0.5, 0 - 0.5)\n",
    "        plt.title('Most Recent Trial Starting at Red Dot')\n",
    "        \n",
    "\n",
    "        plt.subplot(3, 2, 4)\n",
    "        plt.plot(trials, '-')\n",
    "        plt.xlabel('Trial')\n",
    "        plt.ylabel('Steps to Goal')\n",
    "\n",
    "        clear_output(wait=True)\n",
    "        display(fig);\n",
    "\n",
    "    if here == 'G':\n",
    "        steps = 0\n",
    "        \n",
    "clear_output(wait=True)"
   ]
  },
  {
   "cell_type": "code",
   "execution_count": null,
   "id": "d175b8a5-011b-4732-bb00-2840a339e650",
   "metadata": {},
   "outputs": [],
   "source": []
  }
 ],
 "metadata": {
  "kernelspec": {
   "display_name": "Python 3 (ipykernel)",
   "language": "python",
   "name": "python3"
  },
  "language_info": {
   "codemirror_mode": {
    "name": "ipython",
    "version": 3
   },
   "file_extension": ".py",
   "mimetype": "text/x-python",
   "name": "python",
   "nbconvert_exporter": "python",
   "pygments_lexer": "ipython3",
   "version": "3.12.1"
  }
 },
 "nbformat": 4,
 "nbformat_minor": 5
}
