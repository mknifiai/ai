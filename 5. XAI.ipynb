{
 "cells": [
  {
   "cell_type": "markdown",
   "id": "1a559c94-d4cc-42fe-bd74-be5cf0159e79",
   "metadata": {},
   "source": [
    "# Explainable AI"
   ]
  },
  {
   "cell_type": "markdown",
   "id": "18c43e99-4e59-43c3-927b-97ccc7241ca1",
   "metadata": {},
   "source": [
    "__Source__: What is explainable AI? https://www.ibm.com/think/topics/explainable-ai"
   ]
  },
  {
   "cell_type": "markdown",
   "id": "dbc445e0-19ab-4f7c-b64c-f9b1319519a4",
   "metadata": {},
   "source": [
    "What is explainable AI?"
   ]
  },
  {
   "cell_type": "markdown",
   "id": "58751cc3-12ca-49cc-9c98-c25ce2235825",
   "metadata": {},
   "source": [
    "Explainable artificial intelligence (XAI) is a set of processes and methods that allows human users to comprehend and trust the results and output created by machine learning algorithms."
   ]
  },
  {
   "cell_type": "markdown",
   "id": "1183c635-4ae3-4bcc-9883-67caf33235bb",
   "metadata": {},
   "source": [
    "- It helps characterize model accuracy, fairness, transparency and outcomes in AI-powered decision making.\n",
    "\n",
    "  \n",
    "- It is crucial for an organization in building trust and confidence when putting AI models into production"
   ]
  },
  {
   "cell_type": "markdown",
   "id": "671bd674-cae8-4049-9ca4-f9d6e329c478",
   "metadata": {},
   "source": [
    "### Explainable AI techniques"
   ]
  },
  {
   "cell_type": "markdown",
   "id": "5964ea65-f21f-43d8-950a-ac94f12468bf",
   "metadata": {},
   "source": [
    "The setup of XAI techniques consists of three main methods. \n",
    "\n",
    "__Prediction accuracy__ and __traceability__ address technology requirements while __decision understanding__ addresses human needs."
   ]
  },
  {
   "cell_type": "markdown",
   "id": "c661503f-e840-4eb0-bf57-01ac0a98150d",
   "metadata": {},
   "source": [
    "#### Prediction accuracy"
   ]
  },
  {
   "cell_type": "markdown",
   "id": "0e9ba269-08e1-46be-b432-1d256592c1a9",
   "metadata": {},
   "source": [
    "Running simulations and comparing XAI output to the results in the training data set, the prediction accuracy can be determined. \n",
    "\n",
    "\n",
    "Local Interpretable Model-Agnostic Explanations (LIME) \n",
    "\n",
    "    - It tests what happens to the predictions when you give variations of your data into the machine learning model. \n",
    "\n",
    "SHAP (SHapley Additive exPlanations) \n",
    "\n",
    "    - It is a game theoretic approach to explain the output of any machine learning model.\n",
    "    \n",
    "    - It reflects the significance of the contribution of features for each output prediction.\n",
    "\n"
   ]
  },
  {
   "cell_type": "markdown",
   "id": "15d69d7e-cfe4-44a4-8fac-2df7b66d7abc",
   "metadata": {},
   "source": [
    "#### Traceability"
   ]
  },
  {
   "cell_type": "markdown",
   "id": "f957b8a2-3ee4-47d1-abed-ec13e34ac2c4",
   "metadata": {},
   "source": [
    "- DeepLIFT (Deep Learning Important FeaTures), which compares the activation of each neuron to its reference neuron and shows a traceable link between each activated neuron and even shows dependencies between them.\n",
    "\n",
    "- Gradient-weighted Class Activation Map (Gradcam), used to generate heatmaps which highlights the important region of the image that contribute the way a model performs as it does. "
   ]
  },
  {
   "cell_type": "markdown",
   "id": "0a219e33-85be-41bd-949c-6feb786256db",
   "metadata": {},
   "source": [
    "## Experiments on Synthetic Data"
   ]
  },
  {
   "cell_type": "code",
   "execution_count": 1,
   "id": "63da8ba3-8277-40c4-b4e3-d46912fa8b8f",
   "metadata": {},
   "outputs": [],
   "source": [
    "import numpy as np\n",
    "import matplotlib.pyplot as plt\n",
    "import torch\n",
    "from torch import nn\n",
    "import pandas as pd\n",
    "import torch.utils.data as Data\n",
    "from torchinfo import summary\n",
    "\n",
    "from torch.nn import functional as F\n",
    "\n",
    "from torch.nn.functional import softmax, interpolate\n",
    "from torchvision.transforms.functional import normalize, resize, to_pil_image\n",
    "\n",
    "from torchcam.methods import SmoothGradCAMpp, LayerCAM\n",
    "from torchcam.utils import overlay_mask"
   ]
  },
  {
   "cell_type": "code",
   "execution_count": 2,
   "id": "ca177256-e837-46e7-b9f5-c413186fb704",
   "metadata": {},
   "outputs": [],
   "source": [
    "device = torch.device('cuda' if torch.cuda.is_available() else 'cpu')"
   ]
  },
  {
   "cell_type": "code",
   "execution_count": 3,
   "id": "8ae5753b-70f0-43a1-9ebe-225324f42b07",
   "metadata": {},
   "outputs": [
    {
     "name": "stdout",
     "output_type": "stream",
     "text": [
      "cpu\n"
     ]
    }
   ],
   "source": [
    "print(device)"
   ]
  },
  {
   "cell_type": "code",
   "execution_count": 4,
   "id": "07e1f199-4f63-49a0-8847-863b9095c5c1",
   "metadata": {},
   "outputs": [],
   "source": [
    "def makeImages(nEach):\n",
    "    images = np.zeros((nEach * 2, 1, 20, 20))  # nSamples, nChannels, rows, columns\n",
    "    radii = 3 + np.random.randint(10 - 5, size=(nEach * 2, 1))\n",
    "    centers = np.zeros((nEach * 2, 2))\n",
    "    for i in range(nEach * 2):\n",
    "        r = radii[i, 0]\n",
    "        centers[i, :] = r + 1 + np.random.randint(18 - 2 * r, size=(1, 2))\n",
    "        x = int(centers[i, 0])\n",
    "        y = int(centers[i, 1])\n",
    "        if i < nEach:\n",
    "            # squares\n",
    "            images[i, 0, x - r:x + r, y + r] = 1.0\n",
    "            images[i, 0, x - r:x + r, y - r] = 1.0\n",
    "            images[i, 0, x - r, y - r:y + r] = 1.0\n",
    "            images[i, 0, x + r, y - r:y + r + 1] = 1.0\n",
    "        else:\n",
    "            # diamonds\n",
    "            images[i, 0, range(x - r, x), range(y, y + r)] = 1.0\n",
    "            images[i, 0, range(x - r, x), range(y, y - r, -1)] = 1.0\n",
    "            images[i, 0, range(x, x + r + 1), range(y + r, y - 1, -1)] = 1.0\n",
    "            images[i, 0, range(x, x + r), range(y - r, y)] = 1.0\n",
    "\n",
    "        T = np.zeros((nEach * 2, 1))\n",
    "        T[nEach:] = 1\n",
    "    return images, T"
   ]
  },
  {
   "cell_type": "code",
   "execution_count": 5,
   "id": "4b9f39fd-f19f-4c04-ac89-a9a48e0fc525",
   "metadata": {},
   "outputs": [
    {
     "name": "stdout",
     "output_type": "stream",
     "text": [
      "(2000, 400) (2000, 1)\n"
     ]
    }
   ],
   "source": [
    "nEach = 1000\n",
    "X, T = makeImages(nEach)\n",
    "X = X.reshape(X.shape[0], -1)\n",
    "print(X.shape, T.shape)\n",
    "\n",
    "Xtest, Ttest = makeImages(nEach)\n",
    "Xtest = Xtest.reshape(Xtest.shape[0], -1)"
   ]
  },
  {
   "cell_type": "code",
   "execution_count": 6,
   "id": "131e89e5-f331-4e6e-aa67-c71b19d2cd34",
   "metadata": {},
   "outputs": [
    {
     "name": "stdout",
     "output_type": "stream",
     "text": [
      "[0. 1.]\n"
     ]
    },
    {
     "data": {
      "image/png": "[encoded data removed]",
      "text/plain": [
       "<Figure size 640x480 with 1 Axes>"
      ]
     },
     "metadata": {},
     "output_type": "display_data"
    }
   ],
   "source": [
    "print(np.unique(T))\n",
    "plt.plot(T);"
   ]
  },
  {
   "cell_type": "code",
   "execution_count": 7,
   "id": "66d55a96-2e40-445a-9e91-e57705c5ff17",
   "metadata": {},
   "outputs": [
    {
     "data": {
      "text/plain": [
       "([], [])"
      ]
     },
     "execution_count": 7,
     "metadata": {},
     "output_type": "execute_result"
    },
    {
     "data": {
      "image/png": "[encoded data removed]",
      "text/plain": [
       "<Figure size 640x480 with 1 Axes>"
      ]
     },
     "metadata": {},
     "output_type": "display_data"
    }
   ],
   "source": [
    "plt.imshow(-X[-1, :].reshape(20, 20), cmap='gray')\n",
    "plt.xticks([])\n",
    "plt.yticks([])"
   ]
  },
  {
   "cell_type": "code",
   "execution_count": 8,
   "id": "f7577e5e-331e-482c-998b-515607c6400b",
   "metadata": {},
   "outputs": [
    {
     "data": {
      "image/png": "[encoded data removed]",
      "text/plain": [
       "<Figure size 1000x300 with 18 Axes>"
      ]
     },
     "metadata": {},
     "output_type": "display_data"
    }
   ],
   "source": [
    "plt.figure(figsize=(10, 3))\n",
    "\n",
    "for i in range(1,10):\n",
    "    plt.subplot(2, 10, i + 1)\n",
    "    plt.imshow(-X[i-1, :].reshape(20,20), cmap='gray')\n",
    "    plt.xticks([])\n",
    "    plt.yticks([])\n",
    "\n",
    "    plt.subplot(2, 10, i + 11)\n",
    "    plt.imshow(-X[-i, :].reshape(20,20), cmap='gray')\n",
    "    plt.xticks([])\n",
    "    plt.yticks([])"
   ]
  },
  {
   "cell_type": "code",
   "execution_count": 9,
   "id": "faafaab5-d077-458b-bbf7-6707b9bf4f3b",
   "metadata": {},
   "outputs": [],
   "source": [
    "class DData(Data.Dataset):\n",
    "    def __init__(self, X, y):\n",
    "        self.X = torch.from_numpy(X.astype(np.float32))\n",
    "        self.y = torch.from_numpy(y.astype(np.float32))\n",
    "    \n",
    "    def __getitem__(self, i):\n",
    "        return self.X[i, :], self.y[i]\n",
    "\n",
    "    def __len__(self):\n",
    "        return len(self.X)"
   ]
  },
  {
   "cell_type": "code",
   "execution_count": 10,
   "id": "74063927-376f-417c-ac2d-1f8fd7a638d8",
   "metadata": {},
   "outputs": [],
   "source": [
    "Xtrain = DData(X,T)\n",
    "Xtest = DData(Xtest,Ttest)"
   ]
  },
  {
   "cell_type": "code",
   "execution_count": 11,
   "id": "0dc4be53-546b-4cb6-9838-4799903b3e03",
   "metadata": {},
   "outputs": [],
   "source": [
    "class myClassifier(nn.Module):\n",
    "    def __init__(self, n_features, hiddenA, hiddenB):\n",
    "        super(myClassifier, self).__init__()\n",
    "        self.fc1 = nn.Linear(n_features, hiddenA)\n",
    "        self.fc2 = nn.Linear(hiddenA, hiddenB)\n",
    "        self.output = nn.Linear(hiddenB, 1)\n",
    "        self.sigmoid = nn.Sigmoid()\n",
    "\n",
    "    def forward(self, x):\n",
    "        x = F.relu(self.fc1(x))\n",
    "        x = F.relu(self.fc2(x))\n",
    "        return self.sigmoid(self.output(x))"
   ]
  },
  {
   "cell_type": "code",
   "execution_count": 12,
   "id": "63bfa1aa-cea4-4040-9853-9456e661e78d",
   "metadata": {},
   "outputs": [],
   "source": [
    "model = myClassifier(X.shape[1], 25, 5)"
   ]
  },
  {
   "cell_type": "code",
   "execution_count": 13,
   "id": "4e9d3da0-cd8f-42a6-a0a2-f6edf02c934c",
   "metadata": {},
   "outputs": [
    {
     "data": {
      "text/plain": [
       "Linear(in_features=400, out_features=25, bias=True)"
      ]
     },
     "execution_count": 13,
     "metadata": {},
     "output_type": "execute_result"
    }
   ],
   "source": [
    "model.fc1"
   ]
  },
  {
   "cell_type": "code",
   "execution_count": 14,
   "id": "515fbce3-8dc3-440e-99ba-c889736be4de",
   "metadata": {},
   "outputs": [
    {
     "data": {
      "text/plain": [
       "torch.Size([25, 400])"
      ]
     },
     "execution_count": 14,
     "metadata": {},
     "output_type": "execute_result"
    }
   ],
   "source": [
    "model.fc1.weight.shape"
   ]
  },
  {
   "cell_type": "code",
   "execution_count": 15,
   "id": "62b568eb-ba07-49ea-9de3-33552e08cb31",
   "metadata": {},
   "outputs": [
    {
     "data": {
      "text/plain": [
       "torch.Size([25])"
      ]
     },
     "execution_count": 15,
     "metadata": {},
     "output_type": "execute_result"
    }
   ],
   "source": [
    "model.fc1.bias.shape"
   ]
  },
  {
   "cell_type": "code",
   "execution_count": 16,
   "id": "5ad368c4-477c-4075-bcad-486346827545",
   "metadata": {},
   "outputs": [
    {
     "data": {
      "text/plain": [
       "=================================================================\n",
       "Layer (type:depth-idx)                   Param #\n",
       "=================================================================\n",
       "myClassifier                             --\n",
       "├─Linear: 1-1                            10,025\n",
       "├─Linear: 1-2                            130\n",
       "├─Linear: 1-3                            6\n",
       "├─Sigmoid: 1-4                           --\n",
       "=================================================================\n",
       "Total params: 10,161\n",
       "Trainable params: 10,161\n",
       "Non-trainable params: 0\n",
       "================================================================="
      ]
     },
     "execution_count": 16,
     "metadata": {},
     "output_type": "execute_result"
    }
   ],
   "source": [
    "summary(model)"
   ]
  },
  {
   "cell_type": "code",
   "execution_count": 17,
   "id": "62ffd699-811d-44d5-9f7c-8b26ed9b88e6",
   "metadata": {},
   "outputs": [
    {
     "data": {
      "text/plain": [
       "[Parameter containing:\n",
       " tensor([[-0.0088, -0.0095,  0.0335,  ..., -0.0448, -0.0061,  0.0168],\n",
       "         [-0.0380,  0.0363,  0.0421,  ..., -0.0238,  0.0288, -0.0121],\n",
       "         [ 0.0274, -0.0084, -0.0401,  ..., -0.0136,  0.0392,  0.0495],\n",
       "         ...,\n",
       "         [ 0.0417, -0.0326,  0.0191,  ...,  0.0279, -0.0442, -0.0261],\n",
       "         [ 0.0083, -0.0386,  0.0381,  ..., -0.0088, -0.0063, -0.0253],\n",
       "         [ 0.0053,  0.0157, -0.0424,  ...,  0.0314,  0.0206, -0.0184]],\n",
       "        requires_grad=True),\n",
       " Parameter containing:\n",
       " tensor([-0.0022,  0.0350, -0.0111,  0.0455, -0.0142,  0.0489,  0.0237,  0.0405,\n",
       "         -0.0254, -0.0337,  0.0119,  0.0447,  0.0037, -0.0085, -0.0120, -0.0031,\n",
       "          0.0282, -0.0371,  0.0309,  0.0100, -0.0264, -0.0230,  0.0141, -0.0327,\n",
       "         -0.0362], requires_grad=True),\n",
       " Parameter containing:\n",
       " tensor([[-0.0331,  0.1741, -0.1491,  0.0021, -0.0993,  0.1211, -0.1064,  0.0983,\n",
       "           0.0708, -0.1839,  0.1534,  0.1646,  0.1922,  0.1905, -0.0321, -0.0878,\n",
       "           0.0166,  0.0324, -0.0576, -0.0560,  0.1646, -0.0342,  0.0613,  0.1268,\n",
       "          -0.0097],\n",
       "         [ 0.0097,  0.1422, -0.0872, -0.0202, -0.1534,  0.0072, -0.0765,  0.0794,\n",
       "          -0.1202, -0.1703, -0.0146,  0.0597,  0.1096,  0.1537,  0.0157, -0.0944,\n",
       "          -0.0993, -0.0059,  0.1953,  0.1902, -0.0305,  0.0801, -0.0381, -0.0277,\n",
       "          -0.0091],\n",
       "         [-0.0823,  0.1670,  0.0667,  0.1894, -0.0228, -0.0216, -0.1305, -0.1104,\n",
       "           0.1394,  0.0314, -0.0673,  0.0940,  0.1918, -0.0974, -0.0687,  0.0668,\n",
       "           0.1718, -0.1592,  0.0128, -0.0900, -0.0102, -0.0476,  0.1923, -0.1417,\n",
       "           0.0832],\n",
       "         [-0.1015, -0.0295, -0.1171, -0.1446, -0.1089,  0.1212, -0.0380,  0.0853,\n",
       "          -0.0912, -0.0169,  0.1367, -0.1042, -0.1203, -0.0426, -0.1219,  0.0176,\n",
       "           0.1227,  0.1748, -0.1781,  0.0897, -0.0158,  0.1721,  0.1407, -0.1881,\n",
       "          -0.1323],\n",
       "         [-0.1291,  0.1681,  0.1015, -0.0024, -0.0675,  0.1576,  0.1347,  0.1364,\n",
       "          -0.1460,  0.1423,  0.0921, -0.1827, -0.1882, -0.0544, -0.0643, -0.1183,\n",
       "           0.0751,  0.0016,  0.1800,  0.0121,  0.0509, -0.0369, -0.0537,  0.0381,\n",
       "          -0.0427]], requires_grad=True),\n",
       " Parameter containing:\n",
       " tensor([ 0.0684, -0.1057,  0.1624,  0.0665, -0.0574], requires_grad=True),\n",
       " Parameter containing:\n",
       " tensor([[ 0.3401, -0.3658, -0.0589, -0.0844, -0.3853]], requires_grad=True),\n",
       " Parameter containing:\n",
       " tensor([0.3073], requires_grad=True)]"
      ]
     },
     "execution_count": 17,
     "metadata": {},
     "output_type": "execute_result"
    }
   ],
   "source": [
    "list(model.parameters())"
   ]
  },
  {
   "cell_type": "code",
   "execution_count": 18,
   "id": "5250b20e-f324-440d-b983-fdd94b023f22",
   "metadata": {},
   "outputs": [],
   "source": [
    "batch_size = 1\n",
    "train_loader = Data.DataLoader(Xtrain, batch_size=batch_size, shuffle=True, num_workers= 0)\n",
    "test_loader = Data.DataLoader(Xtest, batch_size=batch_size, shuffle=True, num_workers= 0)"
   ]
  },
  {
   "cell_type": "code",
   "execution_count": 19,
   "id": "112f956b-7b00-4538-bbbf-12d3d58862c8",
   "metadata": {},
   "outputs": [
    {
     "data": {
      "text/plain": [
       "'\\nactivation = {}\\ngradients = {}\\n\\ndef forward_hook(module, inpt, outpt):\\n    global activation\\n    activation[module] = outpt\\n\\ndef grad_hook(module, inpt, outpt):\\n    global gradients\\n    gradients[module] = outpt\\n\\ndef get_all_layers(model):\\n    for name, layer in model._modules.items():\\n        if isinstance(layer, nn.Sequential):\\n            get_all_layers(layer)\\n        else:\\n            # non sequential\\n            layer.register_forward_hook(forward_hook)\\n            layer.register_full_backward_hook(grad_hook)\\n'"
      ]
     },
     "execution_count": 19,
     "metadata": {},
     "output_type": "execute_result"
    }
   ],
   "source": [
    "'''\n",
    "activation = {}\n",
    "gradients = {}\n",
    "\n",
    "def forward_hook(module, inpt, outpt):\n",
    "    global activation\n",
    "    activation[module] = outpt\n",
    "\n",
    "def grad_hook(module, inpt, outpt):\n",
    "    global gradients\n",
    "    gradients[module] = outpt\n",
    "\n",
    "def get_all_layers(model):\n",
    "    for name, layer in model._modules.items():\n",
    "        if isinstance(layer, nn.Sequential):\n",
    "            get_all_layers(layer)\n",
    "        else:\n",
    "            # non sequential\n",
    "            layer.register_forward_hook(forward_hook)\n",
    "            layer.register_full_backward_hook(grad_hook)\n",
    "'''"
   ]
  },
  {
   "cell_type": "code",
   "execution_count": 20,
   "id": "c3a0f334-11d1-47e5-baaa-72b533cd966a",
   "metadata": {},
   "outputs": [],
   "source": [
    "#get_all_layers(model)"
   ]
  },
  {
   "cell_type": "code",
   "execution_count": 21,
   "id": "846c5b96-73a1-4119-9166-cf11857e9653",
   "metadata": {},
   "outputs": [],
   "source": [
    "loss_function = nn.BCELoss()\n",
    "optimizer = torch.optim.Adam(model.parameters(), lr=1e-4)"
   ]
  },
  {
   "cell_type": "code",
   "execution_count": 22,
   "id": "b07b957e-a848-47eb-bf0b-725b6c9dc539",
   "metadata": {},
   "outputs": [
    {
     "name": "stdout",
     "output_type": "stream",
     "text": [
      "Epoch 1 \t Loss: 0.58496\n",
      "Epoch 2 \t Loss: 0.34838\n",
      "Epoch 3 \t Loss: 0.17018\n",
      "Epoch 4 \t Loss: 0.06889\n",
      "Epoch 5 \t Loss: 0.02663\n",
      "Epoch 6 \t Loss: 0.01054\n",
      "Epoch 7 \t Loss: 0.00431\n",
      "Epoch 8 \t Loss: 0.00183\n",
      "Epoch 9 \t Loss: 0.00080\n",
      "Epoch 10 \t Loss: 0.00035\n",
      "Epoch 11 \t Loss: 0.00016\n",
      "Epoch 12 \t Loss: 0.00007\n",
      "Epoch 13 \t Loss: 0.00003\n",
      "Epoch 14 \t Loss: 0.00001\n",
      "Epoch 15 \t Loss: 0.00001\n"
     ]
    }
   ],
   "source": [
    "n_epochs = 15\n",
    "all_losses = []\n",
    "model.train(True)\n",
    "for epoch in range(n_epochs):\n",
    "    losses = []\n",
    "    total = 0\n",
    "    for x, y in train_loader:\n",
    "        \n",
    "        optimizer.zero_grad()\n",
    "        \n",
    "        y_pred = model(x)\n",
    "        loss = loss_function(y_pred, y)\n",
    "        \n",
    "        loss.backward()\n",
    "        optimizer.step()\n",
    "        \n",
    "        losses.append(loss.item())\n",
    "        total += 1\n",
    "\n",
    "    epoch_loss = sum(losses) / total\n",
    "    all_losses.append(epoch_loss)\n",
    "                \n",
    "    mess = f\"Epoch {epoch+1} \\t Loss: {all_losses[-1]:.5f}\"\n",
    "    print(mess)"
   ]
  },
  {
   "cell_type": "code",
   "execution_count": 23,
   "id": "81dcc616-7666-437f-88cb-caae60005454",
   "metadata": {},
   "outputs": [],
   "source": [
    "y_pred = []\n",
    "y_true = []\n",
    "\n",
    "model.eval()\n",
    "with torch.no_grad():\n",
    "    for x, y in test_loader:\n",
    "        y_pred.extend(model(x).numpy().round())\n",
    "        y_true.extend(y.numpy())"
   ]
  },
  {
   "cell_type": "code",
   "execution_count": 24,
   "id": "27a43ce7-6731-4db0-b70c-3671fc8db592",
   "metadata": {},
   "outputs": [
    {
     "name": "stdout",
     "output_type": "stream",
     "text": [
      "Accuracy: 1.0 %\n"
     ]
    }
   ],
   "source": [
    "from sklearn.metrics import accuracy_score\n",
    "\n",
    "accuracy = accuracy_score(y_true, y_pred)\n",
    "\n",
    "print(f'Accuracy: {accuracy:.1f} %')"
   ]
  },
  {
   "cell_type": "code",
   "execution_count": 25,
   "id": "9ea6e652-116c-4b62-9c50-b415c05bfe35",
   "metadata": {},
   "outputs": [
    {
     "data": {
      "text/plain": [
       "'\\nmodel.train(True)\\ny_pred = model(torch.from_numpy(X[3, :].astype(np.float32)))\\n#optimizer.zero_grad()\\n#loss = loss_function(y_pred, y[0])\\n#loss.backward()\\n#optimizer.step()\\ny_pred.backward(retain_graph=True)\\n'"
      ]
     },
     "execution_count": 25,
     "metadata": {},
     "output_type": "execute_result"
    }
   ],
   "source": [
    "'''\n",
    "model.train()\n",
    "y_pred = model(torch.from_numpy(X[3, :].astype(np.float32)))\n",
    "#optimizer.zero_grad()\n",
    "loss = loss_function(y_pred, y[0])\n",
    "loss.backward()\n",
    "'''"
   ]
  },
  {
   "cell_type": "code",
   "execution_count": 26,
   "id": "bf2371d9-7be8-4a38-878e-cce3b87a02f1",
   "metadata": {},
   "outputs": [
    {
     "data": {
      "text/plain": [
       "Linear(in_features=400, out_features=25, bias=True)"
      ]
     },
     "execution_count": 26,
     "metadata": {},
     "output_type": "execute_result"
    }
   ],
   "source": [
    "model.fc1"
   ]
  },
  {
   "cell_type": "code",
   "execution_count": 27,
   "id": "4de5e5e3-1e3f-4a12-8ef0-c905983d786f",
   "metadata": {},
   "outputs": [
    {
     "data": {
      "text/plain": [
       "torch.Size([25, 400])"
      ]
     },
     "execution_count": 27,
     "metadata": {},
     "output_type": "execute_result"
    }
   ],
   "source": [
    "(model.fc1.weight.data).shape"
   ]
  },
  {
   "cell_type": "code",
   "execution_count": 28,
   "id": "6eb21332-b277-4957-9d08-685e26611d4e",
   "metadata": {},
   "outputs": [
    {
     "data": {
      "text/plain": [
       "tensor([[-0.0088, -0.0095,  0.0335,  ..., -0.0448, -0.0061,  0.0168],\n",
       "        [-0.0380,  0.0363,  0.0421,  ..., -0.0238,  0.0288, -0.0121],\n",
       "        [ 0.0274, -0.0084, -0.0401,  ..., -0.0136,  0.0392,  0.0495],\n",
       "        ...,\n",
       "        [ 0.0417, -0.0326,  0.0191,  ...,  0.0279, -0.0442, -0.0261],\n",
       "        [ 0.0083, -0.0386,  0.0381,  ..., -0.0088, -0.0063, -0.0253],\n",
       "        [ 0.0053,  0.0157, -0.0424,  ...,  0.0314,  0.0206, -0.0184]])"
      ]
     },
     "execution_count": 28,
     "metadata": {},
     "output_type": "execute_result"
    }
   ],
   "source": [
    "act = model.fc1.weight.data\n",
    "model.fc1.weight.data"
   ]
  },
  {
   "cell_type": "code",
   "execution_count": 29,
   "id": "3e706ff8-85b1-4b76-8cad-4dbdbadb2b6d",
   "metadata": {},
   "outputs": [
    {
     "data": {
      "text/plain": [
       "tensor([[0., 0., 0.,  ..., 0., 0., 0.],\n",
       "        [0., 0., 0.,  ..., 0., 0., 0.],\n",
       "        [0., 0., 0.,  ..., 0., 0., 0.],\n",
       "        ...,\n",
       "        [0., 0., 0.,  ..., 0., 0., 0.],\n",
       "        [0., 0., 0.,  ..., 0., 0., 0.],\n",
       "        [0., 0., 0.,  ..., 0., 0., 0.]])"
      ]
     },
     "execution_count": 29,
     "metadata": {},
     "output_type": "execute_result"
    }
   ],
   "source": [
    "grad = model.fc1.weight.grad.data\n",
    "model.fc1.weight.grad"
   ]
  },
  {
   "cell_type": "code",
   "execution_count": 30,
   "id": "924686bb-8481-4707-95b6-1942472eece3",
   "metadata": {},
   "outputs": [
    {
     "data": {
      "text/plain": [
       "([], [])"
      ]
     },
     "execution_count": 30,
     "metadata": {},
     "output_type": "execute_result"
    },
    {
     "data": {
      "image/png": "[encoded data removed]",
      "text/plain": [
       "<Figure size 640x480 with 1 Axes>"
      ]
     },
     "metadata": {},
     "output_type": "display_data"
    }
   ],
   "source": [
    "# weight the activation by corresponding gradients\n",
    "#print(torch.mean(grad,1).shape)\n",
    "#ggg\n",
    "\n",
    "mact = torch.mean(act,1)\n",
    "mgrad = torch.mean(grad,1)\n",
    "\n",
    "mact *= mgrad\n",
    "\n",
    "# relu on top of the heatmap\n",
    "heatmap = F.relu(mact)\n",
    "\n",
    "# normalize the heatmap\n",
    "heatmap /= torch.max(heatmap)\n",
    "\n",
    "# draw the heatmap\n",
    "plt.imshow(heatmap.reshape(5,5).detach().numpy())\n",
    "plt.xticks([])\n",
    "plt.yticks([])"
   ]
  },
  {
   "cell_type": "code",
   "execution_count": 31,
   "id": "7cc5a707-92be-4056-8cd3-e80b417b759f",
   "metadata": {},
   "outputs": [],
   "source": [
    "from torchvision.transforms.functional import to_pil_image\n",
    "from matplotlib import colormaps\n",
    "import PIL"
   ]
  },
  {
   "cell_type": "code",
   "execution_count": 32,
   "id": "f4fd3097-1a3b-4bab-9f14-b55bffcd7a15",
   "metadata": {},
   "outputs": [
    {
     "data": {
      "image/png": "[encoded data removed]",
      "text/plain": [
       "<Figure size 640x480 with 1 Axes>"
      ]
     },
     "metadata": {},
     "output_type": "display_data"
    }
   ],
   "source": [
    "fig, ax = plt.subplots()\n",
    "ax.axis('off') # removes the axis markers\n",
    "\n",
    "# First plot the original image\n",
    "ax.imshow(to_pil_image(-X[1999, :].reshape(20,20), mode='L'))\n",
    "overlay = to_pil_image(heatmap.reshape(5,5), mode='F').resize((20,20), resample=PIL.Image.BICUBIC)\n",
    "\n",
    "cmap = colormaps['jet']\n",
    "overlay = (255 * cmap(np.asarray(overlay) ** 2)).astype(np.uint8)\n",
    "\n",
    "ax.imshow(overlay, alpha=0.6, interpolation='nearest')\n",
    "\n",
    "plt.show()"
   ]
  },
  {
   "cell_type": "code",
   "execution_count": null,
   "id": "a10d5cef-185d-43cd-ae5e-8a1fa405f8f0",
   "metadata": {},
   "outputs": [],
   "source": []
  }
 ],
 "metadata": {
  "kernelspec": {
   "display_name": "Python 3 (ipykernel)",
   "language": "python",
   "name": "python3"
  },
  "language_info": {
   "codemirror_mode": {
    "name": "ipython",
    "version": 3
   },
   "file_extension": ".py",
   "mimetype": "text/x-python",
   "name": "python",
   "nbconvert_exporter": "python",
   "pygments_lexer": "ipython3",
   "version": "3.12.1"
  }
 },
 "nbformat": 4,
 "nbformat_minor": 5
}
