{
 "cells": [
  {
   "cell_type": "markdown",
   "id": "1a559c94-d4cc-42fe-bd74-be5cf0159e79",
   "metadata": {},
   "source": [
    "# Explainable AI"
   ]
  },
  {
   "cell_type": "markdown",
   "id": "18c43e99-4e59-43c3-927b-97ccc7241ca1",
   "metadata": {},
   "source": [
    "__Source__: What is explainable AI? https://www.ibm.com/think/topics/explainable-ai"
   ]
  },
  {
   "cell_type": "markdown",
   "id": "dbc445e0-19ab-4f7c-b64c-f9b1319519a4",
   "metadata": {},
   "source": [
    "What is explainable AI?"
   ]
  },
  {
   "cell_type": "markdown",
   "id": "58751cc3-12ca-49cc-9c98-c25ce2235825",
   "metadata": {},
   "source": [
    "Explainable artificial intelligence (XAI) is a set of processes and methods that allows human users to comprehend and trust the results and output created by machine learning algorithms."
   ]
  },
  {
   "cell_type": "markdown",
   "id": "1183c635-4ae3-4bcc-9883-67caf33235bb",
   "metadata": {},
   "source": [
    "- It helps characterize model accuracy, fairness, transparency and outcomes in AI-powered decision making.\n",
    "\n",
    "  \n",
    "- It is crucial for an organization in building trust and confidence when putting AI models into production"
   ]
  },
  {
   "cell_type": "markdown",
   "id": "671bd674-cae8-4049-9ca4-f9d6e329c478",
   "metadata": {},
   "source": [
    "### Explainable AI techniques"
   ]
  },
  {
   "cell_type": "markdown",
   "id": "5964ea65-f21f-43d8-950a-ac94f12468bf",
   "metadata": {},
   "source": [
    "The setup of XAI techniques consists of three main methods. \n",
    "\n",
    "__Prediction accuracy__ and __traceability__ address technology requirements while __decision understanding__ addresses human needs."
   ]
  },
  {
   "cell_type": "markdown",
   "id": "c661503f-e840-4eb0-bf57-01ac0a98150d",
   "metadata": {},
   "source": [
    "#### Prediction accuracy"
   ]
  },
  {
   "cell_type": "markdown",
   "id": "0e9ba269-08e1-46be-b432-1d256592c1a9",
   "metadata": {},
   "source": [
    "Running simulations and comparing XAI output to the results in the training data set, the prediction accuracy can be determined. \n",
    "\n",
    "\n",
    "Local Interpretable Model-Agnostic Explanations (LIME) \n",
    "\n",
    "    - It tests what happens to the predictions when you give variations of your data into the machine learning model. \n",
    "\n",
    "SHAP (SHapley Additive exPlanations) \n",
    "\n",
    "    - It is a game theoretic approach to explain the output of any machine learning model.\n",
    "    \n",
    "    - It reflects the significance of the contribution of features for each output prediction.\n",
    "\n"
   ]
  },
  {
   "cell_type": "markdown",
   "id": "15d69d7e-cfe4-44a4-8fac-2df7b66d7abc",
   "metadata": {},
   "source": [
    "#### Traceability"
   ]
  },
  {
   "cell_type": "markdown",
   "id": "f957b8a2-3ee4-47d1-abed-ec13e34ac2c4",
   "metadata": {},
   "source": [
    "- DeepLIFT (Deep Learning Important FeaTures), which compares the activation of each neuron to its reference neuron and shows a traceable link between each activated neuron and even shows dependencies between them.\n",
    "\n",
    "- Gradient-weighted Class Activation Map (Gradcam), used to generate heatmaps which highlights the important region of the image that contribute the way a model performs as it does. "
   ]
  },
  {
   "cell_type": "markdown",
   "id": "0a219e33-85be-41bd-949c-6feb786256db",
   "metadata": {},
   "source": [
    "## Experiments on Synthetic Data"
   ]
  },
  {
   "cell_type": "code",
   "execution_count": 1,
   "id": "63da8ba3-8277-40c4-b4e3-d46912fa8b8f",
   "metadata": {},
   "outputs": [],
   "source": [
    "import numpy as np\n",
    "import matplotlib.pyplot as plt\n",
    "import torch\n",
    "from torch import nn\n",
    "import pandas as pd\n",
    "import torch.utils.data as Data\n",
    "from torchinfo import summary\n",
    "\n",
    "from torch.nn import functional as F\n",
    "\n",
    "from torch.nn.functional import softmax, interpolate\n",
    "from torchvision.transforms.functional import normalize, resize, to_pil_image\n",
    "\n",
    "from torchcam.methods import SmoothGradCAMpp, LayerCAM\n",
    "from torchcam.utils import overlay_mask"
   ]
  },
  {
   "cell_type": "code",
   "execution_count": 2,
   "id": "ca177256-e837-46e7-b9f5-c413186fb704",
   "metadata": {},
   "outputs": [],
   "source": [
    "device = torch.device('cuda' if torch.cuda.is_available() else 'cpu')"
   ]
  },
  {
   "cell_type": "code",
   "execution_count": 3,
   "id": "8ae5753b-70f0-43a1-9ebe-225324f42b07",
   "metadata": {},
   "outputs": [
    {
     "name": "stdout",
     "output_type": "stream",
     "text": [
      "cpu\n"
     ]
    }
   ],
   "source": [
    "print(device)"
   ]
  },
  {
   "cell_type": "code",
   "execution_count": 4,
   "id": "07e1f199-4f63-49a0-8847-863b9095c5c1",
   "metadata": {},
   "outputs": [],
   "source": [
    "def makeImages(nEach):\n",
    "    images = np.zeros((nEach * 2, 1, 20, 20))  # nSamples, nChannels, rows, columns\n",
    "    radii = 3 + np.random.randint(10 - 5, size=(nEach * 2, 1))\n",
    "    centers = np.zeros((nEach * 2, 2))\n",
    "    for i in range(nEach * 2):\n",
    "        r = radii[i, 0]\n",
    "        centers[i, :] = r + 1 + np.random.randint(18 - 2 * r, size=(1, 2))\n",
    "        x = int(centers[i, 0])\n",
    "        y = int(centers[i, 1])\n",
    "        if i < nEach:\n",
    "            # squares\n",
    "            images[i, 0, x - r:x + r, y + r] = 1.0\n",
    "            images[i, 0, x - r:x + r, y - r] = 1.0\n",
    "            images[i, 0, x - r, y - r:y + r] = 1.0\n",
    "            images[i, 0, x + r, y - r:y + r + 1] = 1.0\n",
    "        else:\n",
    "            # diamonds\n",
    "            images[i, 0, range(x - r, x), range(y, y + r)] = 1.0\n",
    "            images[i, 0, range(x - r, x), range(y, y - r, -1)] = 1.0\n",
    "            images[i, 0, range(x, x + r + 1), range(y + r, y - 1, -1)] = 1.0\n",
    "            images[i, 0, range(x, x + r), range(y - r, y)] = 1.0\n",
    "\n",
    "        T = np.zeros((nEach * 2, 1))\n",
    "        T[nEach:] = 1\n",
    "    return images, T"
   ]
  },
  {
   "cell_type": "code",
   "execution_count": 5,
   "id": "4b9f39fd-f19f-4c04-ac89-a9a48e0fc525",
   "metadata": {},
   "outputs": [
    {
     "name": "stdout",
     "output_type": "stream",
     "text": [
      "(2000, 400) (2000, 1)\n"
     ]
    }
   ],
   "source": [
    "nEach = 1000\n",
    "X, T = makeImages(nEach)\n",
    "X = X.reshape(X.shape[0], -1)\n",
    "print(X.shape, T.shape)\n",
    "\n",
    "Xtest, Ttest = makeImages(nEach)\n",
    "Xtest = Xtest.reshape(Xtest.shape[0], -1)"
   ]
  },
  {
   "cell_type": "code",
   "execution_count": 6,
   "id": "131e89e5-f331-4e6e-aa67-c71b19d2cd34",
   "metadata": {},
   "outputs": [
    {
     "name": "stdout",
     "output_type": "stream",
     "text": [
      "[0. 1.]\n"
     ]
    },
    {
     "data": {
      "image/png": "[encoded data removed]",
      "text/plain": [
       "<Figure size 640x480 with 1 Axes>"
      ]
     },
     "metadata": {},
     "output_type": "display_data"
    }
   ],
   "source": [
    "print(np.unique(T))\n",
    "plt.plot(T);"
   ]
  },
  {
   "cell_type": "code",
   "execution_count": 7,
   "id": "66d55a96-2e40-445a-9e91-e57705c5ff17",
   "metadata": {},
   "outputs": [
    {
     "data": {
      "text/plain": [
       "([], [])"
      ]
     },
     "execution_count": 7,
     "metadata": {},
     "output_type": "execute_result"
    },
    {
     "data": {
      "image/png": "[encoded data removed]",
      "text/plain": [
       "<Figure size 640x480 with 1 Axes>"
      ]
     },
     "metadata": {},
     "output_type": "display_data"
    }
   ],
   "source": [
    "plt.imshow(-X[-1, :].reshape(20, 20), cmap='gray')\n",
    "plt.xticks([])\n",
    "plt.yticks([])"
   ]
  },
  {
   "cell_type": "code",
   "execution_count": 8,
   "id": "f7577e5e-331e-482c-998b-515607c6400b",
   "metadata": {},
   "outputs": [
    {
     "data": {
      "image/png": "[encoded data removed]",
      "text/plain": [
       "<Figure size 1000x300 with 18 Axes>"
      ]
     },
     "metadata": {},
     "output_type": "display_data"
    }
   ],
   "source": [
    "plt.figure(figsize=(10, 3))\n",
    "\n",
    "for i in range(1,10):\n",
    "    plt.subplot(2, 10, i + 1)\n",
    "    plt.imshow(-X[i-1, :].reshape(20,20), cmap='gray')\n",
    "    plt.xticks([])\n",
    "    plt.yticks([])\n",
    "\n",
    "    plt.subplot(2, 10, i + 11)\n",
    "    plt.imshow(-X[-i, :].reshape(20,20), cmap='gray')\n",
    "    plt.xticks([])\n",
    "    plt.yticks([])"
   ]
  },
  {
   "cell_type": "code",
   "execution_count": 9,
   "id": "faafaab5-d077-458b-bbf7-6707b9bf4f3b",
   "metadata": {},
   "outputs": [],
   "source": [
    "class DData(Data.Dataset):\n",
    "    def __init__(self, X, y):\n",
    "        self.X = torch.from_numpy(X.astype(np.float32))\n",
    "        self.y = torch.from_numpy(y.astype(np.float32))\n",
    "    \n",
    "    def __getitem__(self, i):\n",
    "        return self.X[i, :], self.y[i]\n",
    "\n",
    "    def __len__(self):\n",
    "        return len(self.X)"
   ]
  },
  {
   "cell_type": "code",
   "execution_count": 10,
   "id": "74063927-376f-417c-ac2d-1f8fd7a638d8",
   "metadata": {},
   "outputs": [],
   "source": [
    "Xtrain = DData(X,T)\n",
    "Xtest = DData(Xtest,Ttest)"
   ]
  },
  {
   "cell_type": "code",
   "execution_count": 11,
   "id": "0dc4be53-546b-4cb6-9838-4799903b3e03",
   "metadata": {},
   "outputs": [],
   "source": [
    "class myClassifier(nn.Module):\n",
    "    def __init__(self, n_features, hiddenA, hiddenB):\n",
    "        super(myClassifier, self).__init__()\n",
    "        self.fc1 = nn.Linear(n_features, hiddenA)\n",
    "        self.fc2 = nn.Linear(hiddenA, hiddenB)\n",
    "        self.output = nn.Linear(hiddenB, 1)\n",
    "        self.sigmoid = nn.Sigmoid()\n",
    "\n",
    "    def forward(self, x):\n",
    "        x = F.relu(self.fc1(x))\n",
    "        x = F.relu(self.fc2(x))\n",
    "        return self.sigmoid(self.output(x))"
   ]
  },
  {
   "cell_type": "code",
   "execution_count": 12,
   "id": "63bfa1aa-cea4-4040-9853-9456e661e78d",
   "metadata": {},
   "outputs": [],
   "source": [
    "model = myClassifier(X.shape[1], 25, 5)"
   ]
  },
  {
   "cell_type": "code",
   "execution_count": 13,
   "id": "4e9d3da0-cd8f-42a6-a0a2-f6edf02c934c",
   "metadata": {},
   "outputs": [
    {
     "data": {
      "text/plain": [
       "Linear(in_features=400, out_features=25, bias=True)"
      ]
     },
     "execution_count": 13,
     "metadata": {},
     "output_type": "execute_result"
    }
   ],
   "source": [
    "model.fc1"
   ]
  },
  {
   "cell_type": "code",
   "execution_count": 14,
   "id": "515fbce3-8dc3-440e-99ba-c889736be4de",
   "metadata": {},
   "outputs": [
    {
     "data": {
      "text/plain": [
       "torch.Size([25, 400])"
      ]
     },
     "execution_count": 14,
     "metadata": {},
     "output_type": "execute_result"
    }
   ],
   "source": [
    "model.fc1.weight.shape"
   ]
  },
  {
   "cell_type": "code",
   "execution_count": 15,
   "id": "62b568eb-ba07-49ea-9de3-33552e08cb31",
   "metadata": {},
   "outputs": [
    {
     "data": {
      "text/plain": [
       "torch.Size([25])"
      ]
     },
     "execution_count": 15,
     "metadata": {},
     "output_type": "execute_result"
    }
   ],
   "source": [
    "model.fc1.bias.shape"
   ]
  },
  {
   "cell_type": "code",
   "execution_count": 16,
   "id": "5ad368c4-477c-4075-bcad-486346827545",
   "metadata": {},
   "outputs": [
    {
     "data": {
      "text/plain": [
       "=================================================================\n",
       "Layer (type:depth-idx)                   Param #\n",
       "=================================================================\n",
       "myClassifier                             --\n",
       "├─Linear: 1-1                            10,025\n",
       "├─Linear: 1-2                            130\n",
       "├─Linear: 1-3                            6\n",
       "├─Sigmoid: 1-4                           --\n",
       "=================================================================\n",
       "Total params: 10,161\n",
       "Trainable params: 10,161\n",
       "Non-trainable params: 0\n",
       "================================================================="
      ]
     },
     "execution_count": 16,
     "metadata": {},
     "output_type": "execute_result"
    }
   ],
   "source": [
    "summary(model)"
   ]
  },
  {
   "cell_type": "code",
   "execution_count": 17,
   "id": "62ffd699-811d-44d5-9f7c-8b26ed9b88e6",
   "metadata": {},
   "outputs": [
    {
     "data": {
      "text/plain": [
       "[Parameter containing:\n",
       " tensor([[-0.0258, -0.0221,  0.0329,  ...,  0.0286, -0.0310,  0.0264],\n",
       "         [-0.0153, -0.0301,  0.0279,  ...,  0.0473,  0.0048,  0.0168],\n",
       "         [ 0.0181, -0.0315,  0.0177,  ..., -0.0263,  0.0069, -0.0165],\n",
       "         ...,\n",
       "         [ 0.0495,  0.0045,  0.0218,  ...,  0.0115,  0.0427,  0.0281],\n",
       "         [ 0.0179,  0.0040, -0.0384,  ...,  0.0054, -0.0140, -0.0233],\n",
       "         [ 0.0313, -0.0023, -0.0428,  ...,  0.0321,  0.0389,  0.0108]],\n",
       "        requires_grad=True),\n",
       " Parameter containing:\n",
       " tensor([-1.5579e-02,  8.3030e-03,  2.9525e-02,  2.1187e-02, -2.8247e-02,\n",
       "         -4.0370e-02, -4.7639e-02, -1.9758e-03, -3.8026e-03, -4.7361e-02,\n",
       "          4.7852e-02, -3.8786e-02,  2.9999e-02,  2.1564e-02, -3.9473e-02,\n",
       "         -4.2420e-05, -2.4322e-03, -4.1512e-02, -1.4837e-02, -2.8668e-02,\n",
       "          3.5663e-02,  3.8600e-02, -4.8324e-02,  7.0509e-03,  2.6125e-02],\n",
       "        requires_grad=True),\n",
       " Parameter containing:\n",
       " tensor([[ 0.1833,  0.0663, -0.1277,  0.0347, -0.1893,  0.1810,  0.1259,  0.0605,\n",
       "          -0.0020,  0.1071,  0.1594, -0.1723,  0.1136, -0.1696, -0.0108, -0.1046,\n",
       "          -0.0066, -0.0484, -0.1630, -0.0305, -0.0034,  0.1367,  0.1562,  0.0269,\n",
       "           0.1862],\n",
       "         [ 0.0805, -0.0194,  0.0308,  0.0197,  0.0929, -0.0246,  0.0610,  0.1461,\n",
       "           0.1129,  0.1235, -0.1809,  0.0079,  0.1016,  0.0389, -0.1117,  0.0788,\n",
       "           0.0293, -0.0619,  0.0625, -0.0593,  0.0798,  0.0122,  0.0951, -0.1177,\n",
       "           0.0271],\n",
       "         [ 0.0640,  0.1321,  0.1948, -0.1584,  0.0427, -0.0476,  0.0369, -0.0096,\n",
       "           0.1097,  0.1422,  0.0989, -0.0433,  0.0388, -0.1659, -0.1581, -0.1521,\n",
       "           0.1757,  0.0465,  0.0156,  0.0482, -0.0342, -0.0260,  0.0071,  0.0947,\n",
       "          -0.1563],\n",
       "         [-0.0839,  0.1539,  0.1112, -0.1073, -0.0031, -0.1701, -0.0284,  0.0096,\n",
       "           0.1175,  0.0371,  0.0342, -0.0025, -0.1578, -0.0485, -0.1179,  0.1121,\n",
       "          -0.0843,  0.1448,  0.0378,  0.1785,  0.1415, -0.0567, -0.0171,  0.0774,\n",
       "           0.1774],\n",
       "         [-0.1552, -0.1753, -0.1857,  0.0180, -0.1903,  0.1508,  0.0027,  0.1714,\n",
       "          -0.1215,  0.0238,  0.0471,  0.0172,  0.1193, -0.1198, -0.1573,  0.1947,\n",
       "          -0.1716, -0.1481, -0.0288, -0.1157, -0.1135,  0.0304, -0.0062, -0.1245,\n",
       "          -0.0184]], requires_grad=True),\n",
       " Parameter containing:\n",
       " tensor([ 0.1318,  0.0866, -0.0957,  0.0752,  0.1981], requires_grad=True),\n",
       " Parameter containing:\n",
       " tensor([[ 0.2652, -0.2922,  0.2587,  0.0812,  0.2387]], requires_grad=True),\n",
       " Parameter containing:\n",
       " tensor([0.3993], requires_grad=True)]"
      ]
     },
     "execution_count": 17,
     "metadata": {},
     "output_type": "execute_result"
    }
   ],
   "source": [
    "list(model.parameters())"
   ]
  },
  {
   "cell_type": "code",
   "execution_count": 18,
   "id": "5250b20e-f324-440d-b983-fdd94b023f22",
   "metadata": {},
   "outputs": [],
   "source": [
    "batch_size = 1\n",
    "train_loader = Data.DataLoader(Xtrain, batch_size=batch_size, shuffle=True, num_workers= 0)\n",
    "test_loader = Data.DataLoader(Xtest, batch_size=batch_size, shuffle=True, num_workers= 0)"
   ]
  },
  {
   "cell_type": "code",
   "execution_count": 19,
   "id": "112f956b-7b00-4538-bbbf-12d3d58862c8",
   "metadata": {},
   "outputs": [],
   "source": [
    "activation = {}\n",
    "gradients = {}\n",
    "\n",
    "def forward_hook(module, inpt, outpt):\n",
    "    global activation\n",
    "    activation[module] = outpt\n",
    "\n",
    "def grad_hook(module, inpt, outpt):\n",
    "    global gradients\n",
    "    gradients[module] = outpt\n",
    "\n",
    "def get_all_layers(model):\n",
    "    for name, layer in model._modules.items():\n",
    "        if isinstance(layer, nn.Sequential):\n",
    "            get_all_layers(layer)\n",
    "        else:\n",
    "            # non sequential\n",
    "            layer.register_forward_hook(forward_hook)\n",
    "            layer.register_full_backward_hook(grad_hook)"
   ]
  },
  {
   "cell_type": "code",
   "execution_count": 20,
   "id": "c3a0f334-11d1-47e5-baaa-72b533cd966a",
   "metadata": {},
   "outputs": [],
   "source": [
    "get_all_layers(model)"
   ]
  },
  {
   "cell_type": "code",
   "execution_count": 21,
   "id": "846c5b96-73a1-4119-9166-cf11857e9653",
   "metadata": {},
   "outputs": [],
   "source": [
    "loss_function = nn.BCELoss()\n",
    "optimizer = torch.optim.Adam(model.parameters(), lr=1e-4)"
   ]
  },
  {
   "cell_type": "code",
   "execution_count": 22,
   "id": "b07b957e-a848-47eb-bf0b-725b6c9dc539",
   "metadata": {},
   "outputs": [
    {
     "name": "stdout",
     "output_type": "stream",
     "text": [
      "Epoch 1 \t Loss: 0.62849\n",
      "Epoch 2 \t Loss: 0.42662\n",
      "Epoch 3 \t Loss: 0.29191\n",
      "Epoch 4 \t Loss: 0.19001\n",
      "Epoch 5 \t Loss: 0.10758\n",
      "Epoch 6 \t Loss: 0.05283\n",
      "Epoch 7 \t Loss: 0.02451\n",
      "Epoch 8 \t Loss: 0.01114\n",
      "Epoch 9 \t Loss: 0.00500\n",
      "Epoch 10 \t Loss: 0.00231\n"
     ]
    }
   ],
   "source": [
    "n_epochs = 10\n",
    "all_losses = []\n",
    "for epoch in range(n_epochs):\n",
    "    losses = []\n",
    "    total = 0\n",
    "    for x, y in train_loader:\n",
    "        \n",
    "        optimizer.zero_grad()\n",
    "        \n",
    "        y_pred = model(x)\n",
    "        loss = loss_function(y_pred, y)\n",
    "        \n",
    "        loss.backward()\n",
    "        optimizer.step()\n",
    "        \n",
    "        losses.append(loss.item())\n",
    "        total += 1\n",
    "\n",
    "    epoch_loss = sum(losses) / total\n",
    "    all_losses.append(epoch_loss)\n",
    "                \n",
    "    mess = f\"Epoch {epoch+1} \\t Loss: {all_losses[-1]:.5f}\"\n",
    "    print(mess)"
   ]
  },
  {
   "cell_type": "code",
   "execution_count": 23,
   "id": "81dcc616-7666-437f-88cb-caae60005454",
   "metadata": {},
   "outputs": [],
   "source": [
    "y_pred = []\n",
    "y_true = []\n",
    "\n",
    "model.eval()\n",
    "with torch.no_grad():\n",
    "    for x, y in test_loader:\n",
    "        y_pred.extend(model(x).numpy().round())\n",
    "        y_true.extend(y.numpy())"
   ]
  },
  {
   "cell_type": "code",
   "execution_count": 24,
   "id": "27a43ce7-6731-4db0-b70c-3671fc8db592",
   "metadata": {},
   "outputs": [
    {
     "name": "stdout",
     "output_type": "stream",
     "text": [
      "Accuracy: 1.0 %\n"
     ]
    }
   ],
   "source": [
    "from sklearn.metrics import accuracy_score\n",
    "\n",
    "accuracy = accuracy_score(y_true, y_pred)\n",
    "\n",
    "print(f'Accuracy: {accuracy:.1f} %')"
   ]
  },
  {
   "cell_type": "code",
   "execution_count": 31,
   "id": "9ea6e652-116c-4b62-9c50-b415c05bfe35",
   "metadata": {},
   "outputs": [],
   "source": [
    "model.train()\n",
    "\n",
    "y_pred = model(torch.from_numpy(X[2, :].astype(np.float32)))\n"
   ]
  },
  {
   "cell_type": "code",
   "execution_count": 32,
   "id": "c6fc032e-d6dc-45f8-8ab4-5848d0f55366",
   "metadata": {},
   "outputs": [
    {
     "name": "stdout",
     "output_type": "stream",
     "text": [
      "Linear(in_features=400, out_features=25, bias=True)\n",
      "Linear(in_features=25, out_features=5, bias=True)\n",
      "Linear(in_features=5, out_features=1, bias=True)\n",
      "Sigmoid()\n"
     ]
    }
   ],
   "source": [
    "for layer in activation:\n",
    "    print(layer)"
   ]
  },
  {
   "cell_type": "code",
   "execution_count": 33,
   "id": "6a72089f-4345-4a9c-adf3-789f2c9e8fdd",
   "metadata": {},
   "outputs": [
    {
     "name": "stdout",
     "output_type": "stream",
     "text": [
      "Sigmoid()\n",
      "Linear(in_features=5, out_features=1, bias=True)\n",
      "Linear(in_features=25, out_features=5, bias=True)\n",
      "Linear(in_features=400, out_features=25, bias=True)\n"
     ]
    }
   ],
   "source": [
    "for layer in gradients:\n",
    "    print(layer)"
   ]
  },
  {
   "cell_type": "code",
   "execution_count": 34,
   "id": "6ec41664-6012-4c1e-836b-15b9a03beea2",
   "metadata": {},
   "outputs": [
    {
     "data": {
      "text/plain": [
       "{Linear(in_features=400, out_features=25, bias=True): tensor([ 2.1481, -0.1413,  2.1195,  2.7802,  2.3274, -0.2109,  6.8997,  6.6878,\n",
       "          3.3929,  4.2925, -0.4801,  2.2975,  7.9072,  1.6585,  1.0209,  6.9427,\n",
       "          1.7026,  0.6457,  2.8373,  1.8304,  2.6860, -0.8760,  7.1411, -0.4351,\n",
       "         -1.0220], grad_fn=<ViewBackward0>),\n",
       " Linear(in_features=25, out_features=5, bias=True): tensor([-1.3680, 22.9234, -0.5225, -0.6477, -1.1569], grad_fn=<ViewBackward0>),\n",
       " Linear(in_features=5, out_features=1, bias=True): tensor([-15.2252], grad_fn=<ViewBackward0>),\n",
       " Sigmoid(): tensor([2.4422e-07], grad_fn=<SigmoidBackward0>)}"
      ]
     },
     "execution_count": 34,
     "metadata": {},
     "output_type": "execute_result"
    }
   ],
   "source": [
    "activation"
   ]
  },
  {
   "cell_type": "code",
   "execution_count": 35,
   "id": "d37a15fe-6ebd-49f8-aa56-47b7be0eaecc",
   "metadata": {},
   "outputs": [
    {
     "data": {
      "text/plain": [
       "{Sigmoid(): (tensor([[-1.0002]]),),\n",
       " Linear(in_features=5, out_features=1, bias=True): (tensor([[-0.0002]]),),\n",
       " Linear(in_features=25, out_features=5, bias=True): (tensor([[-0.0002,  0.0002,  0.0000, -0.0002, -0.0002]]),),\n",
       " Linear(in_features=400, out_features=25, bias=True): (tensor([[ 1.3060e-04,  0.0000e+00,  1.7146e-04,  7.4241e-05,  2.2678e-04,\n",
       "            0.0000e+00,  2.8852e-05,  1.5879e-05,  1.4711e-04,  8.7824e-05,\n",
       "            0.0000e+00,  1.8150e-04,  1.7983e-05,  1.9363e-04,  2.0657e-04,\n",
       "           -8.8151e-05,  1.9153e-04,  2.1740e-04,  1.8907e-04,  2.0196e-04,\n",
       "            1.1680e-04, -2.6856e-04, -6.4282e-05,  0.0000e+00, -3.3656e-04]]),)}"
      ]
     },
     "execution_count": 35,
     "metadata": {},
     "output_type": "execute_result"
    }
   ],
   "source": [
    "gradients"
   ]
  },
  {
   "cell_type": "code",
   "execution_count": 36,
   "id": "2bf7a3b8-5efd-492b-8633-674b53bd5263",
   "metadata": {},
   "outputs": [],
   "source": [
    "act = [v for v in activation.values()]\n",
    "act0 = act[0]"
   ]
  },
  {
   "cell_type": "code",
   "execution_count": 37,
   "id": "b020792a-d4c1-4ab0-afdb-807b3aa29ed0",
   "metadata": {},
   "outputs": [
    {
     "data": {
      "text/plain": [
       "torch.Size([25])"
      ]
     },
     "execution_count": 37,
     "metadata": {},
     "output_type": "execute_result"
    }
   ],
   "source": [
    "act0.shape"
   ]
  },
  {
   "cell_type": "code",
   "execution_count": 38,
   "id": "06e10242-a0f6-461e-a40e-dbf268c67e80",
   "metadata": {},
   "outputs": [],
   "source": [
    "grad = [v for v in gradients.values()]\n",
    "grad3 = grad[3][0]"
   ]
  },
  {
   "cell_type": "code",
   "execution_count": 39,
   "id": "0cc70140-1f6d-4fa5-b829-31506485a6e6",
   "metadata": {},
   "outputs": [
    {
     "data": {
      "text/plain": [
       "torch.Size([1, 25])"
      ]
     },
     "execution_count": 39,
     "metadata": {},
     "output_type": "execute_result"
    }
   ],
   "source": [
    "grad3.size()"
   ]
  },
  {
   "cell_type": "code",
   "execution_count": 42,
   "id": "924686bb-8481-4707-95b6-1942472eece3",
   "metadata": {},
   "outputs": [
    {
     "data": {
      "text/plain": [
       "([], [])"
      ]
     },
     "execution_count": 42,
     "metadata": {},
     "output_type": "execute_result"
    },
    {
     "data": {
      "image/png": "[encoded data removed]",
      "text/plain": [
       "<Figure size 640x480 with 1 Axes>"
      ]
     },
     "metadata": {},
     "output_type": "display_data"
    }
   ],
   "source": [
    "# weight the activation by corresponding gradients\n",
    "act0 *= grad3[0,:]\n",
    "\n",
    "# relu on top of the heatmap\n",
    "heatmap = F.relu(act0)\n",
    "\n",
    "# normalize the heatmap\n",
    "heatmap /= torch.max(heatmap)\n",
    "\n",
    "# draw the heatmap\n",
    "plt.imshow(heatmap.reshape(5,5).detach().numpy())\n",
    "plt.xticks([])\n",
    "plt.yticks([])"
   ]
  },
  {
   "cell_type": "code",
   "execution_count": 43,
   "id": "7cc5a707-92be-4056-8cd3-e80b417b759f",
   "metadata": {},
   "outputs": [],
   "source": [
    "from torchvision.transforms.functional import to_pil_image\n",
    "from matplotlib import colormaps\n",
    "import PIL"
   ]
  },
  {
   "cell_type": "code",
   "execution_count": 44,
   "id": "f4fd3097-1a3b-4bab-9f14-b55bffcd7a15",
   "metadata": {},
   "outputs": [
    {
     "data": {
      "image/png": "[encoded data removed]",
      "text/plain": [
       "<Figure size 640x480 with 1 Axes>"
      ]
     },
     "metadata": {},
     "output_type": "display_data"
    }
   ],
   "source": [
    "fig, ax = plt.subplots()\n",
    "ax.axis('off') # removes the axis markers\n",
    "\n",
    "# First plot the original image\n",
    "ax.imshow(to_pil_image(-X[2, :].reshape(20,20), mode='L'))\n",
    "overlay = to_pil_image(heatmap.reshape(5,5), mode='F').resize((20,20), resample=PIL.Image.BICUBIC)\n",
    "\n",
    "cmap = colormaps['jet']\n",
    "overlay = (255 * cmap(np.asarray(overlay) ** 2)).astype(np.uint8)\n",
    "\n",
    "ax.imshow(overlay, alpha=0.6, interpolation='nearest')\n",
    "\n",
    "plt.show()"
   ]
  },
  {
   "cell_type": "code",
   "execution_count": null,
   "id": "8b9f8d00-7112-478c-a46d-b42eddf8a9d3",
   "metadata": {},
   "outputs": [],
   "source": []
  }
 ],
 "metadata": {
  "kernelspec": {
   "display_name": "Python 3 (ipykernel)",
   "language": "python",
   "name": "python3"
  },
  "language_info": {
   "codemirror_mode": {
    "name": "ipython",
    "version": 3
   },
   "file_extension": ".py",
   "mimetype": "text/x-python",
   "name": "python",
   "nbconvert_exporter": "python",
   "pygments_lexer": "ipython3",
   "version": "3.12.1"
  }
 },
 "nbformat": 4,
 "nbformat_minor": 5
}
