{
 "cells": [
  {
   "cell_type": "markdown",
   "id": "1a559c94-d4cc-42fe-bd74-be5cf0159e79",
   "metadata": {},
   "source": [
    "# Explainable AI"
   ]
  },
  {
   "cell_type": "markdown",
   "id": "18c43e99-4e59-43c3-927b-97ccc7241ca1",
   "metadata": {},
   "source": [
    "__Source__: What is explainable AI? https://www.ibm.com/think/topics/explainable-ai"
   ]
  },
  {
   "cell_type": "markdown",
   "id": "dbc445e0-19ab-4f7c-b64c-f9b1319519a4",
   "metadata": {},
   "source": [
    "What is explainable AI?"
   ]
  },
  {
   "cell_type": "markdown",
   "id": "58751cc3-12ca-49cc-9c98-c25ce2235825",
   "metadata": {},
   "source": [
    "Explainable artificial intelligence (XAI) is a set of processes and methods that allows human users to comprehend and trust the results and output created by machine learning algorithms."
   ]
  },
  {
   "cell_type": "markdown",
   "id": "1183c635-4ae3-4bcc-9883-67caf33235bb",
   "metadata": {},
   "source": [
    "- It helps characterize model accuracy, fairness, transparency and outcomes in AI-powered decision making.\n",
    "\n",
    "  \n",
    "- It is crucial for an organization in building trust and confidence when putting AI models into production"
   ]
  },
  {
   "cell_type": "markdown",
   "id": "671bd674-cae8-4049-9ca4-f9d6e329c478",
   "metadata": {},
   "source": [
    "### Explainable AI techniques"
   ]
  },
  {
   "cell_type": "markdown",
   "id": "5964ea65-f21f-43d8-950a-ac94f12468bf",
   "metadata": {},
   "source": [
    "The setup of XAI techniques consists of three main methods. \n",
    "\n",
    "__Prediction accuracy__ and __traceability__ address technology requirements while __decision understanding__ addresses human needs."
   ]
  },
  {
   "cell_type": "markdown",
   "id": "c661503f-e840-4eb0-bf57-01ac0a98150d",
   "metadata": {},
   "source": [
    "#### Prediction accuracy"
   ]
  },
  {
   "cell_type": "markdown",
   "id": "0e9ba269-08e1-46be-b432-1d256592c1a9",
   "metadata": {},
   "source": [
    "Running simulations and comparing XAI output to the results in the training data set, the prediction accuracy can be determined. \n",
    "\n",
    "\n",
    "Local Interpretable Model-Agnostic Explanations (LIME) \n",
    "\n",
    "    - It tests what happens to the predictions when you give variations of your data into the machine learning model. \n",
    "\n",
    "SHAP (SHapley Additive exPlanations) \n",
    "\n",
    "    - It is a game theoretic approach to explain the output of any machine learning model.\n",
    "    \n",
    "    - It reflects the significance of the contribution of features for each output prediction.\n",
    "\n"
   ]
  },
  {
   "cell_type": "markdown",
   "id": "15d69d7e-cfe4-44a4-8fac-2df7b66d7abc",
   "metadata": {},
   "source": [
    "#### Traceability"
   ]
  },
  {
   "cell_type": "markdown",
   "id": "f957b8a2-3ee4-47d1-abed-ec13e34ac2c4",
   "metadata": {},
   "source": [
    "- DeepLIFT (Deep Learning Important FeaTures), which compares the activation of each neuron to its reference neuron and shows a traceable link between each activated neuron and even shows dependencies between them.\n",
    "\n",
    "- Gradient-weighted Class Activation Map (Gradcam), used to generate heatmaps which highlights the important region of the image that contribute the way a model performs as it does. "
   ]
  },
  {
   "cell_type": "markdown",
   "id": "0a219e33-85be-41bd-949c-6feb786256db",
   "metadata": {},
   "source": [
    "## Experiments on Synthetic Data"
   ]
  },
  {
   "cell_type": "code",
   "execution_count": 1,
   "id": "63da8ba3-8277-40c4-b4e3-d46912fa8b8f",
   "metadata": {},
   "outputs": [],
   "source": [
    "import numpy as np\n",
    "import matplotlib.pyplot as plt\n",
    "import torch\n",
    "from torch import nn\n",
    "import pandas as pd\n",
    "import torch.utils.data as Data\n",
    "from torchinfo import summary\n",
    "\n",
    "from torch.nn import functional as F\n",
    "\n",
    "from torch.nn.functional import softmax, interpolate\n",
    "from torchvision.transforms.functional import normalize, resize, to_pil_image\n",
    "\n",
    "from torchcam.methods import SmoothGradCAMpp, LayerCAM\n",
    "from torchcam.utils import overlay_mask"
   ]
  },
  {
   "cell_type": "code",
   "execution_count": 2,
   "id": "ca177256-e837-46e7-b9f5-c413186fb704",
   "metadata": {},
   "outputs": [],
   "source": [
    "device = torch.device('cuda' if torch.cuda.is_available() else 'cpu')"
   ]
  },
  {
   "cell_type": "code",
   "execution_count": 3,
   "id": "8ae5753b-70f0-43a1-9ebe-225324f42b07",
   "metadata": {},
   "outputs": [
    {
     "name": "stdout",
     "output_type": "stream",
     "text": [
      "cpu\n"
     ]
    }
   ],
   "source": [
    "print(device)"
   ]
  },
  {
   "cell_type": "code",
   "execution_count": 4,
   "id": "07e1f199-4f63-49a0-8847-863b9095c5c1",
   "metadata": {},
   "outputs": [],
   "source": [
    "def makeImages(nEach):\n",
    "    images = np.zeros((nEach * 2, 1, 20, 20))  # nSamples, nChannels, rows, columns\n",
    "    radii = 3 + np.random.randint(10 - 5, size=(nEach * 2, 1))\n",
    "    centers = np.zeros((nEach * 2, 2))\n",
    "    for i in range(nEach * 2):\n",
    "        r = radii[i, 0]\n",
    "        centers[i, :] = r + 1 + np.random.randint(18 - 2 * r, size=(1, 2))\n",
    "        x = int(centers[i, 0])\n",
    "        y = int(centers[i, 1])\n",
    "        if i < nEach:\n",
    "            # squares\n",
    "            images[i, 0, x - r:x + r, y + r] = 1.0\n",
    "            images[i, 0, x - r:x + r, y - r] = 1.0\n",
    "            images[i, 0, x - r, y - r:y + r] = 1.0\n",
    "            images[i, 0, x + r, y - r:y + r + 1] = 1.0\n",
    "        else:\n",
    "            # diamonds\n",
    "            images[i, 0, range(x - r, x), range(y, y + r)] = 1.0\n",
    "            images[i, 0, range(x - r, x), range(y, y - r, -1)] = 1.0\n",
    "            images[i, 0, range(x, x + r + 1), range(y + r, y - 1, -1)] = 1.0\n",
    "            images[i, 0, range(x, x + r), range(y - r, y)] = 1.0\n",
    "\n",
    "        T = np.zeros((nEach * 2, 1))\n",
    "        T[nEach:] = 1\n",
    "    return images, T"
   ]
  },
  {
   "cell_type": "code",
   "execution_count": 5,
   "id": "4b9f39fd-f19f-4c04-ac89-a9a48e0fc525",
   "metadata": {},
   "outputs": [
    {
     "name": "stdout",
     "output_type": "stream",
     "text": [
      "(2000, 400) (2000, 1)\n"
     ]
    }
   ],
   "source": [
    "nEach = 1000\n",
    "X, T = makeImages(nEach)\n",
    "X = X.reshape(X.shape[0], -1)\n",
    "print(X.shape, T.shape)\n",
    "\n",
    "Xtest, Ttest = makeImages(nEach)\n",
    "Xtest = Xtest.reshape(Xtest.shape[0], -1)"
   ]
  },
  {
   "cell_type": "code",
   "execution_count": 6,
   "id": "131e89e5-f331-4e6e-aa67-c71b19d2cd34",
   "metadata": {},
   "outputs": [
    {
     "name": "stdout",
     "output_type": "stream",
     "text": [
      "[0. 1.]\n"
     ]
    },
    {
     "data": {
      "image/png": "[encoded data removed]",
      "text/plain": [
       "<Figure size 640x480 with 1 Axes>"
      ]
     },
     "metadata": {},
     "output_type": "display_data"
    }
   ],
   "source": [
    "print(np.unique(T))\n",
    "plt.plot(T);"
   ]
  },
  {
   "cell_type": "code",
   "execution_count": 7,
   "id": "66d55a96-2e40-445a-9e91-e57705c5ff17",
   "metadata": {},
   "outputs": [
    {
     "data": {
      "text/plain": [
       "([], [])"
      ]
     },
     "execution_count": 7,
     "metadata": {},
     "output_type": "execute_result"
    },
    {
     "data": {
      "image/png": "[encoded data removed]",
      "text/plain": [
       "<Figure size 640x480 with 1 Axes>"
      ]
     },
     "metadata": {},
     "output_type": "display_data"
    }
   ],
   "source": [
    "plt.imshow(-X[-1, :].reshape(20, 20), cmap='gray')\n",
    "plt.xticks([])\n",
    "plt.yticks([])"
   ]
  },
  {
   "cell_type": "code",
   "execution_count": 8,
   "id": "f7577e5e-331e-482c-998b-515607c6400b",
   "metadata": {},
   "outputs": [
    {
     "data": {
      "image/png": "[encoded data removed]",
      "text/plain": [
       "<Figure size 1000x300 with 18 Axes>"
      ]
     },
     "metadata": {},
     "output_type": "display_data"
    }
   ],
   "source": [
    "plt.figure(figsize=(10, 3))\n",
    "\n",
    "for i in range(1,10):\n",
    "    plt.subplot(2, 10, i + 1)\n",
    "    plt.imshow(-X[i-1, :].reshape(20,20), cmap='gray')\n",
    "    plt.xticks([])\n",
    "    plt.yticks([])\n",
    "\n",
    "    plt.subplot(2, 10, i + 11)\n",
    "    plt.imshow(-X[-i, :].reshape(20,20), cmap='gray')\n",
    "    plt.xticks([])\n",
    "    plt.yticks([])"
   ]
  },
  {
   "cell_type": "code",
   "execution_count": 9,
   "id": "faafaab5-d077-458b-bbf7-6707b9bf4f3b",
   "metadata": {},
   "outputs": [],
   "source": [
    "class DData(Data.Dataset):\n",
    "    def __init__(self, X, y):\n",
    "        self.X = torch.from_numpy(X.astype(np.float32))\n",
    "        self.y = torch.from_numpy(y.astype(np.float32))\n",
    "    \n",
    "    def __getitem__(self, i):\n",
    "        return self.X[i, :], self.y[i]\n",
    "\n",
    "    def __len__(self):\n",
    "        return len(self.X)"
   ]
  },
  {
   "cell_type": "code",
   "execution_count": 10,
   "id": "74063927-376f-417c-ac2d-1f8fd7a638d8",
   "metadata": {},
   "outputs": [],
   "source": [
    "Xtrain = DData(X,T)\n",
    "Xtest = DData(Xtest,Ttest)"
   ]
  },
  {
   "cell_type": "code",
   "execution_count": 11,
   "id": "0dc4be53-546b-4cb6-9838-4799903b3e03",
   "metadata": {},
   "outputs": [],
   "source": [
    "class myClassifier(nn.Module):\n",
    "    def __init__(self, n_features, hiddenA, hiddenB):\n",
    "        super(myClassifier, self).__init__()\n",
    "        self.fc1 = nn.Linear(n_features, hiddenA)\n",
    "        self.fc2 = nn.Linear(hiddenA, hiddenB)\n",
    "        self.output = nn.Linear(hiddenB, 1)\n",
    "        self.sigmoid = nn.Sigmoid()\n",
    "\n",
    "    def forward(self, x):\n",
    "        x = F.relu(self.fc1(x))\n",
    "        x = F.relu(self.fc2(x))\n",
    "        return self.sigmoid(self.output(x))"
   ]
  },
  {
   "cell_type": "code",
   "execution_count": 12,
   "id": "63bfa1aa-cea4-4040-9853-9456e661e78d",
   "metadata": {},
   "outputs": [],
   "source": [
    "model = myClassifier(X.shape[1], 25, 5)"
   ]
  },
  {
   "cell_type": "code",
   "execution_count": 13,
   "id": "4e9d3da0-cd8f-42a6-a0a2-f6edf02c934c",
   "metadata": {},
   "outputs": [
    {
     "data": {
      "text/plain": [
       "Linear(in_features=400, out_features=25, bias=True)"
      ]
     },
     "execution_count": 13,
     "metadata": {},
     "output_type": "execute_result"
    }
   ],
   "source": [
    "model.fc1"
   ]
  },
  {
   "cell_type": "code",
   "execution_count": 14,
   "id": "515fbce3-8dc3-440e-99ba-c889736be4de",
   "metadata": {},
   "outputs": [
    {
     "data": {
      "text/plain": [
       "torch.Size([25, 400])"
      ]
     },
     "execution_count": 14,
     "metadata": {},
     "output_type": "execute_result"
    }
   ],
   "source": [
    "model.fc1.weight.shape"
   ]
  },
  {
   "cell_type": "code",
   "execution_count": 15,
   "id": "62b568eb-ba07-49ea-9de3-33552e08cb31",
   "metadata": {},
   "outputs": [
    {
     "data": {
      "text/plain": [
       "torch.Size([25])"
      ]
     },
     "execution_count": 15,
     "metadata": {},
     "output_type": "execute_result"
    }
   ],
   "source": [
    "model.fc1.bias.shape"
   ]
  },
  {
   "cell_type": "code",
   "execution_count": 16,
   "id": "5ad368c4-477c-4075-bcad-486346827545",
   "metadata": {},
   "outputs": [
    {
     "data": {
      "text/plain": [
       "=================================================================\n",
       "Layer (type:depth-idx)                   Param #\n",
       "=================================================================\n",
       "myClassifier                             --\n",
       "├─Linear: 1-1                            10,025\n",
       "├─Linear: 1-2                            130\n",
       "├─Linear: 1-3                            6\n",
       "├─Sigmoid: 1-4                           --\n",
       "=================================================================\n",
       "Total params: 10,161\n",
       "Trainable params: 10,161\n",
       "Non-trainable params: 0\n",
       "================================================================="
      ]
     },
     "execution_count": 16,
     "metadata": {},
     "output_type": "execute_result"
    }
   ],
   "source": [
    "summary(model)"
   ]
  },
  {
   "cell_type": "code",
   "execution_count": 17,
   "id": "62ffd699-811d-44d5-9f7c-8b26ed9b88e6",
   "metadata": {},
   "outputs": [
    {
     "data": {
      "text/plain": [
       "[Parameter containing:\n",
       " tensor([[-0.0136,  0.0363, -0.0485,  ...,  0.0206,  0.0030, -0.0449],\n",
       "         [-0.0420, -0.0132,  0.0417,  ..., -0.0233, -0.0379,  0.0172],\n",
       "         [-0.0035, -0.0050, -0.0260,  ..., -0.0122,  0.0285,  0.0152],\n",
       "         ...,\n",
       "         [-0.0099, -0.0303, -0.0006,  ...,  0.0194, -0.0301,  0.0472],\n",
       "         [-0.0352, -0.0379,  0.0332,  ..., -0.0073, -0.0351,  0.0045],\n",
       "         [ 0.0343,  0.0425, -0.0052,  ...,  0.0118, -0.0236, -0.0358]],\n",
       "        requires_grad=True),\n",
       " Parameter containing:\n",
       " tensor([-0.0148,  0.0133,  0.0311,  0.0083, -0.0403,  0.0156,  0.0176,  0.0198,\n",
       "         -0.0181,  0.0375, -0.0046,  0.0119, -0.0410, -0.0282,  0.0321, -0.0219,\n",
       "          0.0127,  0.0347,  0.0009, -0.0327, -0.0425, -0.0083, -0.0354, -0.0384,\n",
       "          0.0312], requires_grad=True),\n",
       " Parameter containing:\n",
       " tensor([[ 7.0666e-02, -5.7031e-02,  1.6036e-01,  7.7450e-02,  1.2344e-02,\n",
       "          -1.3917e-01,  2.1174e-02, -6.4474e-02,  8.0815e-02, -1.4236e-01,\n",
       "          -3.7738e-02,  1.6440e-01, -4.4904e-02, -1.0299e-01,  2.6335e-02,\n",
       "           1.7869e-01, -1.6984e-01, -1.4651e-01, -1.8131e-01,  1.2600e-01,\n",
       "          -1.8986e-01,  6.6805e-02, -2.1900e-02,  7.1945e-02,  1.9686e-01],\n",
       "         [-1.8689e-01, -6.5327e-05, -1.0306e-01,  1.8283e-01,  1.9486e-02,\n",
       "          -1.2968e-01,  5.4096e-03, -2.0394e-02, -1.4830e-01, -1.2615e-01,\n",
       "           8.6712e-02, -1.3972e-02, -1.4291e-02,  5.4350e-02, -1.1092e-01,\n",
       "          -1.2260e-01,  1.2492e-01,  1.1463e-02,  1.0625e-01,  1.8256e-01,\n",
       "          -1.6115e-03, -1.7868e-01, -1.1073e-01,  1.2273e-01, -1.2421e-01],\n",
       "         [-1.5327e-01, -1.0204e-01,  6.4618e-02,  1.9300e-01,  1.6172e-01,\n",
       "           1.7300e-01,  1.9273e-01,  1.1162e-01, -1.4545e-01, -1.5088e-01,\n",
       "          -8.1238e-02, -1.8172e-01, -1.0187e-01, -9.8908e-02,  5.9397e-02,\n",
       "           1.3663e-01, -1.8991e-01,  6.4745e-02, -9.1326e-02,  1.2838e-01,\n",
       "           1.7419e-01, -1.3021e-02,  3.0999e-02, -5.0766e-02,  7.7496e-02],\n",
       "         [ 9.5693e-02,  1.8778e-01, -1.1260e-01, -1.4781e-01, -7.5350e-02,\n",
       "          -1.7379e-01,  1.6188e-01,  4.7851e-02, -1.5798e-02,  1.0411e-01,\n",
       "           1.5424e-02,  1.3889e-01,  1.4271e-01, -1.6356e-01, -1.0904e-01,\n",
       "           1.4727e-01,  1.6893e-01, -7.1045e-02, -1.8532e-03,  4.1635e-02,\n",
       "          -1.6913e-01, -1.2881e-01, -1.8103e-01, -9.6378e-02,  1.6509e-01],\n",
       "         [ 2.4530e-02, -6.0802e-02,  3.0058e-02, -1.6878e-01, -2.6575e-02,\n",
       "           5.6160e-02,  1.9586e-02, -1.9784e-01, -1.7507e-01, -1.5154e-01,\n",
       "          -1.8021e-01, -1.4369e-01, -1.3770e-01,  1.6370e-01, -8.5303e-02,\n",
       "           1.2956e-01, -3.4200e-02,  2.8648e-02,  3.2329e-02,  8.0959e-03,\n",
       "          -1.0839e-01, -1.5207e-01,  1.7939e-01, -2.3391e-02,  8.9146e-02]],\n",
       "        requires_grad=True),\n",
       " Parameter containing:\n",
       " tensor([-0.1437,  0.1311,  0.0295,  0.1315,  0.1422], requires_grad=True),\n",
       " Parameter containing:\n",
       " tensor([[-0.0886, -0.3083, -0.0676,  0.2190,  0.3119]], requires_grad=True),\n",
       " Parameter containing:\n",
       " tensor([-0.2034], requires_grad=True)]"
      ]
     },
     "execution_count": 17,
     "metadata": {},
     "output_type": "execute_result"
    }
   ],
   "source": [
    "list(model.parameters())"
   ]
  },
  {
   "cell_type": "code",
   "execution_count": 18,
   "id": "5250b20e-f324-440d-b983-fdd94b023f22",
   "metadata": {},
   "outputs": [],
   "source": [
    "batch_size = 1\n",
    "train_loader = Data.DataLoader(Xtrain, batch_size=batch_size, shuffle=True, num_workers= 0)\n",
    "test_loader = Data.DataLoader(Xtest, batch_size=batch_size, shuffle=True, num_workers= 0)"
   ]
  },
  {
   "cell_type": "code",
   "execution_count": 19,
   "id": "112f956b-7b00-4538-bbbf-12d3d58862c8",
   "metadata": {},
   "outputs": [],
   "source": [
    "activation = {}\n",
    "gradients = {}\n",
    "\n",
    "def forward_hook(module, inpt, outpt):\n",
    "    global activation\n",
    "    activation[module] = outpt\n",
    "\n",
    "def grad_hook(module, inpt, outpt):\n",
    "    global gradients\n",
    "    gradients[module] = outpt\n",
    "\n",
    "def get_all_layers(model):\n",
    "    for name, layer in model._modules.items():\n",
    "        if isinstance(layer, nn.Sequential):\n",
    "            get_all_layers(layer)\n",
    "        else:\n",
    "            # non sequential\n",
    "            layer.register_forward_hook(forward_hook)\n",
    "            layer.register_full_backward_hook(grad_hook)"
   ]
  },
  {
   "cell_type": "code",
   "execution_count": 20,
   "id": "c3a0f334-11d1-47e5-baaa-72b533cd966a",
   "metadata": {},
   "outputs": [],
   "source": [
    "get_all_layers(model)"
   ]
  },
  {
   "cell_type": "code",
   "execution_count": 21,
   "id": "846c5b96-73a1-4119-9166-cf11857e9653",
   "metadata": {},
   "outputs": [],
   "source": [
    "loss_function = nn.BCELoss()\n",
    "optimizer = torch.optim.Adam(model.parameters(), lr=1e-4)"
   ]
  },
  {
   "cell_type": "code",
   "execution_count": 22,
   "id": "b07b957e-a848-47eb-bf0b-725b6c9dc539",
   "metadata": {},
   "outputs": [
    {
     "name": "stdout",
     "output_type": "stream",
     "text": [
      "Epoch 1 \t Loss: 0.63176\n",
      "Epoch 2 \t Loss: 0.40336\n",
      "Epoch 3 \t Loss: 0.21177\n",
      "Epoch 4 \t Loss: 0.10007\n",
      "Epoch 5 \t Loss: 0.04426\n",
      "Epoch 6 \t Loss: 0.01923\n",
      "Epoch 7 \t Loss: 0.00829\n",
      "Epoch 8 \t Loss: 0.00364\n",
      "Epoch 9 \t Loss: 0.00161\n",
      "Epoch 10 \t Loss: 0.00070\n"
     ]
    }
   ],
   "source": [
    "n_epochs = 10\n",
    "all_losses = []\n",
    "for epoch in range(n_epochs):\n",
    "    losses = []\n",
    "    total = 0\n",
    "    for x, y in train_loader:\n",
    "        \n",
    "        optimizer.zero_grad()\n",
    "        \n",
    "        y_pred = model(x)\n",
    "        loss = loss_function(y_pred, y)\n",
    "        \n",
    "        loss.backward()\n",
    "        optimizer.step()\n",
    "        \n",
    "        losses.append(loss.item())\n",
    "        total += 1\n",
    "\n",
    "    epoch_loss = sum(losses) / total\n",
    "    all_losses.append(epoch_loss)\n",
    "                \n",
    "    mess = f\"Epoch {epoch+1} \\t Loss: {all_losses[-1]:.5f}\"\n",
    "    print(mess)"
   ]
  },
  {
   "cell_type": "code",
   "execution_count": 23,
   "id": "81dcc616-7666-437f-88cb-caae60005454",
   "metadata": {},
   "outputs": [],
   "source": [
    "y_pred = []\n",
    "y_true = []\n",
    "\n",
    "model.eval()\n",
    "with torch.no_grad():\n",
    "    for x, y in test_loader:\n",
    "        y_pred.extend(model(x).numpy().round())\n",
    "        y_true.extend(y.numpy())"
   ]
  },
  {
   "cell_type": "code",
   "execution_count": 24,
   "id": "27a43ce7-6731-4db0-b70c-3671fc8db592",
   "metadata": {},
   "outputs": [
    {
     "name": "stdout",
     "output_type": "stream",
     "text": [
      "Accuracy: 1.0 %\n"
     ]
    }
   ],
   "source": [
    "from sklearn.metrics import accuracy_score\n",
    "\n",
    "accuracy = accuracy_score(y_true, y_pred)\n",
    "\n",
    "print(f'Accuracy: {accuracy:.1f} %')"
   ]
  },
  {
   "cell_type": "code",
   "execution_count": 25,
   "id": "9ea6e652-116c-4b62-9c50-b415c05bfe35",
   "metadata": {},
   "outputs": [],
   "source": [
    "model.train()\n",
    "\n",
    "y_pred = model(torch.from_numpy(X[3, :].astype(np.float32)))\n",
    "#optimizer.zero_grad()\n",
    "#loss = loss_function(y_pred, y[0])\n",
    "#loss.backward()\n",
    "#optimizer.step()\n"
   ]
  },
  {
   "cell_type": "code",
   "execution_count": 26,
   "id": "c6fc032e-d6dc-45f8-8ab4-5848d0f55366",
   "metadata": {},
   "outputs": [
    {
     "name": "stdout",
     "output_type": "stream",
     "text": [
      "Linear(in_features=400, out_features=25, bias=True)\n",
      "Linear(in_features=25, out_features=5, bias=True)\n",
      "Linear(in_features=5, out_features=1, bias=True)\n",
      "Sigmoid()\n"
     ]
    }
   ],
   "source": [
    "for layer in activation:\n",
    "    print(layer)"
   ]
  },
  {
   "cell_type": "code",
   "execution_count": 27,
   "id": "6a72089f-4345-4a9c-adf3-789f2c9e8fdd",
   "metadata": {},
   "outputs": [
    {
     "name": "stdout",
     "output_type": "stream",
     "text": [
      "Sigmoid()\n",
      "Linear(in_features=5, out_features=1, bias=True)\n",
      "Linear(in_features=25, out_features=5, bias=True)\n",
      "Linear(in_features=400, out_features=25, bias=True)\n"
     ]
    }
   ],
   "source": [
    "for layer in gradients:\n",
    "    print(layer)"
   ]
  },
  {
   "cell_type": "code",
   "execution_count": 28,
   "id": "6ec41664-6012-4c1e-836b-15b9a03beea2",
   "metadata": {},
   "outputs": [
    {
     "data": {
      "text/plain": [
       "{Linear(in_features=400, out_features=25, bias=True): tensor([-0.0877, -0.1092, -0.0483,  0.8331, -0.3791, -0.0387,  2.3818, -0.1082,\n",
       "          0.4221, -0.0282,  0.9509, -0.0360,  0.0146,  3.1930,  0.5869, -0.0127,\n",
       "          4.4674,  1.6859,  1.5229,  1.7732,  0.7069,  0.9986, -0.0412,  1.0619,\n",
       "         -0.1171], grad_fn=<ViewBackward0>),\n",
       " Linear(in_features=25, out_features=5, bias=True): tensor([-1.6457e+00,  6.0000e+00,  5.3971e+00, -5.4090e-03, -1.1302e-01],\n",
       "        grad_fn=<ViewBackward0>),\n",
       " Linear(in_features=5, out_features=1, bias=True): tensor([-8.3786], grad_fn=<ViewBackward0>),\n",
       " Sigmoid(): tensor([0.0002], grad_fn=<SigmoidBackward0>)}"
      ]
     },
     "execution_count": 28,
     "metadata": {},
     "output_type": "execute_result"
    }
   ],
   "source": [
    "activation"
   ]
  },
  {
   "cell_type": "code",
   "execution_count": 29,
   "id": "d37a15fe-6ebd-49f8-aa56-47b7be0eaecc",
   "metadata": {},
   "outputs": [
    {
     "data": {
      "text/plain": [
       "{Sigmoid(): (tensor([[-1.0000]]),),\n",
       " Linear(in_features=5, out_features=1, bias=True): (tensor([[-4.3035e-05]]),),\n",
       " Linear(in_features=25, out_features=5, bias=True): (tensor([[ 0.0000e+00,  3.5723e-05,  2.6998e-05, -3.7272e-05, -4.0199e-05]]),),\n",
       " Linear(in_features=400, out_features=25, bias=True): (tensor([[ 0.0000e+00,  0.0000e+00, -3.0983e-05,  4.6823e-05,  3.7486e-05,\n",
       "            0.0000e+00, -5.1577e-06,  4.0621e-05,  3.3572e-05,  0.0000e+00,\n",
       "            4.2921e-05, -7.3928e-05, -5.3653e-05,  1.1247e-05,  0.0000e+00,\n",
       "           -7.3535e-05,  5.8413e-06,  2.1286e-05,  1.8781e-05,  2.8299e-05,\n",
       "            4.8802e-05,  3.7276e-05, -7.3042e-05,  3.6163e-05,  0.0000e+00]]),)}"
      ]
     },
     "execution_count": 29,
     "metadata": {},
     "output_type": "execute_result"
    }
   ],
   "source": [
    "gradients"
   ]
  },
  {
   "cell_type": "code",
   "execution_count": 30,
   "id": "2bf7a3b8-5efd-492b-8633-674b53bd5263",
   "metadata": {},
   "outputs": [],
   "source": [
    "act = [v for v in activation.values()]\n",
    "act0 = act[0]"
   ]
  },
  {
   "cell_type": "code",
   "execution_count": 31,
   "id": "b020792a-d4c1-4ab0-afdb-807b3aa29ed0",
   "metadata": {},
   "outputs": [
    {
     "data": {
      "text/plain": [
       "torch.Size([25])"
      ]
     },
     "execution_count": 31,
     "metadata": {},
     "output_type": "execute_result"
    }
   ],
   "source": [
    "act0.shape"
   ]
  },
  {
   "cell_type": "code",
   "execution_count": 32,
   "id": "06e10242-a0f6-461e-a40e-dbf268c67e80",
   "metadata": {},
   "outputs": [],
   "source": [
    "grad = [v for v in gradients.values()]\n",
    "grad3 = grad[3][0]"
   ]
  },
  {
   "cell_type": "code",
   "execution_count": 33,
   "id": "0cc70140-1f6d-4fa5-b829-31506485a6e6",
   "metadata": {},
   "outputs": [
    {
     "data": {
      "text/plain": [
       "torch.Size([1, 25])"
      ]
     },
     "execution_count": 33,
     "metadata": {},
     "output_type": "execute_result"
    }
   ],
   "source": [
    "grad3.size()"
   ]
  },
  {
   "cell_type": "code",
   "execution_count": 35,
   "id": "924686bb-8481-4707-95b6-1942472eece3",
   "metadata": {},
   "outputs": [
    {
     "data": {
      "text/plain": [
       "([], [])"
      ]
     },
     "execution_count": 35,
     "metadata": {},
     "output_type": "execute_result"
    },
    {
     "data": {
      "image/png": "[encoded data removed]",
      "text/plain": [
       "<Figure size 640x480 with 1 Axes>"
      ]
     },
     "metadata": {},
     "output_type": "display_data"
    }
   ],
   "source": [
    "# weight the activation by corresponding gradients\n",
    "act0 *= grad3[0,:]\n",
    "\n",
    "# relu on top of the heatmap\n",
    "heatmap = F.relu(act0)\n",
    "\n",
    "# normalize the heatmap\n",
    "heatmap /= torch.max(heatmap)\n",
    "\n",
    "# draw the heatmap\n",
    "plt.imshow(heatmap.reshape(5,5).detach().numpy())\n",
    "plt.xticks([])\n",
    "plt.yticks([])"
   ]
  },
  {
   "cell_type": "code",
   "execution_count": 36,
   "id": "7cc5a707-92be-4056-8cd3-e80b417b759f",
   "metadata": {},
   "outputs": [],
   "source": [
    "from torchvision.transforms.functional import to_pil_image\n",
    "from matplotlib import colormaps\n",
    "import PIL"
   ]
  },
  {
   "cell_type": "code",
   "execution_count": 37,
   "id": "f4fd3097-1a3b-4bab-9f14-b55bffcd7a15",
   "metadata": {},
   "outputs": [
    {
     "data": {
      "image/png": "[encoded data removed]",
      "text/plain": [
       "<Figure size 640x480 with 1 Axes>"
      ]
     },
     "metadata": {},
     "output_type": "display_data"
    }
   ],
   "source": [
    "fig, ax = plt.subplots()\n",
    "ax.axis('off') # removes the axis markers\n",
    "\n",
    "# First plot the original image\n",
    "ax.imshow(to_pil_image(-X[3, :].reshape(20,20), mode='L'))\n",
    "overlay = to_pil_image(heatmap.reshape(5,5), mode='F').resize((20,20), resample=PIL.Image.BICUBIC)\n",
    "\n",
    "cmap = colormaps['jet']\n",
    "overlay = (255 * cmap(np.asarray(overlay) ** 2)).astype(np.uint8)\n",
    "\n",
    "ax.imshow(overlay, alpha=0.6, interpolation='nearest')\n",
    "\n",
    "plt.show()"
   ]
  },
  {
   "cell_type": "code",
   "execution_count": null,
   "id": "8b9f8d00-7112-478c-a46d-b42eddf8a9d3",
   "metadata": {},
   "outputs": [],
   "source": []
  }
 ],
 "metadata": {
  "kernelspec": {
   "display_name": "Python 3 (ipykernel)",
   "language": "python",
   "name": "python3"
  },
  "language_info": {
   "codemirror_mode": {
    "name": "ipython",
    "version": 3
   },
   "file_extension": ".py",
   "mimetype": "text/x-python",
   "name": "python",
   "nbconvert_exporter": "python",
   "pygments_lexer": "ipython3",
   "version": "3.12.1"
  }
 },
 "nbformat": 4,
 "nbformat_minor": 5
}
